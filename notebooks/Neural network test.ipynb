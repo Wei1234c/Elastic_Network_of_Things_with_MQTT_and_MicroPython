{
 "cells": [
  {
   "cell_type": "markdown",
   "metadata": {},
   "source": [
    "# Neural Network test (not tested yet)"
   ]
  },
  {
   "cell_type": "markdown",
   "metadata": {},
   "source": [
    "Start a Mosquitto container first. For example:\n",
    "- Use `codes\\_demo\\1_start_broker.sh` to start a Mosquitto container on Raspberry Pi.\n",
    "- Config files are in `mqtt_config\\mqtt`.\n",
    "- set `allow_anonymous true` in `mqtt_config\\mqtt\\config\\mosquitto.conf` to allow anonymous client."
   ]
  },
  {
   "cell_type": "markdown",
   "metadata": {},
   "source": [
    "## Getting Started\n",
    "What this notebook does:  \n",
    "- Using:\n",
    " - a client on PC\n",
    " - 6 ESP8266 modules (NodeMCU and D1 mini) as remote nodes\n",
    "- List connected nodes\n",
    "- Rename remote nodes\n",
    "- Setup neural network configuration (connections, weights, thresholds)\n",
    "- Fire up neurons and get logs."
   ]
  },
  {
   "cell_type": "code",
   "execution_count": null,
   "metadata": {
    "collapsed": true
   },
   "outputs": [],
   "source": [
    "import os\n",
    "import sys\n",
    "import time\n",
    " \n",
    "sys.path.append(os.path.abspath(os.path.join(os.path.pardir, 'codes', 'client')))\n",
    "sys.path.append(os.path.abspath(os.path.join(os.path.pardir, 'codes', 'node')))\n",
    "sys.path.append(os.path.abspath(os.path.join(os.path.pardir, 'codes', 'shared')))\n",
    "sys.path.append(os.path.abspath(os.path.join(os.path.pardir, 'codes', 'micropython')))\n",
    " \n",
    "import client\n",
    "from collections import OrderedDict"
   ]
  },
  {
   "cell_type": "code",
   "execution_count": null,
   "metadata": {
    "collapsed": false
   },
   "outputs": [],
   "source": [
    "import pandas as pd\n",
    "from pandas import DataFrame\n",
    "from time import sleep\n",
    "REFRACTORY_PERIOD = 0.1   # 0.1 seconds"
   ]
  },
  {
   "cell_type": "code",
   "execution_count": null,
   "metadata": {
    "collapsed": true
   },
   "outputs": [],
   "source": [
    "# Each ESP8266 modules represents a neuron. We have 6 of them.\n",
    "neurons = ['neuron_x1', 'neuron_x2', 'neuron_h1', 'neuron_h2', 'neuron_h3', 'neuron_y'] "
   ]
  },
  {
   "cell_type": "markdown",
   "metadata": {},
   "source": [
    "## Start client"
   ]
  },
  {
   "cell_type": "code",
   "execution_count": null,
   "metadata": {
    "collapsed": false
   },
   "outputs": [],
   "source": [
    "the_client = client.Client()\n",
    "the_client.start()\n",
    "\n",
    "while not the_client.status['Is connected']:            \n",
    "    time.sleep(1)\n",
    "    print('Node not ready yet.')"
   ]
  },
  {
   "cell_type": "markdown",
   "metadata": {},
   "source": [
    "## Utility functions"
   ]
  },
  {
   "cell_type": "code",
   "execution_count": null,
   "metadata": {
    "collapsed": false
   },
   "outputs": [],
   "source": [
    "# Ask Hub for a list of connected nodes\n",
    "def list_nodes():\n",
    "    the_client.node.worker.roll_call()\n",
    "    time.sleep(2)\n",
    "    remote_nodes = sorted(the_client.node.worker.contacts.keys())\n",
    "\n",
    "    print('\\n[____________ Connected nodes ____________]\\n')\n",
    "    print('\\nConnected nodes:\\n{}\\n'.format(remote_nodes))\n",
    "        \n",
    "    return remote_nodes"
   ]
  },
  {
   "cell_type": "code",
   "execution_count": null,
   "metadata": {
    "collapsed": false
   },
   "outputs": [],
   "source": [
    "def reset_node(node):\n",
    "    message = {'message_type': 'exec',\n",
    "               'to_exec': 'import machine;machine.reset()'}\n",
    "    the_client.request(node, message) "
   ]
  },
  {
   "cell_type": "code",
   "execution_count": null,
   "metadata": {
    "collapsed": false
   },
   "outputs": [],
   "source": [
    "def rename_node(node, new_name):\n",
    "    \n",
    "    with open('temp.py', 'w') as f:\n",
    "        f.write('WORKER_NAME = ' + '\\\"' + new_name + '\\\"\\n')\n",
    "        \n",
    "    with open('temp.py') as f:\n",
    "        script = f.read()\n",
    "        message = {'message_type': 'file',\n",
    "                   'file': script,\n",
    "                   'kwargs': {'filename': 'worker_config.py'}}\n",
    "        the_client.request(node, message)\n",
    "    \n",
    "    os.remove('temp.py')\n",
    "    \n",
    "    time.sleep(1)\n",
    "    reset_node(node)\n",
    "    \n",
    "\n",
    "def rename_nodes(nodes, neurons):    \n",
    "    i = 0 \n",
    "    for node in nodes:\n",
    "        if node != the_client.node.worker.name:  # exclude client self\n",
    "            rename_node(node, neurons[i])\n",
    "            i += 1"
   ]
  },
  {
   "cell_type": "code",
   "execution_count": null,
   "metadata": {
    "collapsed": false
   },
   "outputs": [],
   "source": [
    "def fire(node):\n",
    "    message = {'message_type': 'function',\n",
    "               'function': 'fire'}\n",
    "    the_client.request(node, message) \n",
    "\n",
    "def addConnection(node, neuron):\n",
    "    message = {'message_type': 'function',\n",
    "               'function': 'addConnection',\n",
    "               'kwargs': {'neuron_id': neuron}}\n",
    "    the_client.request(node, message) \n",
    "    \n",
    "def set_connections(node, connections):\n",
    "    message = {'message_type': 'function',\n",
    "               'function': 'setConnections',\n",
    "               'kwargs': {'connections': connections}}\n",
    "    the_client.request(node, message)     \n",
    "    \n",
    "def get_connections(node):\n",
    "    message = {'message_type': 'function',\n",
    "               'function': 'getConnections', \n",
    "               'need_result': True}\n",
    "    _, result = the_client.request(node, message) \n",
    "    return result.get()    \n",
    "\n",
    "def setWeight(node, neuron, weight):\n",
    "    message = {'message_type': 'function',\n",
    "               'function': 'setWeight',\n",
    "               'kwargs': {'neuron_id': neuron,\n",
    "                          'weight': weight,}}\n",
    "    the_client.request(node, message) \n",
    "\n",
    "def setThreshold(node, threshold):\n",
    "    message = {'message_type': 'function',\n",
    "               'function': 'setThreshold',\n",
    "               'kwargs': {'threshold': threshold}}\n",
    "    the_client.request(node, message) \n",
    "        \n",
    "def getConfig(node):\n",
    "    message = {'message_type': 'function',\n",
    "               'function': 'getConfig', \n",
    "               'need_result': True}\n",
    "    _, result = the_client.request(node, message) \n",
    "    return result.get()\n",
    "\n",
    "def getLog(node):\n",
    "    message = {'message_type': 'function',\n",
    "               'function': 'getLog', \n",
    "               'need_result': True}\n",
    "    _, result = the_client.request(node, message) \n",
    "    return result.get()\n",
    "\n",
    "def emptyLog(node):\n",
    "    message = {'message_type': 'function',\n",
    "               'function': 'emptyLog'}\n",
    "    the_client.request(node, message)\n",
    "    \n",
    "def emptyLogs():\n",
    "    for neuron in neurons:\n",
    "        emptyLog(neuron) \n",
    "        \n",
    "def mergeLogs():\n",
    "    logs = []\n",
    "    \n",
    "    for neuron in neurons:\n",
    "        if neuron != the_client.node.worker.name:  # exclude client self\n",
    "            currentLog = getLog(neuron)\n",
    "            if currentLog:\n",
    "                logs += currentLog \n",
    "            \n",
    "    df = DataFrame(list(logs), columns = ['time', 'neuron', 'message']) \n",
    "    df.set_index('time', inplace = True)\n",
    "    df.sort_index(inplace = True)\n",
    "    \n",
    "    return df        "
   ]
  },
  {
   "cell_type": "code",
   "execution_count": null,
   "metadata": {
    "collapsed": false
   },
   "outputs": [],
   "source": [
    "def printConfig(neuron):\n",
    "    print('{0:_^78}\\n {1}\\n'.format(neuron + \" config:\", getConfig(neuron)))"
   ]
  },
  {
   "cell_type": "markdown",
   "metadata": {},
   "source": [
    "## List connected nodes"
   ]
  },
  {
   "cell_type": "code",
   "execution_count": null,
   "metadata": {
    "collapsed": false
   },
   "outputs": [],
   "source": [
    "remote_nodes = list_nodes()"
   ]
  },
  {
   "cell_type": "markdown",
   "metadata": {},
   "source": [
    "## Rename nodes"
   ]
  },
  {
   "cell_type": "code",
   "execution_count": null,
   "metadata": {
    "collapsed": false
   },
   "outputs": [],
   "source": [
    "rename_nodes(remote_nodes, neurons) \n",
    "time.sleep(2)\n",
    "remote_nodes = list_nodes()"
   ]
  },
  {
   "cell_type": "code",
   "execution_count": null,
   "metadata": {
    "collapsed": false
   },
   "outputs": [],
   "source": [
    "remote_nodes = list_nodes()"
   ]
  },
  {
   "cell_type": "markdown",
   "metadata": {},
   "source": [
    "## Setup network configuration"
   ]
  },
  {
   "cell_type": "markdown",
   "metadata": {},
   "source": [
    "### Clear log files"
   ]
  },
  {
   "cell_type": "code",
   "execution_count": null,
   "metadata": {
    "collapsed": false
   },
   "outputs": [],
   "source": [
    "emptyLogs()"
   ]
  },
  {
   "cell_type": "markdown",
   "metadata": {
    "collapsed": true
   },
   "source": [
    "### Setup connections"
   ]
  },
  {
   "cell_type": "code",
   "execution_count": null,
   "metadata": {
    "collapsed": false
   },
   "outputs": [],
   "source": [
    "addConnection('neuron_x1', 'neuron_h1')\n",
    "addConnection('neuron_x1', 'neuron_h2')\n",
    "\n",
    "addConnection('neuron_x2', 'neuron_h2')\n",
    "addConnection('neuron_x2', 'neuron_h3')\n",
    "\n",
    "addConnection('neuron_h1', 'neuron_y')\n",
    "addConnection('neuron_h2', 'neuron_y')\n",
    "addConnection('neuron_h3', 'neuron_y')"
   ]
  },
  {
   "cell_type": "markdown",
   "metadata": {},
   "source": [
    "### Setup weights"
   ]
  },
  {
   "cell_type": "code",
   "execution_count": null,
   "metadata": {
    "collapsed": false
   },
   "outputs": [],
   "source": [
    "# hidden layer\n",
    "setWeight('neuron_h1', 'neuron_x1', 1) \n",
    "setWeight('neuron_h2', 'neuron_x1', 1) \n",
    "\n",
    "setWeight('neuron_h2', 'neuron_x2', 1) \n",
    "setWeight('neuron_h3', 'neuron_x2', 1) \n",
    "\n",
    "setWeight('neuron_y', 'neuron_h1', 1) \n",
    "setWeight('neuron_y', 'neuron_h2', -2) \n",
    "setWeight('neuron_y', 'neuron_h3', 1) "
   ]
  },
  {
   "cell_type": "markdown",
   "metadata": {},
   "source": [
    "### Setup thresholds"
   ]
  },
  {
   "cell_type": "code",
   "execution_count": null,
   "metadata": {
    "collapsed": false
   },
   "outputs": [],
   "source": [
    "# input layer \n",
    "setThreshold('neuron_x1', 0.9)\n",
    "setThreshold('neuron_x2', 0.9)\n",
    "\n",
    "setThreshold('neuron_h1', 0.9)\n",
    "setThreshold('neuron_h2', 1.9)\n",
    "setThreshold('neuron_h3', 0.9)\n",
    "\n",
    "setThreshold('neuron_y', 0.9)"
   ]
  },
  {
   "cell_type": "markdown",
   "metadata": {},
   "source": [
    "## Simulate sensor input，then observe outputs of neurons"
   ]
  },
  {
   "cell_type": "code",
   "execution_count": null,
   "metadata": {
    "collapsed": false
   },
   "outputs": [],
   "source": [
    "### Wait for a while until action potential quiet down.\n",
    "emptyLogs()\n",
    "sleep(REFRACTORY_PERIOD) \n",
    "mergeLogs()"
   ]
  },
  {
   "cell_type": "code",
   "execution_count": null,
   "metadata": {
    "collapsed": false
   },
   "outputs": [],
   "source": [
    "### Simulate sensor input，force neuron_x1 to fire\n",
    "emptyLogs()\n",
    "sleep(REFRACTORY_PERIOD)\n",
    "fire('neuron_x1') \n",
    "mergeLogs() "
   ]
  },
  {
   "cell_type": "code",
   "execution_count": null,
   "metadata": {
    "collapsed": false
   },
   "outputs": [],
   "source": [
    "### Simulate sensor input，force neuron_x2 to fire\n",
    "emptyLogs()\n",
    "sleep(REFRACTORY_PERIOD)\n",
    "fire('neuron_x2') \n",
    "mergeLogs() "
   ]
  },
  {
   "cell_type": "code",
   "execution_count": null,
   "metadata": {
    "collapsed": false,
    "scrolled": true
   },
   "outputs": [],
   "source": [
    "### Simulate sensor input，force neuron_x1 and neuron_x2 to fire\n",
    "emptyLogs()\n",
    "sleep(REFRACTORY_PERIOD)\n",
    "fire('neuron_x1')\n",
    "fire('neuron_x2') \n",
    "mergeLogs() "
   ]
  },
  {
   "cell_type": "code",
   "execution_count": null,
   "metadata": {
    "collapsed": false
   },
   "outputs": [],
   "source": [
    "for neuron in reversed(neurons): printConfig(neuron)"
   ]
  },
  {
   "cell_type": "markdown",
   "metadata": {},
   "source": [
    "## Stop the demo"
   ]
  },
  {
   "cell_type": "code",
   "execution_count": null,
   "metadata": {
    "collapsed": false
   },
   "outputs": [],
   "source": [
    "# Stopping\n",
    "the_client.stop()\n",
    "the_client = None\n",
    "print ('\\n[________________ Demo stopped ________________]\\n')"
   ]
  }
 ],
 "metadata": {
  "anaconda-cloud": {},
  "kernelspec": {
   "display_name": "Python 3",
   "language": "python",
   "name": "python3"
  },
  "language_info": {
   "codemirror_mode": {
    "name": "ipython",
    "version": 3
   },
   "file_extension": ".py",
   "mimetype": "text/x-python",
   "name": "python",
   "nbconvert_exporter": "python",
   "pygments_lexer": "ipython3",
   "version": "3.5.1"
  }
 },
 "nbformat": 4,
 "nbformat_minor": 0
}

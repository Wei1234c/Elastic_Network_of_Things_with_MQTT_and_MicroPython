{
 "cells": [
  {
   "cell_type": "markdown",
   "metadata": {},
   "source": [
    "# Neural Network demo"
   ]
  },
  {
   "cell_type": "markdown",
   "metadata": {},
   "source": [
    "Start a Mosquitto container first. For example:\n",
    "- Use `codes\\_demo\\1_start_broker.sh` to start a Mosquitto container on Raspberry Pi.\n",
    "- Config files are in `mqtt_config\\mqtt`.\n",
    "- set `allow_anonymous true` in `mqtt_config\\mqtt\\config\\mosquitto.conf` to allow anonymous client."
   ]
  },
  {
   "cell_type": "markdown",
   "metadata": {},
   "source": [
    "## Getting Started\n",
    "What this notebook does:  \n",
    "- Using:\n",
    " - a client on PC\n",
    " - 6 ESP8266 modules (NodeMCU and D1 mini) as remote nodes\n",
    "- List connected nodes\n",
    "- Rename remote nodes\n",
    "- Setup neural network configuration (connections, weights, thresholds)\n",
    "- Fire up neurons and get logs."
   ]
  },
  {
   "cell_type": "code",
   "execution_count": 1,
   "metadata": {
    "collapsed": true
   },
   "outputs": [],
   "source": [
    "import os\n",
    "import sys\n",
    "import time\n",
    " \n",
    "sys.path.append(os.path.abspath(os.path.join(os.path.pardir, os.path.sep.join(['..', 'codes']), 'client')))\n",
    "sys.path.append(os.path.abspath(os.path.join(os.path.pardir, os.path.sep.join(['..', 'codes']), 'node')))\n",
    "sys.path.append(os.path.abspath(os.path.join(os.path.pardir, os.path.sep.join(['..', 'codes']), 'shared')))\n",
    "sys.path.append(os.path.abspath(os.path.join(os.path.pardir, os.path.sep.join(['..', 'codes']), 'micropython')))\n",
    " \n",
    "import client\n",
    "from collections import OrderedDict"
   ]
  },
  {
   "cell_type": "code",
   "execution_count": 2,
   "metadata": {
    "collapsed": true
   },
   "outputs": [],
   "source": [
    "import pandas as pd\n",
    "from pandas import DataFrame\n",
    "from time import sleep\n",
    "REFRACTORY_PERIOD = 0.1   # 0.1 seconds"
   ]
  },
  {
   "cell_type": "markdown",
   "metadata": {},
   "source": [
    "### List of neurons"
   ]
  },
  {
   "cell_type": "code",
   "execution_count": 3,
   "metadata": {},
   "outputs": [
    {
     "data": {
      "text/plain": [
       "['n_Alpha', 'n_Beta', 'n_Lambda']"
      ]
     },
     "execution_count": 3,
     "metadata": {},
     "output_type": "execute_result"
    }
   ],
   "source": [
    "neurons = ['n_Alpha', 'n_Beta', 'n_Lambda'] \n",
    "# neurons = ['n_Alpha']\n",
    "neurons"
   ]
  },
  {
   "cell_type": "markdown",
   "metadata": {},
   "source": [
    "## Start client"
   ]
  },
  {
   "cell_type": "code",
   "execution_count": 4,
   "metadata": {},
   "outputs": [
    {
     "name": "stdout",
     "output_type": "stream",
     "text": [
      "My name is Client_366\n",
      "\n",
      "Sending 277 bytes\n",
      "Message:\n",
      "OrderedDict([('command', 'set connection name'), ('correlation_id', '2017-06-07 17:35:14.045200'), ('kwargs', {'name': 'Client_366'}), ('message_id', '2017-06-07 17:35:14.045200'), ('message_type', 'command'), ('need_result', True), ('receiver', 'Hub'), ('reply_to', 'Client_366'), ('sender', 'Client_366')])\n",
      "\n",
      "\n",
      "[Connected: ('123.110.13.5', 1883)]\n",
      "[Listen to messages]\n",
      "Node not ready yet.\n"
     ]
    }
   ],
   "source": [
    "the_client = client.Client()\n",
    "the_client.start()\n",
    "\n",
    "while not the_client.status['Is connected']:            \n",
    "    time.sleep(1)\n",
    "    print('Node not ready yet.')"
   ]
  },
  {
   "cell_type": "markdown",
   "metadata": {},
   "source": [
    "## Utility functions"
   ]
  },
  {
   "cell_type": "code",
   "execution_count": 5,
   "metadata": {
    "collapsed": true
   },
   "outputs": [],
   "source": [
    "# # Ask Hub for a list of connected nodes\n",
    "# def list_nodes():\n",
    "#     the_client.node.worker.roll_call()\n",
    "#     time.sleep(2)\n",
    "#     remote_nodes = sorted(the_client.node.worker.contacts.keys())\n",
    "\n",
    "#     print('\\n[____________ Connected nodes ____________]\\n')\n",
    "#     print('\\nConnected nodes:\\n{}\\n'.format(remote_nodes))\n",
    "        \n",
    "#     return remote_nodes"
   ]
  },
  {
   "cell_type": "code",
   "execution_count": 6,
   "metadata": {
    "collapsed": true
   },
   "outputs": [],
   "source": [
    "def reset_node(node):\n",
    "    message = {'message_type': 'exec',\n",
    "               'to_exec': 'import machine;machine.reset()'}\n",
    "    the_client.request(node, message) "
   ]
  },
  {
   "cell_type": "code",
   "execution_count": 7,
   "metadata": {
    "collapsed": true
   },
   "outputs": [],
   "source": [
    "def fire(node):\n",
    "    message = {'message_type': 'function',\n",
    "               'function': 'fire'}\n",
    "    the_client.request(node, message) \n",
    "\n",
    "def addConnection(node, neuron):\n",
    "    message = {'message_type': 'function',\n",
    "               'function': 'addConnection',\n",
    "               'kwargs': {'neuron_id': neuron}}\n",
    "    the_client.request(node, message) \n",
    "    \n",
    "def set_connections(node, connections):\n",
    "    message = {'message_type': 'function',\n",
    "               'function': 'setConnections',\n",
    "               'kwargs': {'connections': connections}}\n",
    "    the_client.request(node, message)     \n",
    "    \n",
    "def get_connections(node):\n",
    "    message = {'message_type': 'function',\n",
    "               'function': 'getConnections', \n",
    "               'need_result': True}\n",
    "    _, result = the_client.request(node, message) \n",
    "    return result.get()    \n",
    "\n",
    "def setWeight(node, neuron, weight):\n",
    "    message = {'message_type': 'function',\n",
    "               'function': 'setWeight',\n",
    "               'kwargs': {'neuron_id': neuron,\n",
    "                          'weight': weight,}}\n",
    "    the_client.request(node, message) \n",
    "\n",
    "def setThreshold(node, threshold):\n",
    "    message = {'message_type': 'function',\n",
    "               'function': 'setThreshold',\n",
    "               'kwargs': {'threshold': threshold}}\n",
    "    the_client.request(node, message) \n",
    "        \n",
    "def getConfig(node):\n",
    "    message = {'message_type': 'function',\n",
    "               'function': 'getConfig', \n",
    "               'need_result': True}\n",
    "    _, result = the_client.request(node, message) \n",
    "    return result.get()\n",
    "\n",
    "def getLog(node):\n",
    "    message = {'message_type': 'function',\n",
    "               'function': 'getLog', \n",
    "               'need_result': True}\n",
    "    _, result = the_client.request(node, message) \n",
    "    return result.get()\n",
    "\n",
    "def emptyLog(node):\n",
    "    message = {'message_type': 'function',\n",
    "               'function': 'emptyLog'}\n",
    "    the_client.request(node, message)\n",
    "    \n",
    "def emptyLogs():\n",
    "    for neuron in neurons:\n",
    "        emptyLog(neuron)\n",
    "        \n",
    "def mergeLogs():\n",
    "    logs = []\n",
    "    \n",
    "    for neuron in neurons:\n",
    "        if neuron != the_client.node.worker.name:  # exclude client self\n",
    "            currentLog = getLog(neuron)\n",
    "            if currentLog:\n",
    "                logs += currentLog \n",
    "            \n",
    "    df = DataFrame(list(logs), columns = ['time', 'neuron', 'message']) \n",
    "    df.set_index('time', inplace = True)\n",
    "    df.sort_index(inplace = True)\n",
    "    \n",
    "    return df        "
   ]
  },
  {
   "cell_type": "code",
   "execution_count": 8,
   "metadata": {
    "collapsed": true
   },
   "outputs": [],
   "source": [
    "def printConfig(neuron):\n",
    "    print('{0:_^78}\\n {1}\\n'.format(neuron + \" config:\", getConfig(neuron)))"
   ]
  },
  {
   "cell_type": "markdown",
   "metadata": {},
   "source": [
    "### Reset neurons"
   ]
  },
  {
   "cell_type": "code",
   "execution_count": 9,
   "metadata": {},
   "outputs": [
    {
     "name": "stdout",
     "output_type": "stream",
     "text": [
      "\n",
      "Data received: 227 bytes\n",
      "Message:\n",
      "OrderedDict([('command', 'set connection name'), ('correlation_id', '7318'), ('kwargs', {'name': 'n_Lambda'}), ('message_id', '7318'), ('message_type', 'command'), ('need_result', True), ('receiver', 'Hub'), ('reply_to', 'n_Lambda'), ('sender', 'n_Lambda')])\n",
      "\n"
     ]
    }
   ],
   "source": [
    "# reset_node('Hub');"
   ]
  },
  {
   "cell_type": "markdown",
   "metadata": {},
   "source": [
    "### Probe neurons by blinking LEDs"
   ]
  },
  {
   "cell_type": "code",
   "execution_count": 10,
   "metadata": {},
   "outputs": [
    {
     "name": "stdout",
     "output_type": "stream",
     "text": [
      "\n",
      "Sending 275 bytes\n",
      "Message:\n",
      "OrderedDict([('command', 'blink led'), ('correlation_id', '2017-06-07 17:35:37.052200'), ('kwargs', {'times': 3, 'on_seconds': 0.1, 'off_seconds': 0.1}), ('message_id', '2017-06-07 17:35:37.052200'), ('message_type', 'command'), ('receiver', 'Hub'), ('reply_to', 'Client_366'), ('sender', 'Client_366')])\n",
      "\n",
      "\n",
      "Data received: 275 bytes\n",
      "Message:\n",
      "OrderedDict([('command', 'blink led'), ('correlation_id', '2017-06-07 17:35:37.052200'), ('kwargs', {'times': 3, 'on_seconds': 0.1, 'off_seconds': 0.1}), ('message_id', '2017-06-07 17:35:37.052200'), ('message_type', 'command'), ('receiver', 'Hub'), ('reply_to', 'Client_366'), ('sender', 'Client_366')])\n",
      "\n"
     ]
    }
   ],
   "source": [
    "messages = {}\n",
    "messages['blink_led'] = {'message_type': 'command',\n",
    "                         'command': 'blink led',\n",
    "                         'kwargs': {'times': 3, 'on_seconds': 0.1, 'off_seconds': 0.1}}\n",
    "\n",
    "the_client.request('Hub', messages['blink_led']);"
   ]
  },
  {
   "cell_type": "markdown",
   "metadata": {
    "collapsed": true
   },
   "source": [
    "### Setup connections / weights / thresholds"
   ]
  },
  {
   "cell_type": "code",
   "execution_count": 11,
   "metadata": {},
   "outputs": [
    {
     "name": "stdout",
     "output_type": "stream",
     "text": [
      "\n",
      "Sending 259 bytes\n",
      "Message:\n",
      "OrderedDict([('correlation_id', '2017-06-07 17:35:57.413200'), ('function', 'addConnection'), ('kwargs', {'neuron_id': 'n_Lambda'}), ('message_id', '2017-06-07 17:35:57.413200'), ('message_type', 'function'), ('receiver', 'n_Alpha'), ('reply_to', 'Client_366'), ('sender', 'Client_366')])\n",
      "\n",
      "\n",
      "Sending 258 bytes\n",
      "Sending 268 bytes\n",
      "\n",
      "Message:\n",
      "OrderedDict([('correlation_id', '2017-06-07 17:35:57.935200'), ('function', 'setWeight'), ('kwargs', {'neuron_id': 'n_Alpha', 'weight': 1}), ('message_id', '2017-06-07 17:35:57.935200'), ('message_type', 'function'), ('receiver', 'n_Lambda'), ('reply_to', 'Client_366'), ('sender', 'Client_366')])\n",
      "Message:\n",
      "OrderedDict([('correlation_id', '2017-06-07 17:35:57.722200'), ('function', 'addConnection'), ('kwargs', {'neuron_id': 'n_Lambda'}), ('message_id', '2017-06-07 17:35:57.722200'), ('message_type', 'function'), ('receiver', 'n_Beta'), ('reply_to', 'Client_366'), ('sender', 'Client_366')])\n",
      "\n",
      "\n",
      "\n",
      "Sending 267 bytes\n",
      "Message:\n",
      "OrderedDict([('correlation_id', '2017-06-07 17:35:58.029200'), ('function', 'setWeight'), ('kwargs', {'neuron_id': 'n_Beta', 'weight': 1}), ('message_id', '2017-06-07 17:35:58.029200'), ('message_type', 'function'), ('receiver', 'n_Lambda'), ('reply_to', 'Client_366'), ('sender', 'Client_366')])\n",
      "\n"
     ]
    }
   ],
   "source": [
    "addConnection('n_Alpha', 'n_Lambda');\n",
    "addConnection('n_Beta', 'n_Lambda');\n",
    "\n",
    "setWeight('n_Lambda', 'n_Alpha', 1); \n",
    "setWeight('n_Lambda', 'n_Beta', 1);"
   ]
  },
  {
   "cell_type": "code",
   "execution_count": 14,
   "metadata": {},
   "outputs": [
    {
     "name": "stdout",
     "output_type": "stream",
     "text": [
      "\n",
      "Sending 252 bytes\n",
      "Message:\n",
      "OrderedDict([('correlation_id', '2017-06-07 17:36:25.004200'), ('function', 'setThreshold'), ('kwargs', {'threshold': 1.8}), ('message_id', '2017-06-07 17:36:25.004200'), ('message_type', 'function'), ('receiver', 'n_Lambda'), ('reply_to', 'Client_366'), ('sender', 'Client_366')])\n",
      "\n",
      "\n",
      "Sending 213 bytes\n",
      "Message:\n",
      "OrderedDict([('correlation_id', '2017-06-07 17:36:25.501200'), ('function', 'fire'), ('message_id', '2017-06-07 17:36:25.501200'), ('message_type', 'function'), ('receiver', 'n_Alpha'), ('reply_to', 'Client_366'), ('sender', 'Client_366')])\n",
      "\n",
      "\n",
      "Sending 212 bytes\n",
      "Message:\n",
      "OrderedDict([('correlation_id', '2017-06-07 17:36:25.725200'), ('function', 'fire'), ('message_id', '2017-06-07 17:36:25.725200'), ('message_type', 'function'), ('receiver', 'n_Beta'), ('reply_to', 'Client_366'), ('sender', 'Client_366')])\n",
      "\n"
     ]
    }
   ],
   "source": [
    "setThreshold('n_Lambda', 1.8);  # input enough to trigger Lambda\n",
    "fire('n_Alpha');\n",
    "fire('n_Beta');"
   ]
  },
  {
   "cell_type": "code",
   "execution_count": 13,
   "metadata": {},
   "outputs": [
    {
     "name": "stdout",
     "output_type": "stream",
     "text": [
      "\n",
      "Sending 252 bytes\n",
      "Message:\n",
      "OrderedDict([('correlation_id', '2017-06-02 10:04:54.317000'), ('function', 'setThreshold'), ('kwargs', {'threshold': 1.8}), ('message_id', '2017-06-02 10:04:54.317000'), ('message_type', 'function'), ('receiver', 'n_Lambda'), ('reply_to', 'Client_366'), ('sender', 'Client_366')])\n",
      "\n",
      "\n",
      "Sending 213 bytes\n",
      "Message:\n",
      "OrderedDict([('correlation_id', '2017-06-02 10:04:54.608000'), ('function', 'fire'), ('message_id', '2017-06-02 10:04:54.608000'), ('message_type', 'function'), ('receiver', 'n_Alpha'), ('reply_to', 'Client_366'), ('sender', 'Client_366')])\n",
      "\n"
     ]
    }
   ],
   "source": [
    "setThreshold('n_Lambda', 1.8);  # input not enough to trigger Lambda\n",
    "fire('n_Alpha'); "
   ]
  },
  {
   "cell_type": "code",
   "execution_count": 14,
   "metadata": {},
   "outputs": [
    {
     "name": "stdout",
     "output_type": "stream",
     "text": [
      "\n",
      "Sending 252 bytes\n",
      "Message:\n",
      "OrderedDict([('correlation_id', '2017-06-02 10:04:56.484000'), ('function', 'setThreshold'), ('kwargs', {'threshold': 2.8}), ('message_id', '2017-06-02 10:04:56.484000'), ('message_type', 'function'), ('receiver', 'n_Lambda'), ('reply_to', 'Client_366'), ('sender', 'Client_366')])\n",
      "\n",
      "\n",
      "Sending 213 bytes\n",
      "Message:\n",
      "OrderedDict([('correlation_id', '2017-06-02 10:04:56.600000'), ('function', 'fire'), ('message_id', '2017-06-02 10:04:56.600000'), ('message_type', 'function'), ('receiver', 'n_Alpha'), ('reply_to', 'Client_366'), ('sender', 'Client_366')])\n",
      "\n",
      "Sending 212 bytes\n",
      "\n",
      "Message:\n",
      "OrderedDict([('correlation_id', '2017-06-02 10:04:56.774000'), ('function', 'fire'), ('message_id', '2017-06-02 10:04:56.774000'), ('message_type', 'function'), ('receiver', 'n_Beta'), ('reply_to', 'Client_366'), ('sender', 'Client_366')])\n",
      "\n"
     ]
    }
   ],
   "source": [
    "setThreshold('n_Lambda', 2.8);  # input not enough to trigger Lambda\n",
    "fire('n_Alpha');\n",
    "fire('n_Beta');"
   ]
  },
  {
   "cell_type": "code",
   "execution_count": 15,
   "metadata": {},
   "outputs": [
    {
     "name": "stdout",
     "output_type": "stream",
     "text": [
      "\n",
      "Sending 252 bytes\n",
      "Message:\n",
      "OrderedDict([('correlation_id', '2017-06-02 10:04:59.103000'), ('function', 'setThreshold'), ('kwargs', {'threshold': 1.8}), ('message_id', '2017-06-02 10:04:59.103000'), ('message_type', 'function'), ('receiver', 'n_Lambda'), ('reply_to', 'Client_366'), ('sender', 'Client_366')])\n",
      "\n",
      "\n",
      "Sending 213 bytes\n",
      "Message:\n",
      "OrderedDict([('correlation_id', '2017-06-02 10:04:59.314000'), ('function', 'fire'), ('message_id', '2017-06-02 10:04:59.314000'), ('message_type', 'function'), ('receiver', 'n_Alpha'), ('reply_to', 'Client_366'), ('sender', 'Client_366')])\n",
      "\n",
      "\n",
      "Sending 212 bytes\n",
      "Message:\n",
      "OrderedDict([('correlation_id', '2017-06-02 10:04:59.390000'), ('function', 'fire'), ('message_id', '2017-06-02 10:04:59.390000'), ('message_type', 'function'), ('receiver', 'n_Beta'), ('reply_to', 'Client_366'), ('sender', 'Client_366')])\n",
      "\n"
     ]
    }
   ],
   "source": [
    "setThreshold('n_Lambda', 1.8);  # input enough to trigger Lambda\n",
    "fire('n_Alpha');\n",
    "fire('n_Beta');"
   ]
  },
  {
   "cell_type": "code",
   "execution_count": 371,
   "metadata": {
    "collapsed": true
   },
   "outputs": [],
   "source": [
    "# setThreshold('n_Lambda', 1.8);\n",
    "\n",
    "# emptyLogs()\n",
    "# sleep(REFRACTORY_PERIOD)\n",
    "# fire('n_Alpha')\n",
    "# fire('n_Beta') \n",
    "# sleep(2)\n",
    "# mergeLogs()"
   ]
  },
  {
   "cell_type": "code",
   "execution_count": 372,
   "metadata": {
    "collapsed": true
   },
   "outputs": [],
   "source": [
    "# for neuron in reversed(neurons): printConfig(neuron)"
   ]
  },
  {
   "cell_type": "markdown",
   "metadata": {},
   "source": [
    "## Stop the demo"
   ]
  },
  {
   "cell_type": "code",
   "execution_count": 16,
   "metadata": {},
   "outputs": [
    {
     "name": "stdout",
     "output_type": "stream",
     "text": [
      "[Closed: ('123.110.62.174', 1883)]\n",
      "[________________ Demo stopped ________________]\n",
      "\n",
      "\n"
     ]
    }
   ],
   "source": [
    "# Stopping\n",
    "the_client.stop()\n",
    "the_client = None\n",
    "print ('\\n[________________ Demo stopped ________________]\\n')"
   ]
  }
 ],
 "metadata": {
  "anaconda-cloud": {},
  "kernelspec": {
   "display_name": "Python 3",
   "language": "python",
   "name": "python3"
  },
  "language_info": {
   "codemirror_mode": {
    "name": "ipython",
    "version": 3
   },
   "file_extension": ".py",
   "mimetype": "text/x-python",
   "name": "python",
   "nbconvert_exporter": "python",
   "pygments_lexer": "ipython3",
   "version": "3.5.3"
  }
 },
 "nbformat": 4,
 "nbformat_minor": 1
}

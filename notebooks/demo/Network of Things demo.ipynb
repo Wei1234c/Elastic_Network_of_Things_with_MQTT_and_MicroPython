{
 "cells": [
  {
   "cell_type": "markdown",
   "metadata": {},
   "source": [
    "# Network of Things demo"
   ]
  },
  {
   "cell_type": "markdown",
   "metadata": {},
   "source": [
    "Start a Mosquitto container first. For example:\n",
    "- Use `codes\\_demo\\1_start_broker.sh` to start a Mosquitto container on Raspberry Pi.\n",
    "- Config files are in `mqtt_config\\mqtt`.\n",
    "- set `allow_anonymous true` in `mqtt_config\\mqtt\\config\\mosquitto.conf` to allow anonymous client."
   ]
  },
  {
   "cell_type": "markdown",
   "metadata": {},
   "source": [
    "## Getting Started\n",
    "What this notebook does:  \n",
    "- Using a client on PC\n",
    "- List connected nodes\n",
    "- Send messages to remote nodes:\n",
    " - Return results (read GPIOs)via RPC mechanism.\n",
    " - Write data to remote nodes (write GPIOs).\n",
    " - Execute arbitrary code on remote nodes."
   ]
  },
  {
   "cell_type": "code",
   "execution_count": 1,
   "metadata": {},
   "outputs": [],
   "source": [
    "import os\n",
    "import sys\n",
    "import time\n",
    " \n",
    "sys.path.append(os.path.abspath(os.path.join(os.path.pardir, os.path.sep.join(['..', 'codes']), 'client')))\n",
    "sys.path.append(os.path.abspath(os.path.join(os.path.pardir, os.path.sep.join(['..', 'codes']), 'node')))\n",
    "sys.path.append(os.path.abspath(os.path.join(os.path.pardir, os.path.sep.join(['..', 'codes']), 'shared')))\n",
    "sys.path.append(os.path.abspath(os.path.join(os.path.pardir, os.path.sep.join(['..', 'codes']), 'micropython')))\n",
    " \n",
    "import client\n",
    "from collections import OrderedDict"
   ]
  },
  {
   "cell_type": "markdown",
   "metadata": {},
   "source": [
    "### Start client"
   ]
  },
  {
   "cell_type": "code",
   "execution_count": 2,
   "metadata": {},
   "outputs": [
    {
     "name": "stdout",
     "output_type": "stream",
     "text": [
      "My name is Client_366\n",
      "\n",
      "Sending 277 bytes\n",
      "Message:\n",
      "OrderedDict([('command', 'set connection name'), ('correlation_id', '2018-04-06 16:59:53.038210'), ('kwargs', {'name': 'Client_366'}), ('message_id', '2018-04-06 16:59:53.038210'), ('message_type', 'command'), ('need_result', True), ('receiver', 'Hub'), ('reply_to', 'Client_366'), ('sender', 'Client_366')])\n",
      "\n",
      "\n",
      "[Connected: ('123.240.210.68', 1883)]\n",
      "[Listen to messages]\n",
      "Node not ready yet.\n"
     ]
    }
   ],
   "source": [
    "the_client = client.Client()\n",
    "the_client.start()\n",
    "\n",
    "while not the_client.status['Is connected']:            \n",
    "    time.sleep(1)\n",
    "    print('Node not ready yet.')"
   ]
  },
  {
   "cell_type": "markdown",
   "metadata": {},
   "source": [
    "### Prepare messages"
   ]
  },
  {
   "cell_type": "code",
   "execution_count": 3,
   "metadata": {},
   "outputs": [
    {
     "name": "stdout",
     "output_type": "stream",
     "text": [
      "\n",
      "Data received: 255 bytes\n",
      "Message:\n",
      "OrderedDict([('command', 'set connection name'), ('correlation_id', '327027'), ('kwargs', {'name': 'NodeMCU_1d73c000'}), ('message_id', '327027'), ('message_type', 'command'), ('need_result', True), ('receiver', 'Hub'), ('reply_to', 'NodeMCU_1d73c000'), ('sender', 'NodeMCU_1d73c000')])\n",
      "\n"
     ]
    }
   ],
   "source": [
    "# messages _____________________________________________\n",
    "messages = OrderedDict()\n",
    "\n",
    "messages['read_GPIOs'] = {'message_type': 'command',\n",
    "                          'command': 'read GPIOs',\n",
    "                          'kwargs': {'pins': [5, 12, 13, 14, 15, 16]},\n",
    "                          'need_result': True}\n",
    "\n",
    "messages['blink_led'] = {'message_type': 'command',\n",
    "                         'command': 'blink led',\n",
    "                         'kwargs': {'times': 3, 'forever': False,\n",
    "                                    'on_seconds': 0.1, 'off_seconds': 0.1}}"
   ]
  },
  {
   "cell_type": "code",
   "execution_count": 4,
   "metadata": {},
   "outputs": [],
   "source": [
    "# remote_nodes = ['n_Lambda', 'n_Alpha', 'n_Beta']"
   ]
  },
  {
   "cell_type": "code",
   "execution_count": 5,
   "metadata": {},
   "outputs": [],
   "source": [
    "# remote_node = 'n_Alpha'\n",
    "# messages_ext = {}\n",
    "\n",
    "\n",
    "# messages_ext['blink_led'] = {'message_type': 'command',\n",
    "#                              'command': 'blink led',\n",
    "#                              'kwargs': {'times': 3, 'forever': False, 'on_seconds': 0.1, 'off_seconds': 0.1}}\n",
    "# the_client.request('Hub', messages_ext['blink_led']) \n",
    "\n",
    "\n",
    "# messages_ext['write_GPIOs'] = {'message_type': 'command',\n",
    "#                                'command': 'write GPIOs',\n",
    "#                                'kwargs': {'pins_and_values': [(2, 0), (2, 1), (2, 0),]}} \n",
    "# the_client.request(remote_node, messages_ext['write_GPIOs']) \n",
    "\n",
    "\n",
    "# messages_ext['test_eval'] = {'message_type': 'eval',\n",
    "#                              'to_evaluate': '2+3',\n",
    "#                              'need_result': True}                                   \n",
    "# _, result = the_client.request(remote_node, messages_ext['test_eval']) \n",
    "# print('result:', result.get())\n",
    "\n",
    "\n",
    "# messages_ext['test_exec'] = {'message_type': 'exec',\n",
    "#                              'to_exec': 'print(\"Hello World!\")'} \n",
    "# the_client.request(remote_node, messages_ext['test_exec']) \n",
    "\n",
    "\n",
    "# with open('script_to_deploy.py') as f:\n",
    "#     script = f.read()        \n",
    "# messages_ext['test_upload_script'] = {'message_type': 'script', \n",
    "#                                       'script': script} \n",
    "# the_client.request(remote_node, messages_ext['test_upload_script'])\n",
    "\n",
    "\n",
    "# messages_ext['test_function'] = {'message_type': 'function',\n",
    "#                                  'function': 'blink_led',\n",
    "#                                  'kwargs': {'times': 3, 'forever': False, \n",
    "#                                             'on_seconds': 0.1, 'off_seconds': 0.1}}\n",
    "# the_client.request(remote_node, messages_ext['test_function']) "
   ]
  },
  {
   "cell_type": "markdown",
   "metadata": {},
   "source": [
    "### List connected nodes"
   ]
  },
  {
   "cell_type": "code",
   "execution_count": 6,
   "metadata": {},
   "outputs": [
    {
     "name": "stdout",
     "output_type": "stream",
     "text": [
      "\n",
      "Sending 249 bytes\n",
      "Message:\n",
      "OrderedDict([('correlation_id', '2018-04-06 11:17:56.449591'), ('function', 'check_in'), ('kwargs', {'caller': 'Client_366'}), ('message_id', '2018-04-06 11:17:56.449591'), ('message_type', 'function'), ('receiver', 'Hub'), ('reply_to', 'Client_366'), ('sender', 'Client_366')])\n",
      "\n",
      "\n",
      "Data received: 249 bytes\n",
      "Message:\n",
      "OrderedDict([('correlation_id', '2018-04-06 11:17:56.449591'), ('function', 'check_in'), ('kwargs', {'caller': 'Client_366'}), ('message_id', '2018-04-06 11:17:56.449591'), ('message_type', 'function'), ('receiver', 'Hub'), ('reply_to', 'Client_366'), ('sender', 'Client_366')])\n",
      "\n",
      "\n",
      "Sending 172 bytes\n",
      "\n",
      "Data received: 172 bytes\n",
      "Message:\n",
      "OrderedDict([('function', 'register_contact'), ('kwargs', {'contact_id': 'Client_366', 'name': 'Client_366'}), ('message_type', 'function'), ('receiver', 'Client_366'), ('sender', 'Client_366')])\n",
      "\n",
      "\n",
      "[____________ Connected nodes ____________]\n",
      "\n",
      "\n",
      "Connected nodes:\n",
      "['Client_366']\n",
      "\n"
     ]
    }
   ],
   "source": [
    "the_client.node.worker.roll_call()\n",
    "time.sleep(2)\n",
    "remote_nodes = sorted(the_client.node.worker.contacts.keys())\n",
    "\n",
    "print('\\n[____________ Connected nodes ____________]\\n')\n",
    "print('\\nConnected nodes:\\n{}\\n'.format(remote_nodes))"
   ]
  },
  {
   "cell_type": "code",
   "execution_count": 7,
   "metadata": {
    "collapsed": true
   },
   "outputs": [],
   "source": [
    "# remote_nodes = ['n_Lambda', 'n_Alpha', 'n_Beta']"
   ]
  },
  {
   "cell_type": "markdown",
   "metadata": {},
   "source": [
    "### Blink each node\n",
    "[YouTube video clip](https://youtu.be/I_s-no_0L24)"
   ]
  },
  {
   "cell_type": "code",
   "execution_count": 8,
   "metadata": {},
   "outputs": [
    {
     "name": "stdout",
     "output_type": "stream",
     "text": [
      "\n",
      "Sending 300 bytes\n",
      "Sending 310 bytes\n",
      "\n",
      "Message:\n",
      "OrderedDict([('command', 'blink led'), ('correlation_id', '2017-12-15 11:04:39.988897'), ('kwargs', {'times': 3, 'forever': False, 'on_seconds': 0.1, 'off_seconds': 0.1}), ('message_id', '2017-12-15 11:04:39.988897'), ('message_type', 'command'), ('receiver', 'Client_366'), ('reply_to', 'Client_366'), ('sender', 'Client_366')])\n",
      "Message:\n",
      "OrderedDict([('command', 'blink led'), ('correlation_id', '2017-12-15 11:04:40.024993'), ('kwargs', {'times': 3, 'forever': False, 'on_seconds': 0.1, 'off_seconds': 0.1}), ('message_id', '2017-12-15 11:04:40.024993'), ('message_type', 'command'), ('receiver', 'NodeMCU_30aea44cbdc8'), ('reply_to', 'Client_366'), ('sender', 'Client_366')])\n",
      "\n",
      "\n",
      "\n",
      "Sending 306 bytes\n",
      "Message:\n",
      "OrderedDict([('command', 'blink led'), ('correlation_id', '2017-12-15 11:04:40.038063'), ('kwargs', {'times': 3, 'forever': False, 'on_seconds': 0.1, 'off_seconds': 0.1}), ('message_id', '2017-12-15 11:04:40.038063'), ('message_type', 'command'), ('receiver', 'NodeMCU_cdf80a00'), ('reply_to', 'Client_366'), ('sender', 'Client_366')])\n",
      "\n",
      "\n",
      "Data received: 300 bytes\n",
      "Message:\n",
      "OrderedDict([('command', 'blink led'), ('correlation_id', '2017-12-15 11:04:39.988897'), ('kwargs', {'times': 3, 'forever': False, 'on_seconds': 0.1, 'off_seconds': 0.1}), ('message_id', '2017-12-15 11:04:39.988897'), ('message_type', 'command'), ('receiver', 'Client_366'), ('reply_to', 'Client_366'), ('sender', 'Client_366')])\n",
      "\n"
     ]
    }
   ],
   "source": [
    "for remote_node in remote_nodes:\n",
    "    the_client.request(remote_node, messages['blink_led']) "
   ]
  },
  {
   "cell_type": "code",
   "execution_count": 5,
   "metadata": {},
   "outputs": [
    {
     "name": "stdout",
     "output_type": "stream",
     "text": [
      "\n",
      "Sending 293 bytes\n",
      "Message:\n",
      "OrderedDict([('command', 'blink led'), ('correlation_id', '2018-04-06 17:00:32.894453'), ('kwargs', {'times': 3, 'forever': False, 'on_seconds': 0.1, 'off_seconds': 0.1}), ('message_id', '2018-04-06 17:00:32.894453'), ('message_type', 'command'), ('receiver', 'Hub'), ('reply_to', 'Client_366'), ('sender', 'Client_366')])\n",
      "\n"
     ]
    },
    {
     "data": {
      "text/plain": [
       "({'sender': 'Client_366',\n",
       "  'receiver': 'Hub',\n",
       "  'message_type': 'command',\n",
       "  'message_id': '2018-04-06 17:00:32.894453',\n",
       "  'command': 'blink led',\n",
       "  'kwargs': {'times': 3,\n",
       "   'forever': False,\n",
       "   'on_seconds': 0.1,\n",
       "   'off_seconds': 0.1},\n",
       "  'reply_to': 'Client_366',\n",
       "  'correlation_id': '2018-04-06 17:00:32.894453'},\n",
       " None)"
      ]
     },
     "execution_count": 5,
     "metadata": {},
     "output_type": "execute_result"
    },
    {
     "name": "stdout",
     "output_type": "stream",
     "text": [
      "\n",
      "Data received: 293 bytes\n",
      "Message:\n",
      "OrderedDict([('command', 'blink led'), ('correlation_id', '2018-04-06 17:00:32.894453'), ('kwargs', {'times': 3, 'forever': False, 'on_seconds': 0.1, 'off_seconds': 0.1}), ('message_id', '2018-04-06 17:00:32.894453'), ('message_type', 'command'), ('receiver', 'Hub'), ('reply_to', 'Client_366'), ('sender', 'Client_366')])\n",
      "\n"
     ]
    }
   ],
   "source": [
    "the_client.request('Hub', messages['blink_led']) "
   ]
  },
  {
   "cell_type": "markdown",
   "metadata": {},
   "source": [
    "### Read one GPIO pin"
   ]
  },
  {
   "cell_type": "code",
   "execution_count": 12,
   "metadata": {},
   "outputs": [
    {
     "name": "stdout",
     "output_type": "stream",
     "text": [
      "\n",
      "Sending 286 bytes\n",
      "Message:\n",
      "OrderedDict([('command', 'read GPIOs'), ('correlation_id', '2017-12-18 10:45:04.108723'), ('kwargs', {'pins': [5, 12, 13, 14, 15, 16]}), ('message_id', '2017-12-18 10:45:04.108723'), ('message_type', 'command'), ('need_result', True), ('receiver', 'Client_366'), ('reply_to', 'Client_366'), ('sender', 'Client_366')])\n",
      "\n",
      "\n",
      "Data received: 286 bytes\n",
      "Message:\n",
      "OrderedDict([('command', 'read GPIOs'), ('correlation_id', '2017-12-18 10:45:04.108723'), ('kwargs', {'pins': [5, 12, 13, 14, 15, 16]}), ('message_id', '2017-12-18 10:45:04.108723'), ('message_type', 'command'), ('need_result', True), ('receiver', 'Client_366'), ('reply_to', 'Client_366'), ('sender', 'Client_366')])\n",
      "\n",
      "Processed result:\n",
      "OrderedDict([('correlation_id', '2017-12-18 10:45:04.108723'), ('message_id', '2017-12-18 10:45:04.480486'), ('message_type', 'result'), ('receiver', 'Client_366'), ('reply_to', 'Client_366'), ('result', 'Not applicable.'), ('sender', 'Client_366')])\n",
      "\n",
      "\n",
      "\n",
      "Sending 223 bytes\n",
      "Message:\n",
      "OrderedDict([('correlation_id', '2017-12-18 10:45:04.108723'), ('message_id', '2017-12-18 10:45:04.480486'), ('message_type', 'result'), ('receiver', 'Client_366'), ('reply_to', 'Client_366'), ('result', 'Not applicable.'), ('sender', 'Client_366')])\n",
      "\n",
      "\n",
      "Data received: 223 bytes\n",
      "Message:\n",
      "OrderedDict([('correlation_id', '2017-12-18 10:45:04.108723'), ('message_id', '2017-12-18 10:45:04.480486'), ('message_type', 'result'), ('receiver', 'Client_366'), ('reply_to', 'Client_366'), ('result', 'Not applicable.'), ('sender', 'Client_366')])\n",
      "\n",
      "GPIO status for Client_366: Not applicable.\n",
      "\n",
      "\n",
      "\n",
      "Sending 296 bytes\n",
      "Message:\n",
      "OrderedDict([('command', 'read GPIOs'), ('correlation_id', '2017-12-18 10:45:04.885329'), ('kwargs', {'pins': [5, 12, 13, 14, 15, 16]}), ('message_id', '2017-12-18 10:45:04.885329'), ('message_type', 'command'), ('need_result', True), ('receiver', 'NodeMCU_30aea44cbdc8'), ('reply_to', 'Client_366'), ('sender', 'Client_366')])\n",
      "\n",
      "\n",
      "Data received: 259 bytes\n",
      "Message:\n",
      "OrderedDict([('correlation_id', '2017-12-18 10:45:04.885329'), ('message_id', '284852'), ('message_type', 'result'), ('receiver', 'Client_366'), ('reply_to', 'NodeMCU_30aea44cbdc8'), ('result', [[5, 1], [12, 0], [13, 0], [14, 1], [15, 1], [16, 0]]), ('sender', 'NodeMCU_30aea44cbdc8')])\n",
      "\n",
      "\n",
      "GPIO status for NodeMCU_30aea44cbdc8: [[5, 1], [12, 0], [13, 0], [14, 1], [15, 1], [16, 0]]\n",
      "\n",
      "\n",
      "Data received: 269 bytes\n",
      "Message:\n",
      "OrderedDict([('command', 'set connection name'), ('correlation_id', '1530303'), ('kwargs', {'name': 'NodeMCU_30aea44cbdc8'}), ('message_id', '1530303'), ('message_type', 'command'), ('need_result', True), ('receiver', 'Hub'), ('reply_to', 'NodeMCU_30aea44cbdc8'), ('sender', 'NodeMCU_30aea44cbdc8')])\n",
      "\n",
      "[WinError 10054] 遠端主機已強制關閉一個現存的連線。\n",
      "[Closed: ('123.240.19.17', 1883)]\n"
     ]
    }
   ],
   "source": [
    "for remote_node in remote_nodes:\n",
    "    _, result = the_client.request(remote_node, messages['read_GPIOs']) \n",
    "    print('\\nGPIO status for {}: {}\\n'.format(remote_node, result.get()))"
   ]
  },
  {
   "cell_type": "markdown",
   "metadata": {},
   "source": [
    "### Send out messages and get asynchonous results"
   ]
  },
  {
   "cell_type": "code",
   "execution_count": 10,
   "metadata": {},
   "outputs": [
    {
     "name": "stdout",
     "output_type": "stream",
     "text": [
      "\n",
      "[______________ Sending messages ______________]\n",
      "\n",
      "\n",
      "Sending 292 bytes\n",
      "Message:\n",
      "OrderedDict([('command', 'read GPIOs'), ('correlation_id', '2017-09-27 22:34:37.179200'), ('kwargs', {'pins': [5, 12, 13, 14, 15, 16]}), ('message_id', '2017-09-27 22:34:37.179200'), ('message_type', 'command'), ('need_result', True), ('receiver', 'NodeMCU_1d73c000'), ('reply_to', 'Client_366'), ('sender', 'Client_366')])\n",
      "\n",
      "\n",
      "Sending 306 bytes\n",
      "Message:\n",
      "OrderedDict([('command', 'blink led'), ('correlation_id', '2017-09-27 22:34:37.374800'), ('kwargs', {'times': 3, 'off_seconds': 0.1, 'on_seconds': 0.1, 'forever': False}), ('message_id', '2017-09-27 22:34:37.374800'), ('message_type', 'command'), ('receiver', 'NodeMCU_1d73c000'), ('reply_to', 'Client_366'), ('sender', 'Client_366')])\n",
      "\n",
      "\n",
      "Data received: 251 bytes\n",
      "Message:\n",
      "OrderedDict([('correlation_id', '2017-09-27 22:34:37.179200'), ('message_id', '136860'), ('message_type', 'result'), ('receiver', 'Client_366'), ('reply_to', 'NodeMCU_1d73c000'), ('result', [[5, 0], [12, 1], [13, 1], [14, 1], [15, 0], [16, 0]]), ('sender', 'NodeMCU_1d73c000')])\n",
      "\n"
     ]
    }
   ],
   "source": [
    "print('\\n[______________ Sending messages ______________]\\n')\n",
    "\n",
    "results = []\n",
    "\n",
    "# send out the messages\n",
    "for message in messages.values():\n",
    "    for remote_node in remote_nodes:\n",
    "        if remote_node != the_client.node.worker.name:\n",
    "            time.sleep(0.1)  # PyCharm needs this delay.\n",
    "            formatted_message, asynch_result = the_client.request(remote_node, message)\n",
    "            results.append((formatted_message, asynch_result))"
   ]
  },
  {
   "cell_type": "markdown",
   "metadata": {},
   "source": [
    "### Actually get the results"
   ]
  },
  {
   "cell_type": "code",
   "execution_count": 11,
   "metadata": {},
   "outputs": [
    {
     "name": "stdout",
     "output_type": "stream",
     "text": [
      "\n",
      "[_________ Wait few seconds for reply _________]\n",
      "\n",
      "\n",
      "[Result for request]:\n",
      "___Request___:\n",
      "{'message_id': '2017-09-27 22:34:37.179200', 'correlation_id': '2017-09-27 22:34:37.179200', 'command': 'read GPIOs', 'receiver': 'NodeMCU_1d73c000', 'message_type': 'command', 'need_result': True, 'kwargs': {'pins': [5, 12, 13, 14, 15, 16]}, 'sender': 'Client_366', 'reply_to': 'Client_366'}\n",
      "___Result____:\n",
      "[[5, 0], [12, 1], [13, 1], [14, 1], [15, 0], [16, 0]]\n",
      "\n"
     ]
    }
   ],
   "source": [
    "# collect and print results        \n",
    "print('\\n[_________ Wait few seconds for reply _________]\\n')\n",
    "for (message, result) in results:\n",
    "    try:\n",
    "        if message.get('need_result'):\n",
    "            print('\\n[Result for request]:\\n___Request___:\\n{0}\\n___Result____:\\n{1}\\n'.format(message,\n",
    "                                                                                               result.get() if result else None))\n",
    "    except Exception as e:\n",
    "        print('\\n[{}]\\nMessage:\\n{}'.format(e, message))\n",
    "        \n",
    "# Wait a while\n",
    "time.sleep(3)        "
   ]
  },
  {
   "cell_type": "markdown",
   "metadata": {},
   "source": [
    "### Stop the demo"
   ]
  },
  {
   "cell_type": "code",
   "execution_count": 11,
   "metadata": {},
   "outputs": [
    {
     "ename": "AttributeError",
     "evalue": "'NoneType' object has no attribute 'stop'",
     "output_type": "error",
     "traceback": [
      "\u001b[1;31m---------------------------------------------------------------------------\u001b[0m",
      "\u001b[1;31mAttributeError\u001b[0m                            Traceback (most recent call last)",
      "\u001b[1;32m<ipython-input-11-6f9e8aed4f6a>\u001b[0m in \u001b[0;36m<module>\u001b[1;34m()\u001b[0m\n\u001b[0;32m      1\u001b[0m \u001b[1;31m# Stopping\u001b[0m\u001b[1;33m\u001b[0m\u001b[1;33m\u001b[0m\u001b[0m\n\u001b[1;32m----> 2\u001b[1;33m \u001b[0mthe_client\u001b[0m\u001b[1;33m.\u001b[0m\u001b[0mstop\u001b[0m\u001b[1;33m(\u001b[0m\u001b[1;33m)\u001b[0m\u001b[1;33m\u001b[0m\u001b[0m\n\u001b[0m\u001b[0;32m      3\u001b[0m \u001b[0mthe_client\u001b[0m \u001b[1;33m=\u001b[0m \u001b[1;32mNone\u001b[0m\u001b[1;33m\u001b[0m\u001b[0m\n\u001b[0;32m      4\u001b[0m \u001b[0mprint\u001b[0m\u001b[1;33m(\u001b[0m\u001b[1;34m'\\n[________________ Demo stopped ________________]\\n'\u001b[0m\u001b[1;33m)\u001b[0m\u001b[1;33m\u001b[0m\u001b[0m\n",
      "\u001b[1;31mAttributeError\u001b[0m: 'NoneType' object has no attribute 'stop'"
     ]
    }
   ],
   "source": [
    "# Stopping\n",
    "the_client.stop()\n",
    "the_client = None\n",
    "print('\\n[________________ Demo stopped ________________]\\n')"
   ]
  },
  {
   "cell_type": "code",
   "execution_count": null,
   "metadata": {
    "collapsed": true
   },
   "outputs": [],
   "source": []
  }
 ],
 "metadata": {
  "anaconda-cloud": {},
  "kernelspec": {
   "display_name": "Python 3",
   "language": "python",
   "name": "python3"
  },
  "language_info": {
   "codemirror_mode": {
    "name": "ipython",
    "version": 3
   },
   "file_extension": ".py",
   "mimetype": "text/x-python",
   "name": "python",
   "nbconvert_exporter": "python",
   "pygments_lexer": "ipython3",
   "version": "3.6.5"
  }
 },
 "nbformat": 4,
 "nbformat_minor": 1
}

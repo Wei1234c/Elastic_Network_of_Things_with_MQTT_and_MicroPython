{
 "cells": [
  {
   "cell_type": "markdown",
   "metadata": {},
   "source": [
    "# MQTT bridged LoRa networks - demo"
   ]
  },
  {
   "cell_type": "markdown",
   "metadata": {},
   "source": [
    "Start a Mosquitto container first. For example:\n",
    "- Use `codes\\_demo\\1_start_broker.sh` to start a Mosquitto container on Raspberry Pi.\n",
    "- Config files are in `mqtt_config\\mqtt`.\n",
    "- set `allow_anonymous true` in `mqtt_config\\mqtt\\config\\mosquitto.conf` to allow anonymous client."
   ]
  },
  {
   "cell_type": "markdown",
   "metadata": {},
   "source": [
    "## Getting Started\n",
    "What this notebook does:  \n",
    "- Using a client on PC\n",
    "- List connected nodes\n",
    "- Send messages to remote nodes:\n",
    " - Return results (read GPIOs)via RPC mechanism.\n",
    " - Write data to remote nodes (write GPIOs).\n",
    " - Execute arbitrary code on remote nodes."
   ]
  },
  {
   "cell_type": "code",
   "execution_count": 1,
   "metadata": {
    "collapsed": true
   },
   "outputs": [],
   "source": [
    "import os\n",
    "import sys\n",
    "import time\n",
    "import json\n",
    " \n",
    "sys.path.append(os.path.abspath(os.path.join(os.path.pardir, os.path.sep.join(['..', 'codes']), 'client')))\n",
    "sys.path.append(os.path.abspath(os.path.join(os.path.pardir, os.path.sep.join(['..', 'codes']), 'node')))\n",
    "sys.path.append(os.path.abspath(os.path.join(os.path.pardir, os.path.sep.join(['..', 'codes']), 'shared')))\n",
    "sys.path.append(os.path.abspath(os.path.join(os.path.pardir, os.path.sep.join(['..', 'codes']), 'micropython')))\n",
    " \n",
    "import client\n",
    "from collections import OrderedDict"
   ]
  },
  {
   "cell_type": "markdown",
   "metadata": {},
   "source": [
    "### Start client"
   ]
  },
  {
   "cell_type": "code",
   "execution_count": 2,
   "metadata": {},
   "outputs": [
    {
     "name": "stdout",
     "output_type": "stream",
     "text": [
      "My name is Client_366\n",
      "\n",
      "Sending 277 bytes\n",
      "Message:\n",
      "OrderedDict([('command', 'set connection name'), ('correlation_id', '2017-09-15 20:27:01.527900'), ('kwargs', {'name': 'Client_366'}), ('message_id', '2017-09-15 20:27:01.527900'), ('message_type', 'command'), ('need_result', True), ('receiver', 'Hub'), ('reply_to', 'Client_366'), ('sender', 'Client_366')])\n",
      "\n",
      "\n",
      "[Connected: ('123.240.78.187', 1883)]\n",
      "[Listen to messages]\n",
      "\n",
      "Data received: 280 bytes\n",
      "Message:\n",
      "OrderedDict([('correlation_id', '601981'), ('function', 'update_link'), ('kwargs', {'node_eui': '32aea4fffe054928', 'rssi': -67, 'gateway_eui': '32aea4fffe809528'}), ('message_id', '601981'), ('message_type', 'function'), ('receiver', 'Hub'), ('reply_to', '32aea4fffe809528'), ('sender', '32aea4fffe809528')])\n",
      "\n",
      "'Worker' object has no attribute 'update_link'\n",
      "\n",
      "Data received: 280 bytes\n",
      "Message:\n",
      "OrderedDict([('correlation_id', '639981'), ('function', 'update_link'), ('kwargs', {'node_eui': '32aea4fffe054928', 'rssi': -22, 'gateway_eui': '260ac4fffe0c1764'}), ('message_id', '639981'), ('message_type', 'function'), ('receiver', 'Hub'), ('reply_to', '260ac4fffe0c1764'), ('sender', '260ac4fffe0c1764')])\n",
      "\n",
      "'Worker' object has no attribute 'update_link'\n",
      "Node not ready yet.\n"
     ]
    }
   ],
   "source": [
    "the_client = client.Client()\n",
    "the_client.start()\n",
    "\n",
    "while not the_client.status['Is connected']:            \n",
    "    time.sleep(1)\n",
    "    print('Node not ready yet.')"
   ]
  },
  {
   "cell_type": "markdown",
   "metadata": {},
   "source": [
    "### List of nodes"
   ]
  },
  {
   "cell_type": "code",
   "execution_count": 3,
   "metadata": {},
   "outputs": [
    {
     "data": {
      "text/plain": [
       "['32aea4fffe809528', '260ac4fffe0c1764']"
      ]
     },
     "execution_count": 3,
     "metadata": {},
     "output_type": "execute_result"
    }
   ],
   "source": [
    "# NODE1_EUI = 'f3d308fffe00'\n",
    "# GATEWAY1_EUI = '32aea4fffe809528'\n",
    "# NODE2_EUI = '32aea4fffe054928'\n",
    "# GATEWAY2_EUI = '260ac4fffe0c1764'\n",
    "\n",
    "gateways = ['32aea4fffe809528', '260ac4fffe0c1764']\n",
    "gateways"
   ]
  },
  {
   "cell_type": "code",
   "execution_count": 4,
   "metadata": {},
   "outputs": [
    {
     "data": {
      "text/plain": [
       "'260ac4fffe0c1764'"
      ]
     },
     "execution_count": 4,
     "metadata": {},
     "output_type": "execute_result"
    }
   ],
   "source": [
    "gateway = '260ac4fffe0c1764'\n",
    "gateway"
   ]
  },
  {
   "cell_type": "markdown",
   "metadata": {},
   "source": [
    "### Prepare messages"
   ]
  },
  {
   "cell_type": "code",
   "execution_count": 5,
   "metadata": {},
   "outputs": [
    {
     "name": "stdout",
     "output_type": "stream",
     "text": [
      "\n",
      "Data received: 276 bytes\n",
      "Message:\n",
      "OrderedDict([('correlation_id', '603472'), ('function', 'update_link'), ('kwargs', {'node_eui': 'f3d308fffe00', 'rssi': -19, 'gateway_eui': '32aea4fffe809528'}), ('message_id', '603472'), ('message_type', 'function'), ('receiver', 'Hub'), ('reply_to', '32aea4fffe809528'), ('sender', '32aea4fffe809528')])\n",
      "\n",
      "'Worker' object has no attribute 'update_link'\n",
      "\n",
      "Data received: 276 bytes\n",
      "Message:\n",
      "OrderedDict([('correlation_id', '641520'), ('function', 'update_link'), ('kwargs', {'node_eui': 'f3d308fffe00', 'rssi': -65, 'gateway_eui': '260ac4fffe0c1764'}), ('message_id', '641520'), ('message_type', 'function'), ('receiver', 'Hub'), ('reply_to', '260ac4fffe0c1764'), ('sender', '260ac4fffe0c1764')])\n",
      "\n",
      "'Worker' object has no attribute 'update_link'\n",
      "\n",
      "Data received: 326 bytes\n"
     ]
    }
   ],
   "source": [
    "messages = OrderedDict();"
   ]
  },
  {
   "cell_type": "markdown",
   "metadata": {},
   "source": [
    "___\n",
    "## DEMOs\n",
    "___"
   ]
  },
  {
   "cell_type": "markdown",
   "metadata": {},
   "source": [
    "### Blink each node (broadcasting)"
   ]
  },
  {
   "cell_type": "code",
   "execution_count": 6,
   "metadata": {},
   "outputs": [
    {
     "name": "stdout",
     "output_type": "stream",
     "text": [
      "Message:\n",
      "OrderedDict([('correlation_id', '603993'), ('function', 'transmit_payload'), ('kwargs', {'payload_string': '{\"message\": \"ESP8266_f1d30800 199\", \"time\": 606065, \"to\": null, \"from\": \"f3d308fffe00\"}'}), ('message_id', '603993'), ('message_type', 'function'), ('receiver', 'Hub'), ('reply_to', '32aea4fffe809528'), ('sender', '32aea4fffe809528')])\n",
      "\n",
      "'Worker' object has no attribute 'transmit_payload'\n",
      "\n",
      "Sending 275 bytes\n",
      "Message:\n",
      "OrderedDict([('command', 'blink led'), ('correlation_id', '2017-09-15 20:27:04.309300'), ('kwargs', {'on_seconds': 0.1, 'times': 3, 'off_seconds': 0.1}), ('message_id', '2017-09-15 20:27:04.309300'), ('message_type', 'command'), ('receiver', 'Hub'), ('reply_to', 'Client_366'), ('sender', 'Client_366')])\n",
      "\n",
      "\n",
      "Data received: 275 bytes\n",
      "Message:\n",
      "OrderedDict([('command', 'blink led'), ('correlation_id', '2017-09-15 20:27:04.309300'), ('kwargs', {'on_seconds': 0.1, 'times': 3, 'off_seconds': 0.1}), ('message_id', '2017-09-15 20:27:04.309300'), ('message_type', 'command'), ('receiver', 'Hub'), ('reply_to', 'Client_366'), ('sender', 'Client_366')])\n",
      "\n",
      "\n",
      "Data received: 280 bytes\n",
      "Message:\n",
      "OrderedDict([('correlation_id', '605184'), ('function', 'update_link'), ('kwargs', {'node_eui': '32aea4fffe054928', 'rssi': -66, 'gateway_eui': '32aea4fffe809528'}), ('message_id', '605184'), ('message_type', 'function'), ('receiver', 'Hub'), ('reply_to', '32aea4fffe809528'), ('sender', '32aea4fffe809528')])\n",
      "\n",
      "'Worker' object has no attribute 'update_link'\n"
     ]
    }
   ],
   "source": [
    "messages['blink_led'] = {'message_type': 'command',\n",
    "                         'command': 'blink led',\n",
    "                         'kwargs': {'times': 3, 'on_seconds': 0.1, 'off_seconds': 0.1}}\n",
    "\n",
    "the_client.request('Hub', messages['blink_led']);"
   ]
  },
  {
   "cell_type": "markdown",
   "metadata": {},
   "source": [
    "### Send LoRa Packets"
   ]
  },
  {
   "cell_type": "code",
   "execution_count": 29,
   "metadata": {},
   "outputs": [
    {
     "data": {
      "text/plain": [
       "'{\"time\": 1505486572, \"to\": \"32aea4fffe054928\", \"from\": \"Client_366\", \"message\": \"LoRa packet sent via MQTT.\"}'"
      ]
     },
     "execution_count": 29,
     "metadata": {},
     "output_type": "execute_result"
    }
   ],
   "source": [
    "# SF8_NODE_EUI = 'f3d308fffe00'\n",
    "# SF8_GATEWAY_EUI = '32aea4fffe809528'\n",
    "# SF9_NODE_EUI = '32aea4fffe054928'\n",
    "# SF9_GATEWAY_EUI = '260ac4fffe0c1764'\n",
    "\n",
    "pay_load = {\"message\": \"LoRa packet sent via MQTT.\", \"time\": int(time.time()), \"to\": \"32aea4fffe054928\", \"from\": the_client.node.worker.name }\n",
    "pay_load_json = json.dumps(pay_load) \n",
    "pay_load_json"
   ]
  },
  {
   "cell_type": "code",
   "execution_count": 38,
   "metadata": {},
   "outputs": [
    {
     "name": "stdout",
     "output_type": "stream",
     "text": [
      "\n",
      "Sending 391 bytes\n",
      "Message:\n",
      "OrderedDict([('correlation_id', '2017-09-15 22:49:32.665500'), ('function', 'transmit_payload'), ('kwargs', {'payload_string': '{\"time\": 1505486572, \"to\": \"32aea4fffe054928\", \"from\": \"Client_366\", \"message\": \"LoRa packet sent via MQTT.\"}'}), ('message_id', '2017-09-15 22:49:32.665500'), ('message_type', 'function'), ('receiver', '260ac4fffe0c1764'), ('reply_to', 'Client_366'), ('sender', 'Client_366')])\n",
      "\n",
      "\n",
      "Data received: 280 bytes\n",
      "Message:\n",
      "OrderedDict([('correlation_id', '511229'), ('function', 'update_link'), ('kwargs', {'node_eui': '32aea4fffe054928', 'rssi': -22, 'gateway_eui': '260ac4fffe0c1764'}), ('message_id', '511229'), ('message_type', 'function'), ('receiver', 'Hub'), ('reply_to', '260ac4fffe0c1764'), ('sender', '260ac4fffe0c1764')])\n",
      "\n",
      "'Worker' object has no attribute 'update_link'\n",
      "\n",
      "Data received: 280 bytes\n",
      "Message:\n",
      "OrderedDict([('correlation_id', '534948'), ('function', 'update_link'), ('kwargs', {'node_eui': '32aea4fffe054928', 'rssi': -77, 'gateway_eui': '32aea4fffe809528'}), ('message_id', '534948'), ('message_type', 'function'), ('receiver', 'Hub'), ('reply_to', '32aea4fffe809528'), ('sender', '32aea4fffe809528')])\n",
      "\n",
      "'Worker' object has no attribute 'update_link'\n",
      "\n",
      "Data received: 346 bytes\n",
      "Message:\n",
      "OrderedDict([('correlation_id', '511834'), ('function', 'transmit_payload'), ('kwargs', {'payload_string': '{\"via\": null, \"message\": \"ESP32_30aea4054928 36\", \"time\": 497137, \"from\": \"32aea4fffe054928\", \"to\": null}'}), ('message_id', '511834'), ('message_type', 'function'), ('receiver', 'Hub'), ('reply_to', '260ac4fffe0c1764'), ('sender', '260ac4fffe0c1764')])\n",
      "\n",
      "'Worker' object has no attribute 'transmit_payload'\n",
      "\n",
      "Data received: 265 bytes\n",
      "Message:\n",
      "OrderedDict([('correlation_id', '536650'), ('function', 'update_link'), ('kwargs', {'node_eui': None, 'rssi': -9, 'gateway_eui': '32aea4fffe809528'}), ('message_id', '536650'), ('message_type', 'function'), ('receiver', 'Hub'), ('reply_to', '32aea4fffe809528'), ('sender', '32aea4fffe809528')])\n",
      "\n",
      "'Worker' object has no attribute 'update_link'\n",
      "\n",
      "Data received: 356 bytes\n",
      "Message:\n",
      "OrderedDict([('correlation_id', '540014'), ('function', 'transmit_payload'), ('kwargs', {'payload_string': '{\"via\": \"260ac4fffe0c1764\", \"message\": \"ESP8266_f1d30800 34\", \"time\": 519363, \"from\": \"f3d308fffe00\", \"to\": null}'}), ('message_id', '540014'), ('message_type', 'function'), ('receiver', 'Hub'), ('reply_to', '32aea4fffe809528'), ('sender', '32aea4fffe809528')])\n",
      "\n",
      "'Worker' object has no attribute 'transmit_payload'\n",
      "\n",
      "Data received: 280 bytes\n",
      "Message:\n",
      "OrderedDict([('correlation_id', '552149'), ('function', 'update_link'), ('kwargs', {'node_eui': '32aea4fffe054928', 'rssi': -75, 'gateway_eui': '32aea4fffe809528'}), ('message_id', '552149'), ('message_type', 'function'), ('receiver', 'Hub'), ('reply_to', '32aea4fffe809528'), ('sender', '32aea4fffe809528')])\n",
      "\n",
      "'Worker' object has no attribute 'update_link'\n",
      "\n",
      "Data received: 280 bytes\n",
      "Message:\n",
      "OrderedDict([('correlation_id', '528959'), ('function', 'update_link'), ('kwargs', {'node_eui': '32aea4fffe054928', 'rssi': -23, 'gateway_eui': '260ac4fffe0c1764'}), ('message_id', '528959'), ('message_type', 'function'), ('receiver', 'Hub'), ('reply_to', '260ac4fffe0c1764'), ('sender', '260ac4fffe0c1764')])\n",
      "\n",
      "'Worker' object has no attribute 'update_link'\n",
      "\n",
      "Data received: 346 bytes\n",
      "Message:\n",
      "OrderedDict([('correlation_id', '529648'), ('function', 'transmit_payload'), ('kwargs', {'payload_string': '{\"via\": null, \"message\": \"ESP32_30aea4054928 37\", \"time\": 514273, \"from\": \"32aea4fffe054928\", \"to\": null}'}), ('message_id', '529648'), ('message_type', 'function'), ('receiver', 'Hub'), ('reply_to', '260ac4fffe0c1764'), ('sender', '260ac4fffe0c1764')])\n",
      "\n",
      "'Worker' object has no attribute 'transmit_payload'\n",
      "\n",
      "Data received: 276 bytes\n",
      "Message:\n",
      "OrderedDict([('correlation_id', '531762'), ('function', 'update_link'), ('kwargs', {'node_eui': 'f3d308fffe00', 'rssi': -69, 'gateway_eui': '260ac4fffe0c1764'}), ('message_id', '531762'), ('message_type', 'function'), ('receiver', 'Hub'), ('reply_to', '260ac4fffe0c1764'), ('sender', '260ac4fffe0c1764')])\n",
      "\n",
      "'Worker' object has no attribute 'update_link'\n",
      "\n",
      "Data received: 276 bytes\n",
      "Message:\n",
      "OrderedDict([('correlation_id', '555308'), ('function', 'update_link'), ('kwargs', {'node_eui': 'f3d308fffe00', 'rssi': -19, 'gateway_eui': '32aea4fffe809528'}), ('message_id', '555308'), ('message_type', 'function'), ('receiver', 'Hub'), ('reply_to', '32aea4fffe809528'), ('sender', '32aea4fffe809528')])\n",
      "\n",
      "'Worker' object has no attribute 'update_link'\n",
      "\n",
      "Data received: 340 bytes\n",
      "Message:\n",
      "OrderedDict([('correlation_id', '556057'), ('function', 'transmit_payload'), ('kwargs', {'payload_string': '{\"via\": null, \"message\": \"ESP8266_f1d30800 36\", \"time\": 557711, \"from\": \"f3d308fffe00\", \"to\": null}'}), ('message_id', '556057'), ('message_type', 'function'), ('receiver', 'Hub'), ('reply_to', '32aea4fffe809528'), ('sender', '32aea4fffe809528')])\n",
      "\n",
      "'Worker' object has no attribute 'transmit_payload'\n"
     ]
    }
   ],
   "source": [
    "# transmit_payload: gateway will transmit the LoRa payload regardless of routing table.\n",
    "\n",
    "messages['LoRa test'] = {'message_type': 'function',\n",
    "                         'function': 'transmit_payload',\n",
    "                         'kwargs': {'payload_string': pay_load_json}}\n",
    "\n",
    "the_client.request(gateway, messages['LoRa test']);"
   ]
  },
  {
   "cell_type": "code",
   "execution_count": 41,
   "metadata": {},
   "outputs": [
    {
     "name": "stdout",
     "output_type": "stream",
     "text": [
      "\n",
      "\n",
      "Sending 395 bytesMessage:\n",
      "OrderedDict([('correlation_id', '588815'), ('function', 'update_link'), ('kwargs', {'node_eui': 'f3d308fffe00', 'rssi': -20, 'gateway_eui': '32aea4fffe809528'}), ('message_id', '588815'), ('message_type', 'function'), ('receiver', 'Hub'), ('reply_to', '32aea4fffe809528'), ('sender', '32aea4fffe809528')])\n",
      "\n",
      "\n",
      "'Worker' object has no attribute 'update_link'\n",
      "Message:\n",
      "OrderedDict([('correlation_id', '2017-09-15 22:50:34.705300'), ('function', 'dispatch_payload_json'), ('kwargs', {'pay_load_json': '{\"time\": 1505486572, \"to\": \"32aea4fffe054928\", \"from\": \"Client_366\", \"message\": \"LoRa packet sent via MQTT.\"}'}), ('message_id', '2017-09-15 22:50:34.705300'), ('message_type', 'function'), ('receiver', '260ac4fffe0c1764'), ('reply_to', 'Client_366'), ('sender', 'Client_366')])\n",
      "\n",
      "\n",
      "Data received: 340 bytes\n",
      "Message:\n",
      "OrderedDict([('correlation_id', '589431'), ('function', 'transmit_payload'), ('kwargs', {'payload_string': '{\"via\": null, \"message\": \"ESP8266_f1d30800 38\", \"time\": 590835, \"from\": \"f3d308fffe00\", \"to\": null}'}), ('message_id', '589431'), ('message_type', 'function'), ('receiver', 'Hub'), ('reply_to', '32aea4fffe809528'), ('sender', '32aea4fffe809528')])\n",
      "\n",
      "'Worker' object has no attribute 'transmit_payload'\n"
     ]
    }
   ],
   "source": [
    "# dispatch_payload_json: \n",
    "    # find the nearest gateway to the destination node.\n",
    "    # forward the payload data, and deligate to the nearest gateway to transmit the LoRa payload. \n",
    "\n",
    "messages['LoRa test'] = {'message_type': 'function',\n",
    "                         'function': 'dispatch_payload_json',\n",
    "                         'kwargs': {'pay_load_json': pay_load_json}}\n",
    "\n",
    "the_client.request(gateway, messages['LoRa test']);"
   ]
  },
  {
   "cell_type": "markdown",
   "metadata": {},
   "source": [
    "### Stop the demo"
   ]
  },
  {
   "cell_type": "code",
   "execution_count": null,
   "metadata": {
    "collapsed": true
   },
   "outputs": [],
   "source": [
    "# Stopping\n",
    "the_client.stop()\n",
    "the_client = None\n",
    "print('\\n[________________ Demo stopped ________________]\\n')"
   ]
  }
 ],
 "metadata": {
  "anaconda-cloud": {},
  "kernelspec": {
   "display_name": "Python 3",
   "language": "python",
   "name": "python3"
  },
  "language_info": {
   "codemirror_mode": {
    "name": "ipython",
    "version": 3
   },
   "file_extension": ".py",
   "mimetype": "text/x-python",
   "name": "python",
   "nbconvert_exporter": "python",
   "pygments_lexer": "ipython3",
   "version": "3.6.6"
  }
 },
 "nbformat": 4,
 "nbformat_minor": 1
}

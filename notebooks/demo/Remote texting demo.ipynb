{
 "cells": [
  {
   "cell_type": "markdown",
   "metadata": {},
   "source": [
    "# Remote texting demo"
   ]
  },
  {
   "cell_type": "markdown",
   "metadata": {},
   "source": [
    "Start a Mosquitto container first. For example:\n",
    "- Use `codes\\_demo\\1_start_broker.sh` to start a Mosquitto container on Raspberry Pi.\n",
    "- Config files are in `mqtt_config\\mqtt`.\n",
    "- set `allow_anonymous true` in `mqtt_config\\mqtt\\config\\mosquitto.conf` to allow anonymous client."
   ]
  },
  {
   "cell_type": "markdown",
   "metadata": {},
   "source": [
    "## Getting Started\n",
    "What this notebook does:  \n",
    "- Using a client on PC\n",
    "- List connected nodes\n",
    "- Send text to remote node and display on OLED screen."
   ]
  },
  {
   "cell_type": "code",
   "execution_count": null,
   "metadata": {
    "collapsed": false
   },
   "outputs": [],
   "source": [
    "import os\n",
    "import sys\n",
    "import time\n",
    " \n",
    "sys.path.append(os.path.abspath(os.path.join(os.path.pardir, '..\\\\codes', 'client')))\n",
    "sys.path.append(os.path.abspath(os.path.join(os.path.pardir, '..\\\\codes', 'node')))\n",
    "sys.path.append(os.path.abspath(os.path.join(os.path.pardir, '..\\\\codes', 'shared')))\n",
    "sys.path.append(os.path.abspath(os.path.join(os.path.pardir, '..\\\\codes', 'micropython')))\n",
    " \n",
    "import client\n",
    "from collections import OrderedDict"
   ]
  },
  {
   "cell_type": "markdown",
   "metadata": {},
   "source": [
    "### Start client"
   ]
  },
  {
   "cell_type": "code",
   "execution_count": null,
   "metadata": {
    "collapsed": false
   },
   "outputs": [],
   "source": [
    "the_client = client.Client()\n",
    "the_client.start()\n",
    "\n",
    "while not the_client.status['Is connected']:            \n",
    "    time.sleep(1)\n",
    "    print('Node not ready yet.')"
   ]
  },
  {
   "cell_type": "markdown",
   "metadata": {},
   "source": [
    "### Prepare messages"
   ]
  },
  {
   "cell_type": "code",
   "execution_count": null,
   "metadata": {
    "collapsed": false
   },
   "outputs": [],
   "source": [
    "# messages _____________________________________________\n",
    "messages = OrderedDict()\n",
    "\n",
    "messages['show text'] = {'message_type': 'command',\n",
    "                         'command': 'show text',\n",
    "                         'kwargs': {'text': 'Hello World!', \n",
    "                                    'x': 0, 'y': 0, \n",
    "                                    'clear_first': True, \n",
    "                                    'show_now': True,\n",
    "                                    'hold_seconds': 5}}"
   ]
  },
  {
   "cell_type": "markdown",
   "metadata": {},
   "source": [
    "### Send out messages and get asynchonous results"
   ]
  },
  {
   "cell_type": "code",
   "execution_count": null,
   "metadata": {
    "collapsed": false
   },
   "outputs": [],
   "source": [
    "print('\\n[______________ Sending messages ______________]\\n')\n",
    "\n",
    "remote_node = 'NodeMCU_8a00'\n",
    "\n",
    "# send out the messages\n",
    "for message in messages.values():\n",
    "    time.sleep(0.1)  # PyCharm needs this delay.\n",
    "    the_client.request(remote_node, message) "
   ]
  },
  {
   "cell_type": "markdown",
   "metadata": {},
   "source": [
    "### Stop the demo"
   ]
  },
  {
   "cell_type": "code",
   "execution_count": null,
   "metadata": {
    "collapsed": false
   },
   "outputs": [],
   "source": [
    "# Stopping\n",
    "the_client.stop()\n",
    "the_client = None\n",
    "print('\\n[________________ Demo stopped ________________]\\n')"
   ]
  },
  {
   "cell_type": "code",
   "execution_count": null,
   "metadata": {
    "collapsed": true
   },
   "outputs": [],
   "source": []
  }
 ],
 "metadata": {
  "anaconda-cloud": {},
  "kernelspec": {
   "display_name": "Python 3",
   "language": "python",
   "name": "python3"
  },
  "language_info": {
   "codemirror_mode": {
    "name": "ipython",
    "version": 3
   },
   "file_extension": ".py",
   "mimetype": "text/x-python",
   "name": "python",
   "nbconvert_exporter": "python",
   "pygments_lexer": "ipython3",
   "version": "3.5.1"
  }
 },
 "nbformat": 4,
 "nbformat_minor": 0
}

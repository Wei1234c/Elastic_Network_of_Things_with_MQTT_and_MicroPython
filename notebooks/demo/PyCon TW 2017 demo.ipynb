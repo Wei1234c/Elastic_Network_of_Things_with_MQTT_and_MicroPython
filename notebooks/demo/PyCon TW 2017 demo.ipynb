{
 "cells": [
  {
   "cell_type": "markdown",
   "metadata": {},
   "source": [
    "# Network of Things demo"
   ]
  },
  {
   "cell_type": "markdown",
   "metadata": {},
   "source": [
    "Start a Mosquitto container first. For example:\n",
    "- Use `codes\\_demo\\1_start_broker.sh` to start a Mosquitto container on Raspberry Pi.\n",
    "- Config files are in `mqtt_config\\mqtt`.\n",
    "- set `allow_anonymous true` in `mqtt_config\\mqtt\\config\\mosquitto.conf` to allow anonymous client."
   ]
  },
  {
   "cell_type": "markdown",
   "metadata": {},
   "source": [
    "## Getting Started\n",
    "What this notebook does:  \n",
    "- Using a client on PC\n",
    "- List connected nodes\n",
    "- Send messages to remote nodes:\n",
    " - Return results (read GPIOs)via RPC mechanism.\n",
    " - Write data to remote nodes (write GPIOs).\n",
    " - Execute arbitrary code on remote nodes."
   ]
  },
  {
   "cell_type": "code",
   "execution_count": 11,
   "metadata": {
    "collapsed": true
   },
   "outputs": [],
   "source": [
    "import os\n",
    "import sys\n",
    "import time\n",
    " \n",
    "sys.path.append(os.path.abspath(os.path.join(os.path.pardir, os.path.sep.join(['..', 'codes']), 'client')))\n",
    "sys.path.append(os.path.abspath(os.path.join(os.path.pardir, os.path.sep.join(['..', 'codes']), 'node')))\n",
    "sys.path.append(os.path.abspath(os.path.join(os.path.pardir, os.path.sep.join(['..', 'codes']), 'shared')))\n",
    "sys.path.append(os.path.abspath(os.path.join(os.path.pardir, os.path.sep.join(['..', 'codes']), 'micropython')))\n",
    " \n",
    "import client\n",
    "from collections import OrderedDict"
   ]
  },
  {
   "cell_type": "markdown",
   "metadata": {},
   "source": [
    "### Start client"
   ]
  },
  {
   "cell_type": "code",
   "execution_count": 12,
   "metadata": {},
   "outputs": [
    {
     "name": "stdout",
     "output_type": "stream",
     "text": [
      "My name is Client_366\n",
      "\n",
      "Sending 277 bytes\n",
      "Message:\n",
      "OrderedDict([('command', 'set connection name'), ('correlation_id', '2017-06-10 10:55:51.980400'), ('kwargs', {'name': 'Client_366'}), ('message_id', '2017-06-10 10:55:51.980400'), ('message_type', 'command'), ('need_result', True), ('receiver', 'Hub'), ('reply_to', 'Client_366'), ('sender', 'Client_366')])\n",
      "\n",
      "\n",
      "[Connected: ('123.110.13.5', 1883)]\n",
      "[Listen to messages]\n",
      "Node not ready yet.\n"
     ]
    }
   ],
   "source": [
    "the_client = client.Client()\n",
    "the_client.start()\n",
    "\n",
    "while not the_client.status['Is connected']:            \n",
    "    time.sleep(1)\n",
    "    print('Node not ready yet.')"
   ]
  },
  {
   "cell_type": "markdown",
   "metadata": {},
   "source": [
    "### List of nodes"
   ]
  },
  {
   "cell_type": "code",
   "execution_count": 13,
   "metadata": {},
   "outputs": [
    {
     "data": {
      "text/plain": [
       "['n_Alpha', 'n_Lambda', 'n_Beta']"
      ]
     },
     "execution_count": 13,
     "metadata": {},
     "output_type": "execute_result"
    }
   ],
   "source": [
    "remote_nodes = ['n_Alpha', 'n_Lambda', 'n_Beta']\n",
    "remote_nodes"
   ]
  },
  {
   "cell_type": "code",
   "execution_count": 14,
   "metadata": {},
   "outputs": [
    {
     "data": {
      "text/plain": [
       "'n_Lambda'"
      ]
     },
     "execution_count": 14,
     "metadata": {},
     "output_type": "execute_result"
    }
   ],
   "source": [
    "targeted_node = 'n_Lambda'\n",
    "targeted_node"
   ]
  },
  {
   "cell_type": "markdown",
   "metadata": {},
   "source": [
    "### Prepare messages"
   ]
  },
  {
   "cell_type": "code",
   "execution_count": 5,
   "metadata": {
    "collapsed": true
   },
   "outputs": [],
   "source": [
    "messages = OrderedDict()"
   ]
  },
  {
   "cell_type": "markdown",
   "metadata": {},
   "source": [
    "___\n",
    "## DEMOs\n",
    "___"
   ]
  },
  {
   "cell_type": "markdown",
   "metadata": {},
   "source": [
    "### Write GPIOs"
   ]
  },
  {
   "cell_type": "code",
   "execution_count": 15,
   "metadata": {},
   "outputs": [
    {
     "name": "stdout",
     "output_type": "stream",
     "text": [
      "\n",
      "Sending 260 bytes\n",
      "Message:\n",
      "OrderedDict([('command', 'write GPIOs'), ('correlation_id', '2017-06-10 10:56:33.969400'), ('kwargs', {'pins_and_values': [(2, 0)]}), ('message_id', '2017-06-10 10:56:33.969400'), ('message_type', 'command'), ('receiver', 'n_Lambda'), ('reply_to', 'Client_366'), ('sender', 'Client_366')])\n",
      "\n"
     ]
    }
   ],
   "source": [
    "messages['write_GPIOs'] = {'message_type': 'command',\n",
    "                           'command': 'write GPIOs',\n",
    "                           'kwargs': {'pins_and_values': [(2, 0),]}} \n",
    "\n",
    "the_client.request(targeted_node, messages['write_GPIOs']);"
   ]
  },
  {
   "cell_type": "code",
   "execution_count": 16,
   "metadata": {},
   "outputs": [
    {
     "name": "stdout",
     "output_type": "stream",
     "text": [
      "\n",
      "Sending 260 bytes\n",
      "Message:\n",
      "OrderedDict([('command', 'write GPIOs'), ('correlation_id', '2017-06-10 10:57:50.557400'), ('kwargs', {'pins_and_values': [(2, 1)]}), ('message_id', '2017-06-10 10:57:50.557400'), ('message_type', 'command'), ('receiver', 'n_Lambda'), ('reply_to', 'Client_366'), ('sender', 'Client_366')])\n",
      "\n"
     ]
    }
   ],
   "source": [
    "messages['write_GPIOs'] = {'message_type': 'command',\n",
    "                           'command': 'write GPIOs',\n",
    "                           'kwargs': {'pins_and_values': [(2, 1),]}} \n",
    "\n",
    "the_client.request(targeted_node, messages['write_GPIOs']);"
   ]
  },
  {
   "cell_type": "markdown",
   "metadata": {},
   "source": [
    "### Blink each node\n",
    "[YouTube video clip](https://youtu.be/I_s-no_0L24)"
   ]
  },
  {
   "cell_type": "code",
   "execution_count": 18,
   "metadata": {},
   "outputs": [
    {
     "name": "stdout",
     "output_type": "stream",
     "text": [
      "\n",
      "Sending 279 bytes\n",
      "Message:\n",
      "OrderedDict([('command', 'blink led'), ('correlation_id', '2017-06-10 10:58:06.849400'), ('kwargs', {'times': 3, 'off_seconds': 0.1, 'on_seconds': 0.1}), ('message_id', '2017-06-10 10:58:06.849400'), ('message_type', 'command'), ('receiver', 'n_Alpha'), ('reply_to', 'Client_366'), ('sender', 'Client_366')])\n",
      "\n",
      "\n",
      "Sending 280 bytes\n",
      "Message:\n",
      "OrderedDict([('command', 'blink led'), ('correlation_id', '2017-06-10 10:58:07.662400'), ('kwargs', {'times': 3, 'off_seconds': 0.1, 'on_seconds': 0.1}), ('message_id', '2017-06-10 10:58:07.662400'), ('message_type', 'command'), ('receiver', 'n_Lambda'), ('reply_to', 'Client_366'), ('sender', 'Client_366')])\n",
      "\n",
      "\n",
      "Sending 278 bytes\n",
      "Message:\n",
      "OrderedDict([('command', 'blink led'), ('correlation_id', '2017-06-10 10:58:08.383400'), ('kwargs', {'times': 3, 'off_seconds': 0.1, 'on_seconds': 0.1}), ('message_id', '2017-06-10 10:58:08.383400'), ('message_type', 'command'), ('receiver', 'n_Beta'), ('reply_to', 'Client_366'), ('sender', 'Client_366')])\n",
      "\n"
     ]
    }
   ],
   "source": [
    "messages['blink_led'] = {'message_type': 'command',\n",
    "                         'command': 'blink led',\n",
    "                         'kwargs': {'times': 3, 'on_seconds': 0.1, 'off_seconds': 0.1}}\n",
    "\n",
    "for remote_node in remote_nodes:\n",
    "    the_client.request(remote_node, messages['blink_led']);"
   ]
  },
  {
   "cell_type": "markdown",
   "metadata": {},
   "source": [
    "### Blink each node (broadcasting)"
   ]
  },
  {
   "cell_type": "code",
   "execution_count": 20,
   "metadata": {},
   "outputs": [
    {
     "name": "stdout",
     "output_type": "stream",
     "text": [
      "\n",
      "Sending 275 bytes\n",
      "Message:\n",
      "OrderedDict([('command', 'blink led'), ('correlation_id', '2017-06-10 10:58:32.706400'), ('kwargs', {'times': 3, 'off_seconds': 0.1, 'on_seconds': 0.1}), ('message_id', '2017-06-10 10:58:32.706400'), ('message_type', 'command'), ('receiver', 'Hub'), ('reply_to', 'Client_366'), ('sender', 'Client_366')])\n",
      "\n",
      "\n",
      "Data received: 275 bytes\n",
      "Message:\n",
      "OrderedDict([('command', 'blink led'), ('correlation_id', '2017-06-10 10:58:32.706400'), ('kwargs', {'times': 3, 'on_seconds': 0.1, 'off_seconds': 0.1}), ('message_id', '2017-06-10 10:58:32.706400'), ('message_type', 'command'), ('receiver', 'Hub'), ('reply_to', 'Client_366'), ('sender', 'Client_366')])\n"
     ]
    }
   ],
   "source": [
    "the_client.request('Hub', messages['blink_led']);"
   ]
  },
  {
   "cell_type": "markdown",
   "metadata": {},
   "source": [
    "### Read GPIOs"
   ]
  },
  {
   "cell_type": "code",
   "execution_count": 22,
   "metadata": {},
   "outputs": [
    {
     "name": "stdout",
     "output_type": "stream",
     "text": [
      "\n",
      "Sending 284 bytes\n",
      "Message:\n",
      "OrderedDict([('command', 'read GPIOs'), ('correlation_id', '2017-06-10 11:00:36.660400'), ('kwargs', {'pins': [5, 12, 13, 14, 15, 16]}), ('message_id', '2017-06-10 11:00:36.660400'), ('message_type', 'command'), ('need_result', True), ('receiver', 'n_Lambda'), ('reply_to', 'Client_366'), ('sender', 'Client_366')])\n",
      "\n",
      "\n",
      "Data received: 235 bytes\n",
      "Message:\n",
      "OrderedDict([('correlation_id', '2017-06-10 11:00:36.660400'), ('message_id', '744389'), ('message_type', 'result'), ('receiver', 'Client_366'), ('reply_to', 'n_Lambda'), ('result', [[5, 1], [12, 1], [13, 1], [14, 1], [15, 0], [16, 1]]), ('sender', 'n_Lambda')])\n",
      "\n",
      "\n",
      "GPIO status for n_Lambda: [[5, 1], [12, 1], [13, 1], [14, 1], [15, 0], [16, 1]]\n",
      "\n"
     ]
    }
   ],
   "source": [
    "messages['read_GPIOs'] = {'message_type': 'command',\n",
    "                          'command': 'read GPIOs',\n",
    "                          'kwargs': {'pins': [5, 12, 13, 14, 15, 16]},\n",
    "                          'need_result': True}\n",
    "\n",
    "_, result = the_client.request(targeted_node, messages['read_GPIOs'])\n",
    "print('\\nGPIO status for {}: {}\\n'.format(targeted_node, result.get()));"
   ]
  },
  {
   "cell_type": "code",
   "execution_count": 23,
   "metadata": {
    "scrolled": true
   },
   "outputs": [
    {
     "name": "stdout",
     "output_type": "stream",
     "text": [
      "\n",
      "Sending 284 bytes\n",
      "Message:\n",
      "OrderedDict([('command', 'read GPIOs'), ('correlation_id', '2017-06-10 11:00:52.661400'), ('kwargs', {'pins': [5, 12, 13, 14, 15, 16]}), ('message_id', '2017-06-10 11:00:52.661400'), ('message_type', 'command'), ('need_result', True), ('receiver', 'n_Lambda'), ('reply_to', 'Client_366'), ('sender', 'Client_366')])\n",
      "\n",
      "\n",
      "Data received: 235 bytes\n",
      "Message:\n",
      "OrderedDict([('correlation_id', '2017-06-10 11:00:52.661400'), ('message_id', '760875'), ('message_type', 'result'), ('receiver', 'Client_366'), ('reply_to', 'n_Lambda'), ('result', [[5, 1], [12, 1], [13, 1], [14, 1], [15, 0], [16, 1]]), ('sender', 'n_Lambda')])\n",
      "\n"
     ]
    },
    {
     "data": {
      "text/plain": [
       "[[5, 1], [12, 1], [13, 1], [14, 1], [15, 0], [16, 1]]"
      ]
     },
     "execution_count": 23,
     "metadata": {},
     "output_type": "execute_result"
    }
   ],
   "source": [
    "rpc = the_client.request(targeted_node, messages['read_GPIOs'])[1].get\n",
    "\n",
    "rpc()"
   ]
  },
  {
   "cell_type": "markdown",
   "metadata": {},
   "source": [
    "### Read GPIOs from each node"
   ]
  },
  {
   "cell_type": "code",
   "execution_count": 16,
   "metadata": {
    "collapsed": true
   },
   "outputs": [],
   "source": [
    "# for remote_node in remote_nodes:\n",
    "#     _, result = the_client.request(remote_node, messages['read_GPIOs']) \n",
    "#     print('\\nGPIO status for {}: {}\\n'.format(remote_node, result.get()))"
   ]
  },
  {
   "cell_type": "markdown",
   "metadata": {},
   "source": [
    "### Read GPIOs from each node and queue async_results"
   ]
  },
  {
   "cell_type": "code",
   "execution_count": 24,
   "metadata": {},
   "outputs": [
    {
     "name": "stdout",
     "output_type": "stream",
     "text": [
      "\n",
      "Sending 283 bytes\n",
      "Message:\n",
      "OrderedDict([('command', 'read GPIOs'), ('correlation_id', '2017-06-10 11:01:12.525400'), ('kwargs', {'pins': [5, 12, 13, 14, 15, 16]}), ('message_id', '2017-06-10 11:01:12.525400'), ('message_type', 'command'), ('need_result', True), ('receiver', 'n_Alpha'), ('reply_to', 'Client_366'), ('sender', 'Client_366')])\n",
      "\n",
      "\n",
      "Sending 284 bytes\n",
      "Message:\n",
      "OrderedDict([('command', 'read GPIOs'), ('correlation_id', '2017-06-10 11:01:12.732400'), ('kwargs', {'pins': [5, 12, 13, 14, 15, 16]}), ('message_id', '2017-06-10 11:01:12.732400'), ('message_type', 'command'), ('need_result', True), ('receiver', 'n_Lambda'), ('reply_to', 'Client_366'), ('sender', 'Client_366')])\n",
      "\n",
      "\n",
      "Sending 282 bytes\n",
      "Message:\n",
      "OrderedDict([('command', 'read GPIOs'), ('correlation_id', '2017-06-10 11:01:13.046400'), ('kwargs', {'pins': [5, 12, 13, 14, 15, 16]}), ('message_id', '2017-06-10 11:01:13.046400'), ('message_type', 'command'), ('need_result', True), ('receiver', 'n_Beta'), ('reply_to', 'Client_366'), ('sender', 'Client_366')])\n",
      "\n",
      "\n",
      "Data received: 231 bytes\n",
      "Message:\n",
      "OrderedDict([('correlation_id', '2017-06-10 11:01:13.046400'), ('message_id', '778232'), ('message_type', 'result'), ('receiver', 'Client_366'), ('reply_to', 'n_Beta'), ('result', [[5, 1], [12, 1], [13, 1], [14, 1], [15, 0], [16, 0]]), ('sender', 'n_Beta')])\n",
      "\n",
      "\n",
      "Data received: 235 bytes\n",
      "Message:\n",
      "OrderedDict([('correlation_id', '2017-06-10 11:01:12.732400'), ('message_id', '781363'), ('message_type', 'result'), ('receiver', 'Client_366'), ('reply_to', 'n_Lambda'), ('result', [[5, 1], [12, 1], [13, 1], [14, 1], [15, 0], [16, 1]]), ('sender', 'n_Lambda')])\n",
      "\n"
     ]
    },
    {
     "data": {
      "text/plain": [
       "[('n_Alpha', <asynch_result.Asynch_result at 0x614dc18>),\n",
       " ('n_Lambda', <asynch_result.Asynch_result at 0x60db748>),\n",
       " ('n_Beta', <asynch_result.Asynch_result at 0x60dbf28>)]"
      ]
     },
     "execution_count": 24,
     "metadata": {},
     "output_type": "execute_result"
    },
    {
     "name": "stdout",
     "output_type": "stream",
     "text": [
      "\n",
      "Data received: 233 bytes\n",
      "Message:\n",
      "OrderedDict([('correlation_id', '2017-06-10 11:01:12.525400'), ('message_id', '778227'), ('message_type', 'result'), ('receiver', 'Client_366'), ('reply_to', 'n_Alpha'), ('result', [[5, 1], [12, 1], [13, 1], [14, 1], [15, 0], [16, 0]]), ('sender', 'n_Alpha')])\n",
      "\n"
     ]
    }
   ],
   "source": [
    "status = []\n",
    "\n",
    "for remote_node in remote_nodes:\n",
    "    _, result = the_client.request(remote_node, messages['read_GPIOs']) \n",
    "    status.append((remote_node, result))\n",
    "    \n",
    "status"
   ]
  },
  {
   "cell_type": "markdown",
   "metadata": {},
   "source": [
    "### Get results via async_results"
   ]
  },
  {
   "cell_type": "code",
   "execution_count": 25,
   "metadata": {},
   "outputs": [
    {
     "name": "stdout",
     "output_type": "stream",
     "text": [
      "\n",
      "GPIO status for n_Alpha: [[5, 1], [12, 1], [13, 1], [14, 1], [15, 0], [16, 0]]\n",
      "\n",
      "\n",
      "GPIO status for n_Lambda: [[5, 1], [12, 1], [13, 1], [14, 1], [15, 0], [16, 1]]\n",
      "\n",
      "\n",
      "GPIO status for n_Beta: [[5, 1], [12, 1], [13, 1], [14, 1], [15, 0], [16, 0]]\n",
      "\n"
     ]
    }
   ],
   "source": [
    "for remote_node, result in status: \n",
    "    print('\\nGPIO status for {}: {}\\n'.format(remote_node, result.get()))"
   ]
  },
  {
   "cell_type": "markdown",
   "metadata": {},
   "source": [
    "### Eval"
   ]
  },
  {
   "cell_type": "code",
   "execution_count": 26,
   "metadata": {},
   "outputs": [
    {
     "name": "stdout",
     "output_type": "stream",
     "text": [
      "\n",
      "Sending 233 bytes\n",
      "Message:\n",
      "OrderedDict([('correlation_id', '2017-06-10 11:01:46.153400'), ('message_id', '2017-06-10 11:01:46.153400'), ('message_type', 'eval'), ('need_result', True), ('receiver', 'n_Lambda'), ('reply_to', 'Client_366'), ('sender', 'Client_366'), ('to_evaluate', '2+3')])\n",
      "\n",
      "\n",
      "Data received: 183 bytes\n",
      "Message:\n",
      "OrderedDict([('correlation_id', '2017-06-10 11:01:46.153400'), ('message_id', '813845'), ('message_type', 'result'), ('receiver', 'Client_366'), ('reply_to', 'n_Lambda'), ('result', 5), ('sender', 'n_Lambda')])\n",
      "\n",
      "result: 5\n"
     ]
    }
   ],
   "source": [
    "messages['test_eval'] = {'message_type': 'eval',\n",
    "                         'to_evaluate': '2+3',\n",
    "                         'need_result': True}\n",
    "\n",
    "_, result = the_client.request(targeted_node, messages['test_eval']) \n",
    "print('result:', result.get());"
   ]
  },
  {
   "cell_type": "markdown",
   "metadata": {},
   "source": [
    "### Exec"
   ]
  },
  {
   "cell_type": "code",
   "execution_count": 27,
   "metadata": {},
   "outputs": [
    {
     "name": "stdout",
     "output_type": "stream",
     "text": [
      "\n",
      "Sending 228 bytes\n",
      "Message:\n",
      "OrderedDict([('correlation_id', '2017-06-10 11:01:56.087400'), ('message_id', '2017-06-10 11:01:56.087400'), ('message_type', 'exec'), ('receiver', 'n_Lambda'), ('reply_to', 'Client_366'), ('sender', 'Client_366'), ('to_exec', 'print(\"Hello World!\")')])\n",
      "\n"
     ]
    }
   ],
   "source": [
    "messages['test_exec'] = {'message_type': 'exec',\n",
    "                         'to_exec': 'print(\"Hello World!\")'} \n",
    "\n",
    "the_client.request(targeted_node, messages['test_exec']);"
   ]
  },
  {
   "cell_type": "markdown",
   "metadata": {},
   "source": [
    "### Invoke remote functions"
   ]
  },
  {
   "cell_type": "code",
   "execution_count": 21,
   "metadata": {
    "collapsed": true
   },
   "outputs": [],
   "source": [
    "# messages['test_function'] = {'message_type': 'function',\n",
    "#                              'function': 'blink_led',\n",
    "#                              'kwargs': {'times': 3, 'on_seconds': 0.1, 'off_seconds': 0.1}}\n",
    "\n",
    "# the_client.request(targeted_node, messages['test_function']);"
   ]
  },
  {
   "cell_type": "markdown",
   "metadata": {},
   "source": [
    "### Transmit function (behavior) and invoke it remotely"
   ]
  },
  {
   "cell_type": "code",
   "execution_count": 22,
   "metadata": {},
   "outputs": [
    {
     "name": "stdout",
     "output_type": "stream",
     "text": [
      "\n",
      "Sending 275 bytes\n",
      "Message:\n",
      "OrderedDict([('correlation_id', '2017-06-09 12:49:05.563700'), ('message_id', '2017-06-09 12:49:05.563700'), ('message_type', 'script'), ('receiver', 'n_Lambda'), ('reply_to', 'Client_366'), ('script', 'def function_to_test(arg):\\n    print(arg)\\n\\ndef main():\\n    pass\\n'), ('sender', 'Client_366')])\n",
      "\n",
      "\n",
      "Sending 218 bytes\n",
      "Message:\n",
      "OrderedDict([('correlation_id', '2017-06-09 12:49:05.772700'), ('message_id', '2017-06-09 12:49:05.772700'), ('message_type', 'exec'), ('receiver', 'n_Lambda'), ('reply_to', 'Client_366'), ('sender', 'Client_366'), ('to_exec', 'import script')])\n",
      "\n",
      "\n",
      "Sending 271 bytes\n",
      "Message:\n",
      "OrderedDict([('correlation_id', '2017-06-09 12:49:06.092500'), ('message_id', '2017-06-09 12:49:06.092500'), ('message_type', 'exec'), ('receiver', 'n_Lambda'), ('reply_to', 'Client_366'), ('sender', 'Client_366'), ('to_exec', \"script.function_to_test('_______ Testing dynamic function ______')\")])\n",
      "\n"
     ]
    }
   ],
   "source": [
    "with open('functions_def.py') as f:\n",
    "    script = f.read()    \n",
    "the_client.request(targeted_node, {'message_type': 'script', \n",
    "                                   'script': script}) \n",
    "\n",
    "the_client.request(targeted_node, {'message_type': 'exec',\n",
    "                                   'to_exec': \"import script\"})\n",
    "\n",
    "the_client.request(targeted_node, {'message_type': 'exec',\n",
    "                                   'to_exec': \"script.function_to_test('_______ Testing dynamic function ______')\"});"
   ]
  },
  {
   "cell_type": "markdown",
   "metadata": {},
   "source": [
    "### Upload and run a script file"
   ]
  },
  {
   "cell_type": "code",
   "execution_count": 23,
   "metadata": {
    "collapsed": true,
    "scrolled": true
   },
   "outputs": [],
   "source": [
    "# with open('script_to_deploy.py') as f:\n",
    "#     script = f.read()\n",
    "    \n",
    "# messages['test_upload_script'] = {'message_type': 'script', \n",
    "#                                   'script': script} \n",
    "\n",
    "# the_client.request(targeted_node, messages['test_upload_script']);"
   ]
  },
  {
   "cell_type": "markdown",
   "metadata": {},
   "source": [
    "### Stop the demo"
   ]
  },
  {
   "cell_type": "code",
   "execution_count": 28,
   "metadata": {},
   "outputs": [
    {
     "name": "stdout",
     "output_type": "stream",
     "text": [
      "[Closed: ('123.110.13.5', 1883)]\n",
      "[________________ Demo stopped ________________]\n",
      "\n",
      "\n"
     ]
    }
   ],
   "source": [
    "# Stopping\n",
    "the_client.stop()\n",
    "the_client = None\n",
    "print('\\n[________________ Demo stopped ________________]\\n')"
   ]
  },
  {
   "cell_type": "code",
   "execution_count": null,
   "metadata": {
    "collapsed": true
   },
   "outputs": [],
   "source": []
  }
 ],
 "metadata": {
  "anaconda-cloud": {},
  "kernelspec": {
   "display_name": "Python 3",
   "language": "python",
   "name": "python3"
  },
  "language_info": {
   "codemirror_mode": {
    "name": "ipython",
    "version": 3
   },
   "file_extension": ".py",
   "mimetype": "text/x-python",
   "name": "python",
   "nbconvert_exporter": "python",
   "pygments_lexer": "ipython3",
   "version": "3.5.3"
  }
 },
 "nbformat": 4,
 "nbformat_minor": 1
}

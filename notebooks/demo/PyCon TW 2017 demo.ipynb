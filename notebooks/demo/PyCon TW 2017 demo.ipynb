{
 "cells": [
  {
   "cell_type": "markdown",
   "metadata": {},
   "source": [
    "# Network of Things demo"
   ]
  },
  {
   "cell_type": "markdown",
   "metadata": {},
   "source": [
    "Start a Mosquitto container first. For example:\n",
    "- Use `codes\\_demo\\1_start_broker.sh` to start a Mosquitto container on Raspberry Pi.\n",
    "- Config files are in `mqtt_config\\mqtt`.\n",
    "- set `allow_anonymous true` in `mqtt_config\\mqtt\\config\\mosquitto.conf` to allow anonymous client."
   ]
  },
  {
   "cell_type": "markdown",
   "metadata": {},
   "source": [
    "## Getting Started\n",
    "What this notebook does:  \n",
    "- Using a client on PC\n",
    "- List connected nodes\n",
    "- Send messages to remote nodes:\n",
    " - Return results (read GPIOs)via RPC mechanism.\n",
    " - Write data to remote nodes (write GPIOs).\n",
    " - Execute arbitrary code on remote nodes."
   ]
  },
  {
   "cell_type": "code",
   "execution_count": 1,
   "metadata": {
    "collapsed": true
   },
   "outputs": [],
   "source": [
    "import os\n",
    "import sys\n",
    "import time\n",
    " \n",
    "sys.path.append(os.path.abspath(os.path.join(os.path.pardir, os.path.sep.join(['..', 'codes']), 'client')))\n",
    "sys.path.append(os.path.abspath(os.path.join(os.path.pardir, os.path.sep.join(['..', 'codes']), 'node')))\n",
    "sys.path.append(os.path.abspath(os.path.join(os.path.pardir, os.path.sep.join(['..', 'codes']), 'shared')))\n",
    "sys.path.append(os.path.abspath(os.path.join(os.path.pardir, os.path.sep.join(['..', 'codes']), 'micropython')))\n",
    " \n",
    "import client\n",
    "from collections import OrderedDict"
   ]
  },
  {
   "cell_type": "markdown",
   "metadata": {},
   "source": [
    "### Start client"
   ]
  },
  {
   "cell_type": "code",
   "execution_count": 35,
   "metadata": {},
   "outputs": [
    {
     "name": "stdout",
     "output_type": "stream",
     "text": [
      "My name is Client_366\n",
      "\n",
      "Sending 277 bytes\n",
      "Message:\n",
      "OrderedDict([('command', 'set connection name'), ('correlation_id', '2017-06-07 17:22:56.555200'), ('kwargs', {'name': 'Client_366'}), ('message_id', '2017-06-07 17:22:56.555200'), ('message_type', 'command'), ('need_result', True), ('receiver', 'Hub'), ('reply_to', 'Client_366'), ('sender', 'Client_366')])\n",
      "\n",
      "\n",
      "[Connected: ('123.110.13.5', 1883)]\n",
      "[Listen to messages]\n",
      "Node not ready yet.\n"
     ]
    }
   ],
   "source": [
    "the_client = client.Client()\n",
    "the_client.start()\n",
    "\n",
    "while not the_client.status['Is connected']:            \n",
    "    time.sleep(1)\n",
    "    print('Node not ready yet.')"
   ]
  },
  {
   "cell_type": "markdown",
   "metadata": {},
   "source": [
    "### List of nodes"
   ]
  },
  {
   "cell_type": "code",
   "execution_count": 3,
   "metadata": {},
   "outputs": [
    {
     "data": {
      "text/plain": [
       "['n_Alpha', 'n_Lambda', 'n_Beta']"
      ]
     },
     "execution_count": 3,
     "metadata": {},
     "output_type": "execute_result"
    }
   ],
   "source": [
    "remote_nodes = ['n_Alpha', 'n_Lambda', 'n_Beta']\n",
    "remote_nodes"
   ]
  },
  {
   "cell_type": "code",
   "execution_count": 4,
   "metadata": {},
   "outputs": [
    {
     "data": {
      "text/plain": [
       "'n_Lambda'"
      ]
     },
     "execution_count": 4,
     "metadata": {},
     "output_type": "execute_result"
    }
   ],
   "source": [
    "targeted_node = 'n_Lambda'\n",
    "targeted_node"
   ]
  },
  {
   "cell_type": "markdown",
   "metadata": {},
   "source": [
    "### Prepare messages"
   ]
  },
  {
   "cell_type": "code",
   "execution_count": 5,
   "metadata": {
    "collapsed": true
   },
   "outputs": [],
   "source": [
    "messages = OrderedDict()"
   ]
  },
  {
   "cell_type": "markdown",
   "metadata": {},
   "source": [
    "___\n",
    "## DEMOs\n",
    "___"
   ]
  },
  {
   "cell_type": "markdown",
   "metadata": {},
   "source": [
    "### Write GPIOs"
   ]
  },
  {
   "cell_type": "code",
   "execution_count": 26,
   "metadata": {},
   "outputs": [
    {
     "name": "stdout",
     "output_type": "stream",
     "text": [
      "\n",
      "Sending 260 bytes\n",
      "Message:\n",
      "OrderedDict([('command', 'write GPIOs'), ('correlation_id', '2017-06-07 17:20:36.759200'), ('kwargs', {'pins_and_values': [(2, 0)]}), ('message_id', '2017-06-07 17:20:36.759200'), ('message_type', 'command'), ('receiver', 'n_Lambda'), ('reply_to', 'Client_366'), ('sender', 'Client_366')])\n",
      "\n"
     ]
    }
   ],
   "source": [
    "messages['write_GPIOs'] = {'message_type': 'command',\n",
    "                           'command': 'write GPIOs',\n",
    "                           'kwargs': {'pins_and_values': [(2, 0),]}} \n",
    "\n",
    "the_client.request(targeted_node, messages['write_GPIOs']);"
   ]
  },
  {
   "cell_type": "code",
   "execution_count": 27,
   "metadata": {},
   "outputs": [
    {
     "name": "stdout",
     "output_type": "stream",
     "text": [
      "\n",
      "Sending 260 bytes\n",
      "Message:\n",
      "OrderedDict([('command', 'write GPIOs'), ('correlation_id', '2017-06-07 17:20:37.856200'), ('kwargs', {'pins_and_values': [(2, 1)]}), ('message_id', '2017-06-07 17:20:37.856200'), ('message_type', 'command'), ('receiver', 'n_Lambda'), ('reply_to', 'Client_366'), ('sender', 'Client_366')])\n",
      "\n"
     ]
    }
   ],
   "source": [
    "messages['write_GPIOs'] = {'message_type': 'command',\n",
    "                           'command': 'write GPIOs',\n",
    "                           'kwargs': {'pins_and_values': [(2, 1),]}} \n",
    "\n",
    "the_client.request(targeted_node, messages['write_GPIOs']);"
   ]
  },
  {
   "cell_type": "markdown",
   "metadata": {},
   "source": [
    "### Blink each node\n",
    "[YouTube video clip](https://youtu.be/I_s-no_0L24)"
   ]
  },
  {
   "cell_type": "code",
   "execution_count": 10,
   "metadata": {},
   "outputs": [
    {
     "name": "stdout",
     "output_type": "stream",
     "text": [
      "\n",
      "Sending 279 bytes\n",
      "Message:\n",
      "OrderedDict([('command', 'blink led'), ('correlation_id', '2017-06-07 17:15:58.181200'), ('kwargs', {'times': 3, 'on_seconds': 0.1, 'off_seconds': 0.1}), ('message_id', '2017-06-07 17:15:58.181200'), ('message_type', 'command'), ('receiver', 'n_Alpha'), ('reply_to', 'Client_366'), ('sender', 'Client_366')])\n",
      "\n",
      "\n",
      "Sending 280 bytes\n",
      "Message:\n",
      "OrderedDict([('command', 'blink led'), ('correlation_id', '2017-06-07 17:15:58.425200'), ('kwargs', {'times': 3, 'on_seconds': 0.1, 'off_seconds': 0.1}), ('message_id', '2017-06-07 17:15:58.425200'), ('message_type', 'command'), ('receiver', 'n_Lambda'), ('reply_to', 'Client_366'), ('sender', 'Client_366')])\n",
      "\n",
      "\n",
      "Sending 278 bytes\n",
      "Message:\n",
      "OrderedDict([('command', 'blink led'), ('correlation_id', '2017-06-07 17:15:58.512200'), ('kwargs', {'times': 3, 'on_seconds': 0.1, 'off_seconds': 0.1}), ('message_id', '2017-06-07 17:15:58.512200'), ('message_type', 'command'), ('receiver', 'n_Beta'), ('reply_to', 'Client_366'), ('sender', 'Client_366')])\n",
      "\n"
     ]
    }
   ],
   "source": [
    "messages['blink_led'] = {'message_type': 'command',\n",
    "                         'command': 'blink led',\n",
    "                         'kwargs': {'times': 3, 'on_seconds': 0.1, 'off_seconds': 0.1}}\n",
    "\n",
    "for remote_node in remote_nodes:\n",
    "    the_client.request(remote_node, messages['blink_led']);"
   ]
  },
  {
   "cell_type": "markdown",
   "metadata": {},
   "source": [
    "### Blink each node (broadcasting)"
   ]
  },
  {
   "cell_type": "code",
   "execution_count": 24,
   "metadata": {},
   "outputs": [
    {
     "name": "stdout",
     "output_type": "stream",
     "text": [
      "\n",
      "Sending 275 bytes\n",
      "Message:\n",
      "OrderedDict([('command', 'blink led'), ('correlation_id', '2017-06-07 17:20:22.688200'), ('kwargs', {'times': 3, 'on_seconds': 0.1, 'off_seconds': 0.1}), ('message_id', '2017-06-07 17:20:22.688200'), ('message_type', 'command'), ('receiver', 'Hub'), ('reply_to', 'Client_366'), ('sender', 'Client_366')])\n",
      "\n",
      "\n",
      "Data received: 275 bytes\n",
      "Message:\n",
      "OrderedDict([('command', 'blink led'), ('correlation_id', '2017-06-07 17:20:22.688200'), ('kwargs', {'times': 3, 'on_seconds': 0.1, 'off_seconds': 0.1}), ('message_id', '2017-06-07 17:20:22.688200'), ('message_type', 'command'), ('receiver', 'Hub'), ('reply_to', 'Client_366'), ('sender', 'Client_366')])\n",
      "\n"
     ]
    }
   ],
   "source": [
    "the_client.request('Hub', messages['blink_led']);"
   ]
  },
  {
   "cell_type": "markdown",
   "metadata": {},
   "source": [
    "### Read GPIOs"
   ]
  },
  {
   "cell_type": "code",
   "execution_count": 12,
   "metadata": {},
   "outputs": [
    {
     "name": "stdout",
     "output_type": "stream",
     "text": [
      "\n",
      "Sending 284 bytes\n",
      "Message:\n",
      "OrderedDict([('command', 'read GPIOs'), ('correlation_id', '2017-06-07 17:16:29.196200'), ('kwargs', {'pins': [5, 12, 13, 14, 15, 16]}), ('message_id', '2017-06-07 17:16:29.196200'), ('message_type', 'command'), ('need_result', True), ('receiver', 'n_Lambda'), ('reply_to', 'Client_366'), ('sender', 'Client_366')])\n",
      "\n",
      "\n",
      "Data received: 236 bytes\n",
      "Message:\n",
      "OrderedDict([('correlation_id', '2017-06-07 17:16:29.196200'), ('message_id', '1822442'), ('message_type', 'result'), ('receiver', 'Client_366'), ('reply_to', 'n_Lambda'), ('result', [[5, 1], [12, 1], [13, 1], [14, 1], [15, 0], [16, 1]]), ('sender', 'n_Lambda')])\n",
      "\n",
      "\n",
      "GPIO status for n_Lambda: [[5, 1], [12, 1], [13, 1], [14, 1], [15, 0], [16, 1]]\n",
      "\n"
     ]
    }
   ],
   "source": [
    "messages['read_GPIOs'] = {'message_type': 'command',\n",
    "                          'command': 'read GPIOs',\n",
    "                          'kwargs': {'pins': [5, 12, 13, 14, 15, 16]},\n",
    "                          'need_result': True}\n",
    "\n",
    "_, result = the_client.request(targeted_node, messages['read_GPIOs'])\n",
    "print('\\nGPIO status for {}: {}\\n'.format(targeted_node, result.get()));"
   ]
  },
  {
   "cell_type": "code",
   "execution_count": 13,
   "metadata": {
    "scrolled": true
   },
   "outputs": [
    {
     "name": "stdout",
     "output_type": "stream",
     "text": [
      "\n",
      "Sending 284 bytes\n",
      "Message:\n",
      "OrderedDict([('command', 'read GPIOs'), ('correlation_id', '2017-06-07 17:16:41.208200'), ('kwargs', {'pins': [5, 12, 13, 14, 15, 16]}), ('message_id', '2017-06-07 17:16:41.208200'), ('message_type', 'command'), ('need_result', True), ('receiver', 'n_Lambda'), ('reply_to', 'Client_366'), ('sender', 'Client_366')])\n",
      "\n",
      "\n",
      "Data received: 236 bytes\n",
      "Message:\n",
      "OrderedDict([('correlation_id', '2017-06-07 17:16:41.208200'), ('message_id', '1834600'), ('message_type', 'result'), ('receiver', 'Client_366'), ('reply_to', 'n_Lambda'), ('result', [[5, 1], [12, 1], [13, 1], [14, 1], [15, 0], [16, 1]]), ('sender', 'n_Lambda')])\n",
      "\n"
     ]
    },
    {
     "data": {
      "text/plain": [
       "[[5, 1], [12, 1], [13, 1], [14, 1], [15, 0], [16, 1]]"
      ]
     },
     "execution_count": 13,
     "metadata": {},
     "output_type": "execute_result"
    }
   ],
   "source": [
    "rpc = the_client.request(targeted_node, messages['read_GPIOs'])[1].get\n",
    "\n",
    "rpc()"
   ]
  },
  {
   "cell_type": "markdown",
   "metadata": {},
   "source": [
    "### Read GPIOs from each node"
   ]
  },
  {
   "cell_type": "code",
   "execution_count": 15,
   "metadata": {
    "collapsed": true
   },
   "outputs": [],
   "source": [
    "# for remote_node in remote_nodes:\n",
    "#     _, result = the_client.request(remote_node, messages['read_GPIOs']) \n",
    "#     print('\\nGPIO status for {}: {}\\n'.format(remote_node, result.get()))"
   ]
  },
  {
   "cell_type": "markdown",
   "metadata": {},
   "source": [
    "### Read GPIOs from each node and queue async_results"
   ]
  },
  {
   "cell_type": "code",
   "execution_count": 14,
   "metadata": {},
   "outputs": [
    {
     "name": "stdout",
     "output_type": "stream",
     "text": [
      "\n",
      "Sending 283 bytes\n",
      "Message:\n",
      "OrderedDict([('command', 'read GPIOs'), ('correlation_id', '2017-06-07 17:17:05.244200'), ('kwargs', {'pins': [5, 12, 13, 14, 15, 16]}), ('message_id', '2017-06-07 17:17:05.244200'), ('message_type', 'command'), ('need_result', True), ('receiver', 'n_Alpha'), ('reply_to', 'Client_366'), ('sender', 'Client_366')])\n",
      "\n",
      "\n",
      "Sending 284 bytes\n",
      "Message:\n",
      "OrderedDict([('command', 'read GPIOs'), ('correlation_id', '2017-06-07 17:17:05.541200'), ('kwargs', {'pins': [5, 12, 13, 14, 15, 16]}), ('message_id', '2017-06-07 17:17:05.541200'), ('message_type', 'command'), ('need_result', True), ('receiver', 'n_Lambda'), ('reply_to', 'Client_366'), ('sender', 'Client_366')])\n",
      "\n",
      "Sending 282 bytes\n",
      "Message:\n",
      "OrderedDict([('command', 'read GPIOs'), ('correlation_id', '2017-06-07 17:17:05.615200'), ('kwargs', {'pins': [5, 12, 13, 14, 15, 16]}), ('message_id', '2017-06-07 17:17:05.615200'), ('message_type', 'command'), ('need_result', True), ('receiver', 'n_Beta'), ('reply_to', 'Client_366'), ('sender', 'Client_366')])\n",
      "\n",
      "\n"
     ]
    },
    {
     "data": {
      "text/plain": [
       "[('n_Alpha', <asynch_result.Asynch_result at 0x66c5400>),\n",
       " ('n_Lambda', <asynch_result.Asynch_result at 0x66c5cc0>),\n",
       " ('n_Beta', <asynch_result.Asynch_result at 0x66dd780>)]"
      ]
     },
     "execution_count": 14,
     "metadata": {},
     "output_type": "execute_result"
    },
    {
     "name": "stdout",
     "output_type": "stream",
     "text": [
      "\n",
      "Data received: 234 bytes\n",
      "Message:\n",
      "OrderedDict([('correlation_id', '2017-06-07 17:17:05.244200'), ('message_id', '1855286'), ('message_type', 'result'), ('receiver', 'Client_366'), ('reply_to', 'n_Alpha'), ('result', [[5, 1], [12, 1], [13, 1], [14, 1], [15, 0], [16, 0]]), ('sender', 'n_Alpha')])\n",
      "\n",
      "\n",
      "Data received: 236 bytes\n",
      "Message:\n",
      "OrderedDict([('correlation_id', '2017-06-07 17:17:05.541200'), ('message_id', '1858834'), ('message_type', 'result'), ('receiver', 'Client_366'), ('reply_to', 'n_Lambda'), ('result', [[5, 1], [12, 1], [13, 1], [14, 1], [15, 0], [16, 1]]), ('sender', 'n_Lambda')])\n",
      "\n",
      "\n",
      "Data received: 232 bytes\n",
      "Message:\n",
      "OrderedDict([('correlation_id', '2017-06-07 17:17:05.615200'), ('message_id', '1855674'), ('message_type', 'result'), ('receiver', 'Client_366'), ('reply_to', 'n_Beta'), ('result', [[5, 1], [12, 1], [13, 1], [14, 1], [15, 0], [16, 0]]), ('sender', 'n_Beta')])\n",
      "\n"
     ]
    }
   ],
   "source": [
    "status = []\n",
    "\n",
    "for remote_node in remote_nodes:\n",
    "    _, result = the_client.request(remote_node, messages['read_GPIOs']) \n",
    "    status.append((remote_node, result))\n",
    "    \n",
    "status"
   ]
  },
  {
   "cell_type": "markdown",
   "metadata": {},
   "source": [
    "### Get results via async_results"
   ]
  },
  {
   "cell_type": "code",
   "execution_count": 15,
   "metadata": {},
   "outputs": [
    {
     "name": "stdout",
     "output_type": "stream",
     "text": [
      "\n",
      "GPIO status for n_Alpha: [[5, 1], [12, 1], [13, 1], [14, 1], [15, 0], [16, 0]]\n",
      "\n",
      "\n",
      "GPIO status for n_Lambda: [[5, 1], [12, 1], [13, 1], [14, 1], [15, 0], [16, 1]]\n",
      "\n",
      "\n",
      "GPIO status for n_Beta: [[5, 1], [12, 1], [13, 1], [14, 1], [15, 0], [16, 0]]\n",
      "\n"
     ]
    }
   ],
   "source": [
    "for remote_node, result in status: \n",
    "    print('\\nGPIO status for {}: {}\\n'.format(remote_node, result.get()))"
   ]
  },
  {
   "cell_type": "markdown",
   "metadata": {},
   "source": [
    "### Eval"
   ]
  },
  {
   "cell_type": "code",
   "execution_count": 28,
   "metadata": {},
   "outputs": [
    {
     "name": "stdout",
     "output_type": "stream",
     "text": [
      "\n",
      "Sending 233 bytes\n",
      "Message:\n",
      "OrderedDict([('correlation_id', '2017-06-07 17:20:51.751200'), ('message_id', '2017-06-07 17:20:51.751200'), ('message_type', 'eval'), ('need_result', True), ('receiver', 'n_Lambda'), ('reply_to', 'Client_366'), ('sender', 'Client_366'), ('to_evaluate', '2+3')])\n",
      "\n",
      "\n",
      "Data received: 184 bytes\n",
      "Message:\n",
      "OrderedDict([('correlation_id', '2017-06-07 17:20:51.751200'), ('message_id', '2085065'), ('message_type', 'result'), ('receiver', 'Client_366'), ('reply_to', 'n_Lambda'), ('result', 5), ('sender', 'n_Lambda')])\n",
      "\n",
      "result: 5\n"
     ]
    }
   ],
   "source": [
    "messages['test_eval'] = {'message_type': 'eval',\n",
    "                         'to_evaluate': '2+3',\n",
    "                         'need_result': True}\n",
    "\n",
    "_, result = the_client.request(targeted_node, messages['test_eval']) \n",
    "print('result:', result.get());"
   ]
  },
  {
   "cell_type": "markdown",
   "metadata": {},
   "source": [
    "### Exec"
   ]
  },
  {
   "cell_type": "code",
   "execution_count": 29,
   "metadata": {},
   "outputs": [
    {
     "name": "stdout",
     "output_type": "stream",
     "text": [
      "\n",
      "Sending 228 bytes\n",
      "Message:\n",
      "OrderedDict([('correlation_id', '2017-06-07 17:21:01.315200'), ('message_id', '2017-06-07 17:21:01.315200'), ('message_type', 'exec'), ('receiver', 'n_Lambda'), ('reply_to', 'Client_366'), ('sender', 'Client_366'), ('to_exec', 'print(\"Hello World!\")')])\n",
      "\n"
     ]
    }
   ],
   "source": [
    "messages['test_exec'] = {'message_type': 'exec',\n",
    "                         'to_exec': 'print(\"Hello World!\")'} \n",
    "\n",
    "the_client.request(targeted_node, messages['test_exec']);"
   ]
  },
  {
   "cell_type": "markdown",
   "metadata": {},
   "source": [
    "### Invoke remote functions"
   ]
  },
  {
   "cell_type": "code",
   "execution_count": 18,
   "metadata": {
    "collapsed": true
   },
   "outputs": [],
   "source": [
    "# messages['test_function'] = {'message_type': 'function',\n",
    "#                              'function': 'blink_led',\n",
    "#                              'kwargs': {'times': 3, 'on_seconds': 0.1, 'off_seconds': 0.1}}\n",
    "\n",
    "# the_client.request(targeted_node, messages['test_function']);"
   ]
  },
  {
   "cell_type": "markdown",
   "metadata": {},
   "source": [
    "### Transmit function (behavior) and invoke it remotely"
   ]
  },
  {
   "cell_type": "code",
   "execution_count": 30,
   "metadata": {},
   "outputs": [
    {
     "name": "stdout",
     "output_type": "stream",
     "text": [
      "\n",
      "Sending 275 bytes\n",
      "Message:\n",
      "OrderedDict([('correlation_id', '2017-06-07 17:21:21.629200'), ('message_id', '2017-06-07 17:21:21.629200'), ('message_type', 'script'), ('receiver', 'n_Lambda'), ('reply_to', 'Client_366'), ('script', 'def function_to_test(arg):\\n    print(arg)\\n\\ndef main():\\n    pass\\n'), ('sender', 'Client_366')])\n",
      "\n",
      "\n",
      "Sending 218 bytes\n",
      "Message:\n",
      "OrderedDict([('correlation_id', '2017-06-07 17:21:21.867200'), ('message_id', '2017-06-07 17:21:21.867200'), ('message_type', 'exec'), ('receiver', 'n_Lambda'), ('reply_to', 'Client_366'), ('sender', 'Client_366'), ('to_exec', 'import script')])\n",
      "\n",
      "\n",
      "Sending 271 bytes\n",
      "Message:\n",
      "OrderedDict([('correlation_id', '2017-06-07 17:21:21.940200'), ('message_id', '2017-06-07 17:21:21.940200'), ('message_type', 'exec'), ('receiver', 'n_Lambda'), ('reply_to', 'Client_366'), ('sender', 'Client_366'), ('to_exec', \"script.function_to_test('_______ Testing dynamic function ______')\")])\n",
      "\n"
     ]
    }
   ],
   "source": [
    "with open('functions_def.py') as f:\n",
    "    script = f.read()    \n",
    "the_client.request(targeted_node, {'message_type': 'script', \n",
    "                                   'script': script}) \n",
    "\n",
    "the_client.request(targeted_node, {'message_type': 'exec',\n",
    "                                   'to_exec': \"import script\"})\n",
    "\n",
    "the_client.request(targeted_node, {'message_type': 'exec',\n",
    "                                   'to_exec': \"script.function_to_test('_______ Testing dynamic function ______')\"});"
   ]
  },
  {
   "cell_type": "markdown",
   "metadata": {},
   "source": [
    "### Upload and run a script file"
   ]
  },
  {
   "cell_type": "code",
   "execution_count": 33,
   "metadata": {
    "scrolled": true
   },
   "outputs": [],
   "source": [
    "# with open('script_to_deploy.py') as f:\n",
    "#     script = f.read()\n",
    "    \n",
    "# messages['test_upload_script'] = {'message_type': 'script', \n",
    "#                                   'script': script} \n",
    "\n",
    "# the_client.request(targeted_node, messages['test_upload_script']);"
   ]
  },
  {
   "cell_type": "markdown",
   "metadata": {},
   "source": [
    "### Stop the demo"
   ]
  },
  {
   "cell_type": "code",
   "execution_count": 36,
   "metadata": {},
   "outputs": [
    {
     "name": "stdout",
     "output_type": "stream",
     "text": [
      "[Closed: ('123.110.13.5', 1883)]\n",
      "[________________ Demo stopped ________________]\n",
      "\n",
      "\n"
     ]
    }
   ],
   "source": [
    "# Stopping\n",
    "the_client.stop()\n",
    "the_client = None\n",
    "print('\\n[________________ Demo stopped ________________]\\n')"
   ]
  },
  {
   "cell_type": "code",
   "execution_count": null,
   "metadata": {
    "collapsed": true
   },
   "outputs": [],
   "source": []
  }
 ],
 "metadata": {
  "anaconda-cloud": {},
  "kernelspec": {
   "display_name": "Python 3",
   "language": "python",
   "name": "python3"
  },
  "language_info": {
   "codemirror_mode": {
    "name": "ipython",
    "version": 3
   },
   "file_extension": ".py",
   "mimetype": "text/x-python",
   "name": "python",
   "nbconvert_exporter": "python",
   "pygments_lexer": "ipython3",
   "version": "3.5.3"
  }
 },
 "nbformat": 4,
 "nbformat_minor": 1
}

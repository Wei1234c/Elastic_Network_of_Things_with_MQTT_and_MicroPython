{
 "cells": [
  {
   "cell_type": "markdown",
   "metadata": {},
   "source": [
    "# paho MQTT client test\n",
    "https://pypi.python.org/pypi/paho-mqtt/1.2  \n",
    "https://mosquitto.org/   \n",
    "http://www.hivemq.com/blog/mqtt-essentials/  "
   ]
  },
  {
   "cell_type": "code",
   "execution_count": 2,
   "metadata": {
    "collapsed": true
   },
   "outputs": [],
   "source": [
    "import paho.mqtt.client as mqtt\n",
    "import paho.mqtt.publish as publish"
   ]
  },
  {
   "cell_type": "code",
   "execution_count": 3,
   "metadata": {
    "collapsed": false
   },
   "outputs": [],
   "source": [
    "import sys\n",
    "import os\n",
    "sys.path.append(os.path.abspath(os.path.join(os.path.pardir, 'codes\\\\shared')))\n",
    "sys.path.append(os.path.abspath(os.path.join(os.path.pardir, 'codes\\\\node')))\n",
    "import config\n",
    "import worker_config"
   ]
  },
  {
   "cell_type": "code",
   "execution_count": 4,
   "metadata": {
    "collapsed": false
   },
   "outputs": [],
   "source": [
    "host = config.BROKER_HOST\n",
    "topic_root = \"test\"\n",
    "client_id = worker_config.WORKER_NAME\n",
    "auth = {'username': config.USERNAME,\n",
    "        'password': config.PASSWORD}\n",
    "qos_level = config.QOS_LEVEL"
   ]
  },
  {
   "cell_type": "code",
   "execution_count": 5,
   "metadata": {
    "collapsed": false
   },
   "outputs": [],
   "source": [
    "topic = topic_root + '/test'\n",
    "message = 'Hello'\n",
    "publish.single(topic, message, qos = qos_level, \n",
    "               hostname = host, auth = auth,\n",
    "               client_id = client_id)"
   ]
  },
  {
   "cell_type": "markdown",
   "metadata": {},
   "source": [
    "## Getting Started\n",
    "Here is a very simple example that subscribes to the broker $SYS topic tree and prints out the resulting messages:"
   ]
  },
  {
   "cell_type": "code",
   "execution_count": 8,
   "metadata": {
    "collapsed": false
   },
   "outputs": [],
   "source": [
    "import paho.mqtt.client as mqtt\n",
    "\n",
    "client = mqtt.Client(client_id = client_id)  # , clean_session=True, userdata=None, protocol=MQTTv311, transport=\"tcp\")\n",
    "client.max_inflight_messages_set(1)\n",
    "# client.will_set(topic, payload=None, qos=qos_level, retain=False)\n",
    "\n",
    "\n",
    "# The callback for when the client receives a CONNACK response from the server.\n",
    "def on_connect(client, userdata, flags, rc):\n",
    "    print(\"Connected with result code {}\".format(str(rc)))\n",
    "\n",
    "    # Subscribing in on_connect() means that if we lose the connection and\n",
    "    # reconnect then subscriptions will be renewed.\n",
    "    client.subscribe(\"$SYS/broker/messages/#\", qos = qos_level)\n",
    "\n",
    "def on_disconnect(client, userdata, rc):\n",
    "    print(\"Disconnected with result code {}\".format(str(rc)))\n",
    "\n",
    "def on_publish(client, userdata, mid):\n",
    "    print(\"On publish {}\".format(mid))\n",
    "\n",
    "def on_subscribe(client, userdata, mid, granted_qos):\n",
    "    print(\"On subscribe, mid:{}, granted_qos:{}\".format(mid, granted_qos))\n",
    "        \n",
    "def on_unsubscribe(client, userdata, mid):\n",
    "    print(\"On unsubscribe {}\".format(mid))\n",
    "        \n",
    "# The callback for when a PUBLISH message is received from the server.\n",
    "def on_message(client, userdata, message):\n",
    "    print('Message topic: {}, payload: {}'.format(message.topic, str(message.payload)))\n",
    "    print('Message:\\n{}\\n'.format(message.__dict__))\n",
    "\n",
    "def on_log(client, userdata, level, buf):\n",
    "    print(\"On log level: {}, buf: {}\".format(level, buf))\n",
    "    \n",
    "client.on_connect = on_connect\n",
    "client.on_disconnect = on_disconnect\n",
    "client.on_publish = on_publish\n",
    "client.on_subscribe = on_subscribe\n",
    "client.on_unsubscribe = on_unsubscribe\n",
    "client.on_message = on_message\n",
    "\n",
    "\n",
    "client.username_pw_set(**auth)"
   ]
  },
  {
   "cell_type": "code",
   "execution_count": 9,
   "metadata": {
    "collapsed": false
   },
   "outputs": [
    {
     "data": {
      "text/plain": [
       "0"
      ]
     },
     "execution_count": 9,
     "metadata": {},
     "output_type": "execute_result"
    }
   ],
   "source": [
    "client.connect(host = host)  # , port=1883, keepalive=60, bind_address=\"\")\n",
    "# client.reconnect()\n",
    "\n",
    "# Blocking call that processes network traffic, dispatches callbacks and\n",
    "# handles reconnecting.\n",
    "# Other loop*() functions are available that give a threaded interface and a\n",
    "# manual interface.\n",
    "client.loop_forever()"
   ]
  },
  {
   "cell_type": "code",
   "execution_count": 14,
   "metadata": {
    "collapsed": false
   },
   "outputs": [
    {
     "name": "stdout",
     "output_type": "stream",
     "text": [
      "Disconnected with result code 0\n"
     ]
    }
   ],
   "source": [
    "client.disconnect()\n",
    "client = None"
   ]
  },
  {
   "cell_type": "markdown",
   "metadata": {},
   "source": [
    "## Client\n",
    "You can use the client class as an instance, within a class or by subclassing. The general usage flow is as follows:\n",
    "\n",
    "- Create a client instance\n",
    "- Connect to a broker using one of the connect*() functions\n",
    "- Call one of the loop*() functions to maintain network traffic flow with the broker\n",
    "- Use subscribe() to subscribe to a topic and receive messages\n",
    "- Use publish() to publish messages to the broker\n",
    "- Use disconnect() to disconnect from the broker  \n",
    "\n",
    "Callbacks will be called to allow the application to process events as necessary. These callbacks are described below"
   ]
  },
  {
   "cell_type": "markdown",
   "metadata": {},
   "source": [
    "### Constructor / reinitialise\n",
    "Client()\n",
    "```\n",
    "Client(client_id=\"\", clean_session=True, userdata=None, protocol=MQTTv311, transport=\"tcp\")\n",
    "```"
   ]
  },
  {
   "cell_type": "markdown",
   "metadata": {},
   "source": [
    "### Option functions\n",
    "These functions represent options that can be set on the client to modify its behaviour. In the majority of cases this must be done before connecting to a broker.  \n",
    "\n",
    "max_inflight_messages_set()"
   ]
  },
  {
   "cell_type": "markdown",
   "metadata": {},
   "source": [
    "```\n",
    "max_inflight_messages_set(self, inflight)\n",
    "```"
   ]
  },
  {
   "cell_type": "markdown",
   "metadata": {},
   "source": [
    "### Connect / reconnect / disconnect\n",
    "connect()\n",
    "```\n",
    "connect(host, port=1883, keepalive=60, bind_address=\"\")\n",
    "```"
   ]
  },
  {
   "cell_type": "markdown",
   "metadata": {},
   "source": [
    "### Network loop\n",
    "These functions are the driving force behind the client. If they are not called, incoming network data will not be processed and outgoing network data may not be sent in a timely fashion. There are four options for managing the network loop. Three are described here, the fourth in “External event loop support” below. Do not mix the different loop functions.\n",
    "\n",
    "loop()"
   ]
  },
  {
   "cell_type": "markdown",
   "metadata": {},
   "source": [
    "```\n",
    "loop(timeout=1.0, max_packets=1)\n",
    "```"
   ]
  },
  {
   "cell_type": "markdown",
   "metadata": {},
   "source": [
    "loop_forever()\n",
    "```\n",
    "loop_forever(timeout=1.0, max_packets=1, retry_first_connection=False)\n",
    "```"
   ]
  },
  {
   "cell_type": "markdown",
   "metadata": {},
   "source": [
    "### Publishing\n",
    "Send a message from the client to the broker.\n",
    "\n",
    "publish()  \n",
    "```\n",
    "publish(topic, payload=None, qos=0, retain=False)\n",
    "```"
   ]
  },
  {
   "cell_type": "markdown",
   "metadata": {
    "collapsed": true
   },
   "source": [
    "### Subscribe / Unsubscribe\n",
    "subscribe()\n",
    "```\n",
    "subscribe(topic, qos=0)\n",
    "```"
   ]
  },
  {
   "cell_type": "markdown",
   "metadata": {},
   "source": [
    "### Callbacks\n",
    "on_connect()\n",
    "```\n",
    "on_connect(client, userdata, flags, rc)\n",
    "```"
   ]
  },
  {
   "cell_type": "markdown",
   "metadata": {},
   "source": [
    "### message_callback_add()\n",
    "\n",
    "This function allows you to define callbacks that handle incoming messages for specific subscription filters, including with wildcards. This lets you, for example, subscribe to sensors/# and have one callback to handle sensors/temperature and another to handle sensors/humidity.\n",
    "```\n",
    "message_callback_add(sub, callback)\n",
    "```\n",
    "sub  \n",
    "`the subscription filter to match against for this callback. Only one callback may be defined per literal sub string  `  \n",
    "callback  \n",
    "`the callback to be used. Takes the same form as the on_message callback.`  \n",
    "\n",
    "**If using message_callback_add() and on_message, only messages that do not match a subscription specific filter will be passed to the on_message callback.**\n",
    "\n",
    "message_callback_remove()\n",
    "\n",
    "Remove a topic/subscription specific callback previously registered using message_callback_add().\n",
    "```\n",
    "message_callback_remove(sub)\n",
    "```\n",
    "sub\n",
    "the subscription filter to remove"
   ]
  },
  {
   "cell_type": "markdown",
   "metadata": {},
   "source": [
    "## External event loop support\n",
    "loop_read() \n",
    "```\n",
    "loop_read(max_packets=1)\n",
    "```\n",
    " \n",
    "Call when the socket is ready for reading. max_packets is obsolete and should be left unset."
   ]
  },
  {
   "cell_type": "markdown",
   "metadata": {},
   "source": [
    "loop_write()\n",
    "```\n",
    "loop_write(max_packets=1)\n",
    "```\n",
    "Call when the socket is ready for writing. max_packets is obsolete and should be left unset."
   ]
  },
  {
   "cell_type": "markdown",
   "metadata": {},
   "source": [
    "loop_misc()\n",
    "```\n",
    "loop_misc()\n",
    "```\n",
    "Call every few seconds to handle message retrying and pings."
   ]
  },
  {
   "cell_type": "markdown",
   "metadata": {},
   "source": [
    "socket()\n",
    "```\n",
    "socket()\n",
    "```\n",
    "Returns the socket object in use in the client to allow interfacing with other event loops."
   ]
  },
  {
   "cell_type": "markdown",
   "metadata": {},
   "source": [
    "want_write()\n",
    "```\n",
    "want_write()\n",
    "```\n",
    "Returns true if there is data waiting to be written, to allow interfacing the client with other event loops."
   ]
  },
  {
   "cell_type": "markdown",
   "metadata": {},
   "source": [
    "## Global helper functions\n",
    "The client module also offers some global helper functions.\n",
    "\n",
    "topic_matches_sub(sub, topic) can be used to check whether a topic matches a subscription.\n",
    "\n",
    "For example:\n",
    "\n",
    "- the topic foo/bar would match the subscription foo/# or +/bar\n",
    "\n",
    "- the topic non/matching would not match the subscription non/+/+\n",
    "\n",
    "connack_string(connack_code) returns the error string associated with a CONNACK result.\n",
    "\n",
    "error_string(mqtt_errno) returns the error string associated with a Paho MQTT error number."
   ]
  },
  {
   "cell_type": "markdown",
   "metadata": {},
   "source": [
    "## Publish\n",
    "This module provides some helper functions to allow straightforward publishing of messages in a one-shot manner. In other words, they are useful for the situation where you have a single/multiple messages you want to publish to a broker, then disconnect with nothing else required.\n",
    "\n",
    "The two functions provided are single() and multiple()."
   ]
  },
  {
   "cell_type": "markdown",
   "metadata": {},
   "source": [
    "### Single\n",
    "Publish a single message to a broker, then disconnect cleanly.\n",
    "```\n",
    "single(topic, payload=None, qos=0, retain=False, hostname=\"localhost\",\n",
    "    port=1883, client_id=\"\", keepalive=60, will=None, auth=None, tls=None,\n",
    "    protocol=mqtt.MQTTv311, transport=\"tcp\")\n",
    "    ```\n",
    "Publish Single Function arguments\n",
    "\n",
    "topic  \n",
    "the only required argument must be the topic string to which the payload will be published.\n",
    "payload  \n",
    "the payload to be published. If “” or None, a zero length payload will be published.\n",
    "qos  \n",
    "the qos to use when publishing, default to 0.\n",
    "retain  \n",
    "set the message to be retained (True) or not (False).\n",
    "hostname  \n",
    "a string containing the address of the broker to connect to. Defaults to localhost.\n",
    "port  \n",
    "the port to connect to the broker on. Defaults to 1883.\n",
    "client_id  \n",
    "the MQTT client id to use. If “” or None, the Paho library will generate a client id automatically.\n",
    "keepalive  \n",
    "the keepalive timeout value for the client. Defaults to 60 seconds.\n",
    "will  \n",
    "a dict containing will parameters for the client:\n",
    "\n",
    "will = {‘topic’: “<topic>”, ‘payload’:”<payload”>, ‘qos’:<qos>, ‘retain’:<retain>}.\n",
    "\n",
    "Topic is required, all other parameters are optional and will default to None, 0 and False respectively.\n",
    "\n",
    "Defaults to None, which indicates no will should be used.\n",
    "\n",
    "auth  \n",
    "a dict containing authentication parameters for the client:\n",
    "\n",
    "auth = {‘username’:”<username>”, ‘password’:”<password>”}\n",
    "\n",
    "Username is required, password is optional and will default to None if not provided.\n",
    "\n",
    "Defaults to None, which indicates no authentication is to be used.\n",
    "\n",
    "tls  \n",
    "a dict containing TLS configuration parameters for the client:\n",
    "\n",
    "dict = {‘ca_certs’:”<ca_certs>”, ‘certfile’:”<certfile>”, ‘keyfile’:”<keyfile>”, ‘tls_version’:”<tls_version>”, ‘ciphers’:”<ciphers”>}\n",
    "\n",
    "ca_certs is required, all other parameters are optional and will default to None if not provided, which results in the client using the default behaviour - see the paho.mqtt.client documentation.\n",
    "\n",
    "Defaults to None, which indicates that TLS should not be used.\n",
    "\n",
    "protocol  \n",
    "choose the version of the MQTT protocol to use. Use either MQTTv31 or MQTTv311.\n",
    "transport  \n",
    "set to “websockets” to send MQTT over WebSockets. Leave at the default of “tcp” to use raw TCP.\n",
    "Publish Single Example  \n",
    "```\n",
    "import paho.mqtt.publish as publish\n",
    "publish.single(\"paho/test/single\", \"payload\", hostname=\"iot.eclipse.org\")\n",
    "```"
   ]
  },
  {
   "cell_type": "markdown",
   "metadata": {},
   "source": [
    "### Multiple\n",
    "Publish multiple messages to a broker, then disconnect cleanly.\n",
    "```\n",
    "multiple(msgs, hostname=\"localhost\", port=1883, client_id=\"\", keepalive=60,\n",
    "    will=None, auth=None, tls=None, protocol=mqtt.MQTTv311, transport=\"tcp\")\n",
    "    ```\n",
    "Publish Multiple Function arguments\n",
    "\n",
    "msgs  \n",
    "a list of messages to publish. Each message is either a dict or a tuple.\n",
    "\n",
    "If a dict, only the topic must be present. Default values will be used for any missing arguments. The dict must be of the form:\n",
    "\n",
    "**msg = {‘topic’:”<topic>”, ‘payload’:”<payload>”, ‘qos’:<qos>, ‘retain’:<retain>}**\n",
    "\n",
    "topic must be present and may not be empty. If payload is “”, None or not present then a zero length payload will be published. If qos is not present, the default of 0 is used. If retain is not present, the default of False is used.\n",
    "\n",
    "If a tuple, then it must be of the form:\n",
    "\n",
    "(“<topic>”, “<payload>”, qos, retain)\n",
    "\n",
    "See single() for the description of hostname, port, client_id, keepalive, will, auth, tls, protocol, transport.\n",
    "\n",
    "Publish Multiple Example\n",
    "```\n",
    "import paho.mqtt.publish as publish\n",
    "\n",
    "msgs = [{'topic':\"paho/test/multiple\", 'payload':\"multiple 1\"},\n",
    "    (\"paho/test/multiple\", \"multiple 2\", 0, False)]\n",
    "publish.multiple(msgs, hostname=\"iot.eclipse.org\")\n",
    "```"
   ]
  },
  {
   "cell_type": "markdown",
   "metadata": {},
   "source": [
    "## Subscribe\n",
    "This module provides some helper functions to allow straightforward subscribing and processing of messages.\n",
    "\n",
    "The two functions provided are simple() and callback().\n",
    "\n",
    "### Simple\n",
    "Subscribe to a set of topics and return the messages received. This is a **blocking** function.\n",
    "```\n",
    "simple(topics, qos=0, msg_count=1, retained=False, hostname=\"localhost\",\n",
    "    port=1883, client_id=\"\", keepalive=60, will=None, auth=None, tls=None,\n",
    "    protocol=mqtt.MQTTv311)\n",
    "    ```\n",
    "    \n",
    "Simple Subscribe Function arguments\n",
    "\n",
    "topics  \n",
    "the only required argument is the topic string to which the client will subscribe. This can either be a string or a list of strings if multiple topics should be subscribed to.\n",
    "qos  \n",
    "the qos to use when subscribing, defaults to 0.\n",
    "**msg_count  \n",
    "the number of messages to retrieve from the broker. Defaults to 1. If 1, a single MQTTMessage object will be returned. If >1, a list of MQTTMessages will be returned.**\n",
    "retained  \n",
    "set to True to consider retained messages, set to False to ignore messages with the retained flag set.\n",
    "hostname  \n",
    "a string containing the address of the broker to connect to. Defaults to localhost.\n",
    "port  \n",
    "the port to connect to the broker on. Defaults to 1883.\n",
    "client_id  \n",
    "the MQTT client id to use. If “” or None, the Paho library will generate a client id automatically.\n",
    "keepalive  \n",
    "the keepalive timeout value for the client. Defaults to 60 seconds.\n",
    "will  \n",
    "a dict containing will parameters for the client:\n",
    "\n",
    "will = {‘topic’: “<topic>”, ‘payload’:”<payload”>, ‘qos’:<qos>, ‘retain’:<retain>}.\n",
    "\n",
    "Topic is required, all other parameters are optional and will default to None, 0 and False respectively.\n",
    "\n",
    "Defaults to None, which indicates no will should be used.\n",
    "\n",
    "auth  \n",
    "a dict containing authentication parameters for the client:\n",
    "\n",
    "auth = {‘username’:”<username>”, ‘password’:”<password>”}\n",
    "\n",
    "Username is required, password is optional and will default to None if not provided.\n",
    "\n",
    "Defaults to None, which indicates no authentication is to be used.\n",
    "\n",
    "tls  \n",
    "a dict containing TLS configuration parameters for the client:\n",
    "\n",
    "dict = {‘ca_certs’:”<ca_certs>”, ‘certfile’:”<certfile>”, ‘keyfile’:”<keyfile>”, ‘tls_version’:”<tls_version>”, ‘ciphers’:”<ciphers”>}\n",
    "\n",
    "ca_certs is required, all other parameters are optional and will default to None if not provided, which results in the client using the default behaviour - see the paho.mqtt.client documentation.\n",
    "\n",
    "Defaults to None, which indicates that TLS should not be used.\n",
    "\n",
    "protocol  \n",
    "choose the version of the MQTT protocol to use. Use either MQTTv31 or MQTTv311.\n",
    "Simple Example\n",
    "```\n",
    "import paho.mqtt.subscribe as subscribe\n",
    "\n",
    "msg = subscribe.simple(\"paho/test/simple\", hostname=\"iot.eclipse.org\")\n",
    "print(\"%s %s\" % (msg.topic, msg.payload)) \n",
    "```"
   ]
  },
  {
   "cell_type": "markdown",
   "metadata": {},
   "source": [
    "### Using Callback\n",
    "Subscribe to a set of topics and process the messages received using a user provided callback.\n",
    "```\n",
    "callback(callback, topics, qos=0, userdata=None, hostname=\"localhost\",\n",
    "    port=1883, client_id=\"\", keepalive=60, will=None, auth=None, tls=None,\n",
    "    protocol=mqtt.MQTTv311)\n",
    "Callback Subscribe Function arguments\n",
    "```\n",
    "callback  \n",
    "an “on_message” callback that will be used for each message received, and of the form  \n",
    "\n",
    "def on_message(client, userdata, message)  \n",
    "topics  \n",
    "the topic string to which the client will subscribe. This can either be a string or a list of strings if multiple topics should be subscribed to.  \n",
    "qos  \n",
    "the qos to use when subscribing, defaults to 0.  \n",
    "userdata  \n",
    "a user provided object that will be passed to the on_message callback when a message is received.  \n",
    "See simple() for the description of hostname, port, client_id, keepalive, will, auth, tls, protocol.  \n",
    "\n",
    "Callback Example  \n",
    "```\n",
    "import paho.mqtt.subscribe as subscribe\n",
    "\n",
    "def on_message_print(client, userdata, message):\n",
    "    print(\"%s %s\" % (message.topic, message.payload))\n",
    "\n",
    "subscribe.callback(on_message_print, \"paho/test/callback\", hostname=\"iot.eclipse.org\")\n",
    "```"
   ]
  },
  {
   "cell_type": "code",
   "execution_count": null,
   "metadata": {
    "collapsed": true
   },
   "outputs": [],
   "source": []
  }
 ],
 "metadata": {
  "anaconda-cloud": {},
  "kernelspec": {
   "display_name": "Python 3",
   "language": "python",
   "name": "python3"
  },
  "language_info": {
   "codemirror_mode": {
    "name": "ipython",
    "version": 3
   },
   "file_extension": ".py",
   "mimetype": "text/x-python",
   "name": "python",
   "nbconvert_exporter": "python",
   "pygments_lexer": "ipython3",
   "version": "3.5.1"
  }
 },
 "nbformat": 4,
 "nbformat_minor": 0
}

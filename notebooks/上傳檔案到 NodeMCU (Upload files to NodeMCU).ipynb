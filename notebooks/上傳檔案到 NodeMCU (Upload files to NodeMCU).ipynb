{
 "cells": [
  {
   "cell_type": "markdown",
   "metadata": {},
   "source": [
    "# 上傳檔案到 NodeMCU (Upload files to NodeMCU)"
   ]
  },
  {
   "cell_type": "markdown",
   "metadata": {},
   "source": [
    "### 需先安裝 ampy ( Adafruit MicroPython Tool )\n",
    "#### pip install adafruit-ampy\n",
    "https://github.com/adafruit/ampy"
   ]
  },
  {
   "cell_type": "code",
   "execution_count": 1,
   "metadata": {
    "collapsed": true
   },
   "outputs": [],
   "source": [
    "import os"
   ]
  },
  {
   "cell_type": "markdown",
   "metadata": {},
   "source": [
    "### 設定COM port (set current COM port)"
   ]
  },
  {
   "cell_type": "code",
   "execution_count": 127,
   "metadata": {
    "collapsed": true
   },
   "outputs": [],
   "source": [
    "com_port = 'COM12'\n",
    "com_port = 'COM13'\n",
    "# com_port = 'COM15'\n",
    "# com_port = 'COM16'"
   ]
  },
  {
   "cell_type": "markdown",
   "metadata": {},
   "source": [
    "### 列出檔案 (list files)"
   ]
  },
  {
   "cell_type": "code",
   "execution_count": null,
   "metadata": {
    "collapsed": false
   },
   "outputs": [],
   "source": [
    "# 現存檔案\n",
    "files = !ampy --port {com_port} ls\n",
    "files"
   ]
  },
  {
   "cell_type": "markdown",
   "metadata": {},
   "source": [
    "### 刪除檔案 (delete all files)"
   ]
  },
  {
   "cell_type": "code",
   "execution_count": null,
   "metadata": {
    "collapsed": false
   },
   "outputs": [],
   "source": [
    "# 清空\n",
    "for file in files:\n",
    "    print('Deleting {0}'.format(file))\n",
    "    !ampy --port {com_port} rm {file}"
   ]
  },
  {
   "cell_type": "markdown",
   "metadata": {},
   "source": [
    "### Functions for copying files"
   ]
  },
  {
   "cell_type": "code",
   "execution_count": 3,
   "metadata": {
    "collapsed": true
   },
   "outputs": [],
   "source": [
    "def copy_one_file(folder, file):         \n",
    "    print('Copying {0}'.format(file))\n",
    "    !ampy --port {com_port} put {os.path.join(folder, file)}\n",
    "    \n",
    "    \n",
    "def copy_all_files(folders, main_filename = 'main.py'):\n",
    "    files = !ampy --port {com_port} ls\n",
    "\n",
    "    if main_filename in files:\n",
    "        print('Deleting {0}'.format(main_filename))\n",
    "        !ampy --port {com_port} rm {main_filename}\n",
    "\n",
    "    for folder in folders: \n",
    "        for file in os.listdir(folder):\n",
    "            if file.endswith('.py') and not file.startswith('_') and not file.startswith(main_filename):\n",
    "                print('Copying {0}'.format(file))\n",
    "                !ampy --port {com_port} put {os.path.join(folder, file)}    "
   ]
  },
  {
   "cell_type": "markdown",
   "metadata": {},
   "source": [
    "### Copy 檔案到開發板 (copy files onto ESP8266 / NodeMCU, all needed fils will be put in the same folder)"
   ]
  },
  {
   "cell_type": "code",
   "execution_count": 122,
   "metadata": {
    "collapsed": false,
    "scrolled": true
   },
   "outputs": [
    {
     "name": "stdout",
     "output_type": "stream",
     "text": [
      "Deleting main.py\n",
      "Copying boot.py\n",
      "Copying hardware.py\n",
      "Copying led.py\n",
      "Copying u_python.py\n",
      "Copying u_python_profiler.py\n",
      "Copying watchdog.py\n",
      "Copying webrepl_cfg.py\n",
      "Copying robust.py\n",
      "Copying simple.py\n",
      "Copying asynch_result.py\n",
      "Copying mqtt_client_paho.py\n",
      "Copying mqtt_client_umqtt.py\n",
      "Copying node.py\n",
      "Copying phonebook.py\n",
      "Copying phonebook_full_function.py\n",
      "Copying queue_manager.py\n",
      "Copying socket_client.py\n",
      "Copying worker.py\n",
      "Copying worker_config.py\n",
      "Copying worker_cpython.py\n",
      "Copying worker_neuron.py\n",
      "Copying worker_upython.py\n",
      "Copying commander.py\n",
      "Copying config.py\n",
      "Copying data_transceiver.py\n",
      "Copying main.py\n"
     ]
    }
   ],
   "source": [
    "folders = ['..\\\\codes\\\\micropython', '..\\\\codes\\\\micropython_mqtt', '..\\\\codes\\\\node', '..\\\\codes\\\\shared']\n",
    "main_filename = 'main.py'\n",
    "\n",
    "copy_all_files(folders, main_filename)\n",
    "\n",
    "copy_one_file('..\\\\codes\\\\micropython', main_filename)"
   ]
  },
  {
   "cell_type": "markdown",
   "metadata": {},
   "source": [
    "### 單一檔案上傳 (single file upload, in case needed)"
   ]
  },
  {
   "cell_type": "code",
   "execution_count": null,
   "metadata": {
    "collapsed": false
   },
   "outputs": [],
   "source": [
    "copy_one_file('..\\\\..\\\\dmz', 'config.py')"
   ]
  },
  {
   "cell_type": "code",
   "execution_count": 128,
   "metadata": {
    "collapsed": false
   },
   "outputs": [
    {
     "name": "stdout",
     "output_type": "stream",
     "text": [
      "Copying config.py\n"
     ]
    }
   ],
   "source": [
    "copy_one_file('..\\\\codes\\\\shared', 'config.py')"
   ]
  },
  {
   "cell_type": "code",
   "execution_count": 118,
   "metadata": {
    "collapsed": false
   },
   "outputs": [
    {
     "name": "stdout",
     "output_type": "stream",
     "text": [
      "Copying worker.py\n"
     ]
    }
   ],
   "source": [
    "copy_one_file('..\\\\codes\\\\node', 'worker.py')"
   ]
  },
  {
   "cell_type": "code",
   "execution_count": 119,
   "metadata": {
    "collapsed": false
   },
   "outputs": [
    {
     "name": "stdout",
     "output_type": "stream",
     "text": [
      "Copying phonebook.py\n"
     ]
    }
   ],
   "source": [
    "copy_one_file('..\\\\codes\\\\node', 'phonebook.py')"
   ]
  },
  {
   "cell_type": "code",
   "execution_count": 73,
   "metadata": {
    "collapsed": false
   },
   "outputs": [
    {
     "name": "stdout",
     "output_type": "stream",
     "text": [
      "Copying main.py\n"
     ]
    }
   ],
   "source": [
    "copy_one_file('..\\\\codes\\\\micropython', 'main.py')"
   ]
  },
  {
   "cell_type": "markdown",
   "metadata": {},
   "source": [
    "### 列出檔案 (list files)"
   ]
  },
  {
   "cell_type": "code",
   "execution_count": null,
   "metadata": {
    "collapsed": false
   },
   "outputs": [],
   "source": [
    "# !ampy --port {com_port} ls"
   ]
  },
  {
   "cell_type": "markdown",
   "metadata": {},
   "source": [
    "### 檢查檔案內容 (check file content)"
   ]
  },
  {
   "cell_type": "code",
   "execution_count": null,
   "metadata": {
    "collapsed": false
   },
   "outputs": [],
   "source": [
    "# !ampy --port {com_port} get boot.py"
   ]
  },
  {
   "cell_type": "code",
   "execution_count": 36,
   "metadata": {
    "collapsed": false
   },
   "outputs": [],
   "source": [
    "# !ampy --port {com_port} get main.py"
   ]
  },
  {
   "cell_type": "markdown",
   "metadata": {},
   "source": [
    "### 連網測試 (network config and test)"
   ]
  },
  {
   "cell_type": "code",
   "execution_count": null,
   "metadata": {
    "collapsed": true
   },
   "outputs": [],
   "source": [
    "# 連上網路\n",
    "# import network; nic=network.WLAN(network.STA_IF); nic.active(True); nic.connect('SSID','password');nic.ifconfig()\n",
    "# import network; nic=network.WLAN(network.STA_IF); nic.active(True); nic.connect('Kingnet-70M-$370', '');nic.ifconfig()\n",
    "# import network; nic=network.WLAN(network.STA_IF); nic.ifconfig()\n",
    "# import network; nic=network.WLAN(network.STA_IF);nic.ifconfig();nic.config('mac');nic.ifconfig((['mac',])"
   ]
  },
  {
   "cell_type": "code",
   "execution_count": null,
   "metadata": {
    "collapsed": true
   },
   "outputs": [],
   "source": [
    "# 發出 http request\n",
    "# import socket;addr=socket.getaddrinfo('micropython.org',80)[0][-1]\n",
    "# s = socket.socket();s.connect(addr);s.send(b'GET / HTTP/1.1\\r\\nHost: micropython.org\\r\\n\\r\\n');data = s.recv(1000);s.close()"
   ]
  },
  {
   "cell_type": "code",
   "execution_count": null,
   "metadata": {
    "collapsed": true
   },
   "outputs": [],
   "source": [
    "# Delete all files\n",
    "# import u_python;u_python.del_all_files();import os;os.listdir()\n"
   ]
  },
  {
   "cell_type": "markdown",
   "metadata": {},
   "source": [
    "### Run Broker container on Raspberry Pi\n",
    "copy folder 'codes' to Raspberry Pi under folder '/data/elastic_network_of_things_with_micropython',  \n",
    "so Raspberry Pi has folder '/data/elastic_network_of_things_with_micropython/codes'  \n",
    "then run the command below on Raspberry Pi.\n",
    "\n",
    "```\n",
    "docker run -it -p 9662:9662 --name=Broker --hostname=Broker --volume=/data/elastic_network_of_things_with_micropython:/project wei1234c/python_armv7 /bin/sh -c \"cd /project/codes/broker && python3 broker.py\" \n",
    "```"
   ]
  }
 ],
 "metadata": {
  "anaconda-cloud": {},
  "kernelspec": {
   "display_name": "Python 3",
   "language": "python",
   "name": "python3"
  },
  "language_info": {
   "codemirror_mode": {
    "name": "ipython",
    "version": 3
   },
   "file_extension": ".py",
   "mimetype": "text/x-python",
   "name": "python",
   "nbconvert_exporter": "python",
   "pygments_lexer": "ipython3",
   "version": "3.5.1"
  }
 },
 "nbformat": 4,
 "nbformat_minor": 0
}

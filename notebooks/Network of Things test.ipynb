{
 "cells": [
  {
   "cell_type": "markdown",
   "metadata": {},
   "source": [
    "# Network of Things test"
   ]
  },
  {
   "cell_type": "markdown",
   "metadata": {},
   "source": [
    "Start a Mosquitto container first. For example:\n",
    "- Use `codes\\_demo\\1_start_broker.sh` to start a Mosquitto container on Raspberry Pi.\n",
    "- Config files are in `mqtt_config\\mqtt`.\n",
    "- set `allow_anonymous true` in `mqtt_config\\mqtt\\config\\mosquitto.conf` to allow anonymous client."
   ]
  },
  {
   "cell_type": "markdown",
   "metadata": {},
   "source": [
    "## Getting Started\n",
    "What this notebook does:  \n",
    "- Using a client on PC\n",
    "- List connected nodes\n",
    "- Send messages to remote nodes:\n",
    " - Return results (read GPIOs)via RPC mechanism.\n",
    " - Write data to remote nodes (write GPIOs).\n",
    " - Execute arbitrary code on remote nodes."
   ]
  },
  {
   "cell_type": "code",
   "execution_count": 28,
   "metadata": {
    "collapsed": false
   },
   "outputs": [],
   "source": [
    "import os\n",
    "import sys\n",
    "import time\n",
    " \n",
    "sys.path.append(os.path.abspath(os.path.join(os.path.pardir, 'codes', 'client')))\n",
    "sys.path.append(os.path.abspath(os.path.join(os.path.pardir, 'codes', 'node')))\n",
    "sys.path.append(os.path.abspath(os.path.join(os.path.pardir, 'codes', 'shared')))\n",
    "sys.path.append(os.path.abspath(os.path.join(os.path.pardir, 'codes', 'micropython')))\n",
    " \n",
    "import client\n",
    "from collections import OrderedDict"
   ]
  },
  {
   "cell_type": "markdown",
   "metadata": {},
   "source": [
    "### Start client"
   ]
  },
  {
   "cell_type": "code",
   "execution_count": 29,
   "metadata": {
    "collapsed": false
   },
   "outputs": [
    {
     "name": "stdout",
     "output_type": "stream",
     "text": [
      "My name is Client_366\n",
      "\n",
      "Sending 277 bytes\n",
      "Message:\n",
      "OrderedDict([('command', 'set connection name'), ('correlation_id', '2017-02-07 18:08:45.597000'), ('kwargs', {'name': 'Client_366'}), ('message_id', '2017-02-07 18:08:45.597000'), ('message_type', 'command'), ('need_result', True), ('receiver', 'Hub'), ('reply_to', 'Client_366'), ('sender', 'Client_366')])\n",
      "\n",
      "\n",
      "[Connected: ('192.168.0.114', 1883)]\n",
      "[Listen to messages]\n",
      "Node not ready yet.\n"
     ]
    }
   ],
   "source": [
    "the_client = client.Client()\n",
    "the_client.start()\n",
    "\n",
    "while not the_client.status['Is connected']:            \n",
    "    time.sleep(1)\n",
    "    print('Node not ready yet.')"
   ]
  },
  {
   "cell_type": "markdown",
   "metadata": {},
   "source": [
    "### Prepare messages"
   ]
  },
  {
   "cell_type": "code",
   "execution_count": 30,
   "metadata": {
    "collapsed": false
   },
   "outputs": [],
   "source": [
    "# messages _____________________________________________\n",
    "messages = OrderedDict()\n",
    "\n",
    "messages['read_GPIOs'] = {'message_type': 'command',\n",
    "                          'command': 'read GPIOs',\n",
    "                          'kwargs': {'pins': [5, 12, 13, 14, 15, 16]},\n",
    "                          'need_result': True}\n",
    "\n",
    "messages['blink_led'] = {'message_type': 'command',\n",
    "                         'command': 'blink led',\n",
    "                         'kwargs': {'times': 3, 'forever': False, 'on_seconds': 0.1, 'off_seconds': 0.1}}"
   ]
  },
  {
   "cell_type": "code",
   "execution_count": 31,
   "metadata": {
    "collapsed": false
   },
   "outputs": [],
   "source": [
    "# messages['write_GPIOs'] = {'message_type': 'command',\n",
    "                           # 'command': 'write GPIOs',\n",
    "                           # 'kwargs': {'pins_and_values': [(2, 0), (2, 1), (2, 0),]}} \n",
    "\n",
    "# messages['test eval'] = {'message_type': 'eval',\n",
    "                         # 'to_evaluate': '2+3',\n",
    "                         # 'need_result': True}                                   \n",
    "\n",
    "# messages['test exec'] = {'message_type': 'exec',\n",
    "                         # 'to_exec': 'print(\"Testing exec !\")'}\n",
    "\n",
    "# with open('script_to_deploy.py') as f:\n",
    "    # script = f.read()        \n",
    "# messages['test upload script'] = {'message_type': 'script', \n",
    "                                  # 'script': script} "
   ]
  },
  {
   "cell_type": "markdown",
   "metadata": {},
   "source": [
    "### List connected nodes"
   ]
  },
  {
   "cell_type": "code",
   "execution_count": 32,
   "metadata": {
    "collapsed": false
   },
   "outputs": [
    {
     "name": "stdout",
     "output_type": "stream",
     "text": [
      "\n",
      "Sending 249 bytes\n",
      "Message:\n",
      "OrderedDict([('correlation_id', '2017-02-07 18:08:46.790800'), ('function', 'check_in'), ('kwargs', {'caller': 'Client_366'}), ('message_id', '2017-02-07 18:08:46.790800'), ('message_type', 'function'), ('receiver', 'Hub'), ('reply_to', 'Client_366'), ('sender', 'Client_366')])\n",
      "\n",
      "\n",
      "Data received: 249 bytes\n",
      "Message:\n",
      "OrderedDict([('correlation_id', '2017-02-07 18:08:46.790800'), ('function', 'check_in'), ('kwargs', {'caller': 'Client_366'}), ('message_id', '2017-02-07 18:08:46.790800'), ('message_type', 'function'), ('receiver', 'Hub'), ('reply_to', 'Client_366'), ('sender', 'Client_366')])\n",
      "\n",
      "\n",
      "Sending 172 bytes\n",
      "\n",
      "Data received: 178 bytes\n",
      "Message:\n",
      "OrderedDict([('function', 'register_contact'), ('kwargs', {'contact_id': 'NodeMCU_8a00', 'name': 'NodeMCU_8a00'}), ('message_type', 'function'), ('receiver', 'Client_366'), ('sender', 'NodeMCU_8a00')])\n",
      "\n",
      "\n",
      "Data received: 190 bytes\n",
      "Message:\n",
      "OrderedDict([('function', 'register_contact'), ('kwargs', {'contact_id': 'NodeMCU_f1d30800', 'name': 'NodeMCU_f1d30800'}), ('message_type', 'function'), ('receiver', 'Client_366'), ('sender', 'NodeMCU_f1d30800')])\n",
      "\n",
      "\n",
      "Data received: 184 bytes\n",
      "Message:\n",
      "OrderedDict([('function', 'register_contact'), ('kwargs', {'contact_id': 'NodeMCU_edca00', 'name': 'NodeMCU_edca00'}), ('message_type', 'function'), ('receiver', 'Client_366'), ('sender', 'NodeMCU_edca00')])\n",
      "\n",
      "\n",
      "Data received: 190 bytes\n",
      "Message:\n",
      "OrderedDict([('function', 'register_contact'), ('kwargs', {'contact_id': 'NodeMCU_a1a5c000', 'name': 'NodeMCU_a1a5c000'}), ('message_type', 'function'), ('receiver', 'Client_366'), ('sender', 'NodeMCU_a1a5c000')])\n",
      "\n",
      "\n",
      "Data received: 187 bytes\n",
      "Message:\n",
      "OrderedDict([('function', 'register_contact'), ('kwargs', {'contact_id': 'NodeMCU_1dsc000', 'name': 'NodeMCU_1dsc000'}), ('message_type', 'function'), ('receiver', 'Client_366'), ('sender', 'NodeMCU_1dsc000')])\n",
      "\n",
      "\n",
      "Data received: 190 bytes\n",
      "Message:\n",
      "OrderedDict([('function', 'register_contact'), ('kwargs', {'contact_id': 'NodeMCU_d1e0a200', 'name': 'NodeMCU_d1e0a200'}), ('message_type', 'function'), ('receiver', 'Client_366'), ('sender', 'NodeMCU_d1e0a200')])\n",
      "\n",
      "\n",
      "Data received: 172 bytes\n",
      "Message:\n",
      "OrderedDict([('function', 'register_contact'), ('kwargs', {'contact_id': 'Client_366', 'name': 'Client_366'}), ('message_type', 'function'), ('receiver', 'Client_366'), ('sender', 'Client_366')])\n",
      "\n",
      "\n",
      "[____________ Connected nodes ____________]\n",
      "\n",
      "\n",
      "Connected nodes:\n",
      "['Client_366', 'NodeMCU_1dsc000', 'NodeMCU_8a00', 'NodeMCU_a1a5c000', 'NodeMCU_d1e0a200', 'NodeMCU_edca00', 'NodeMCU_f1d30800']\n",
      "\n"
     ]
    }
   ],
   "source": [
    "the_client.node.worker.roll_call()\n",
    "time.sleep(2)\n",
    "remote_nodes = sorted(the_client.node.worker.contacts.keys())\n",
    "\n",
    "print('\\n[____________ Connected nodes ____________]\\n')\n",
    "print('\\nConnected nodes:\\n{}\\n'.format(remote_nodes))"
   ]
  },
  {
   "cell_type": "markdown",
   "metadata": {},
   "source": [
    "### Blink each node\n",
    "[YouTube video clip](https://youtu.be/I_s-no_0L24)"
   ]
  },
  {
   "cell_type": "code",
   "execution_count": 33,
   "metadata": {
    "collapsed": false
   },
   "outputs": [
    {
     "name": "stdout",
     "output_type": "stream",
     "text": [
      "\n",
      "Sending 300 bytes\n",
      "Message:\n",
      "OrderedDict([('command', 'blink led'), ('correlation_id', '2017-02-07 18:08:48.932200'), ('kwargs', {'forever': False, 'off_seconds': 0.1, 'on_seconds': 0.1, 'times': 3}), ('message_id', '2017-02-07 18:08:48.932200'), ('message_type', 'command'), ('receiver', 'Client_366'), ('reply_to', 'Client_366'), ('sender', 'Client_366')])\n",
      "\n",
      "\n",
      "Sending 305 bytes\n",
      "Message:\n",
      "OrderedDict([('command', 'blink led'), ('correlation_id', '2017-02-07 18:08:49.003200'), ('kwargs', {'forever': False, 'off_seconds': 0.1, 'on_seconds': 0.1, 'times': 3}), ('message_id', '2017-02-07 18:08:49.003200'), ('message_type', 'command'), ('receiver', 'NodeMCU_1dsc000'), ('reply_to', 'Client_366'), ('sender', 'Client_366')])\n",
      "\n",
      "\n",
      "Sending 302 bytes\n",
      "Message:\n",
      "OrderedDict([('command', 'blink led'), ('correlation_id', '2017-02-07 18:08:49.081600'), ('kwargs', {'forever': False, 'off_seconds': 0.1, 'on_seconds': 0.1, 'times': 3}), ('message_id', '2017-02-07 18:08:49.081600'), ('message_type', 'command'), ('receiver', 'NodeMCU_8a00'), ('reply_to', 'Client_366'), ('sender', 'Client_366')])\n",
      "\n",
      "\n",
      "Sending 306 bytes\n",
      "Data received: 300 bytes\n",
      "Message:\n",
      "OrderedDict([('command', 'blink led'), ('correlation_id', '2017-02-07 18:08:48.932200'), ('kwargs', {'times': 3, 'off_seconds': 0.1, 'on_seconds': 0.1, 'forever': False}), ('message_id', '2017-02-07 18:08:48.932200'), ('message_type', 'command'), ('receiver', 'Client_366'), ('reply_to', 'Client_366'), ('sender', 'Client_366')])\n",
      "\n",
      "\n",
      "Message:\n",
      "OrderedDict([('command', 'blink led'), ('correlation_id', '2017-02-07 18:08:49.175200'), ('kwargs', {'forever': False, 'off_seconds': 0.1, 'on_seconds': 0.1, 'times': 3}), ('message_id', '2017-02-07 18:08:49.175200'), ('message_type', 'command'), ('receiver', 'NodeMCU_a1a5c000'), ('reply_to', 'Client_366'), ('sender', 'Client_366')])\n",
      "\n",
      "\n",
      "Sending 306 bytes\n",
      "Message:\n",
      "OrderedDict([('command', 'blink led'), ('correlation_id', '2017-02-07 18:08:49.237600'), ('kwargs', {'forever': False, 'off_seconds': 0.1, 'on_seconds': 0.1, 'times': 3}), ('message_id', '2017-02-07 18:08:49.237600'), ('message_type', 'command'), ('receiver', 'NodeMCU_d1e0a200'), ('reply_to', 'Client_366'), ('sender', 'Client_366')])\n",
      "\n",
      "\n",
      "Sending 304 bytes\n",
      "Message:\n",
      "OrderedDict([('command', 'blink led'), ('correlation_id', '2017-02-07 18:08:49.351400'), ('kwargs', {'forever': False, 'off_seconds': 0.1, 'on_seconds': 0.1, 'times': 3}), ('message_id', '2017-02-07 18:08:49.351400'), ('message_type', 'command'), ('receiver', 'NodeMCU_edca00'), ('reply_to', 'Client_366'), ('sender', 'Client_366')])\n",
      "\n",
      "\n",
      "Sending 306 bytes\n",
      "Message:\n",
      "OrderedDict([('command', 'blink led'), ('correlation_id', '2017-02-07 18:08:49.429400'), ('kwargs', {'forever': False, 'off_seconds': 0.1, 'on_seconds': 0.1, 'times': 3}), ('message_id', '2017-02-07 18:08:49.429400'), ('message_type', 'command'), ('receiver', 'NodeMCU_f1d30800'), ('reply_to', 'Client_366'), ('sender', 'Client_366')])\n",
      "\n"
     ]
    }
   ],
   "source": [
    "for remote_node in remote_nodes:\n",
    "    the_client.request(remote_node, messages['blink_led']) "
   ]
  },
  {
   "cell_type": "markdown",
   "metadata": {},
   "source": [
    "### Read one GPIO pin"
   ]
  },
  {
   "cell_type": "code",
   "execution_count": 35,
   "metadata": {
    "collapsed": false
   },
   "outputs": [
    {
     "name": "stdout",
     "output_type": "stream",
     "text": [
      "\n",
      "Message:\n",
      "OrderedDict([('command', 'set connection name'), ('correlation_id', '5524'), ('kwargs', {'name': 'NodeMCU_edca00'}), ('message_id', '5524'), ('message_type', 'command'), ('need_result', True), ('receiver', 'Hub'), ('reply_to', 'NodeMCU_edca00'), ('sender', 'NodeMCU_edca00')])\n",
      "\n",
      "\n",
      "Sending 286 bytes\n",
      "Message:\n",
      "OrderedDict([('command', 'read GPIOs'), ('correlation_id', '2017-02-07 18:09:05.833400'), ('kwargs', {'pins': [5, 12, 13, 14, 15, 16]}), ('message_id', '2017-02-07 18:09:05.833400'), ('message_type', 'command'), ('need_result', True), ('receiver', 'Client_366'), ('reply_to', 'Client_366'), ('sender', 'Client_366')])\n",
      "\n",
      "\n",
      "Data received: 286 bytes\n",
      "Message:\n",
      "OrderedDict([('command', 'read GPIOs'), ('correlation_id', '2017-02-07 18:09:05.833400'), ('kwargs', {'pins': [5, 12, 13, 14, 15, 16]}), ('message_id', '2017-02-07 18:09:05.833400'), ('message_type', 'command'), ('need_result', True), ('receiver', 'Client_366'), ('reply_to', 'Client_366'), ('sender', 'Client_366')])\n",
      "\n",
      "\n",
      "Processed result:\n",
      "OrderedDict([('correlation_id', '2017-02-07 18:09:05.833400'), ('message_id', '2017-02-07 18:09:06.332000'), ('message_type', 'result'), ('receiver', 'Client_366'), ('reply_to', 'Client_366'), ('result', 'Not applicable.'), ('sender', 'Client_366')])\n",
      "\n",
      "\n",
      "Sending 223 bytes\n",
      "Message:\n",
      "OrderedDict([('correlation_id', '2017-02-07 18:09:05.833400'), ('message_id', '2017-02-07 18:09:06.332000'), ('message_type', 'result'), ('receiver', 'Client_366'), ('reply_to', 'Client_366'), ('result', 'Not applicable.'), ('sender', 'Client_366')])\n",
      "\n",
      "\n",
      "Data received: 223 bytes\n",
      "Message:\n",
      "OrderedDict([('correlation_id', '2017-02-07 18:09:05.833400'), ('message_id', '2017-02-07 18:09:06.332000'), ('message_type', 'result'), ('receiver', 'Client_366'), ('reply_to', 'Client_366'), ('result', 'Not applicable.'), ('sender', 'Client_366')])\n",
      "\n",
      "\n",
      "GPIO status for Client_366: Not applicable.\n",
      "\n",
      "\n",
      "Sending 291 bytes\n",
      "Message:\n",
      "OrderedDict([('command', 'read GPIOs'), ('correlation_id', '2017-02-07 18:09:07.039800'), ('kwargs', {'pins': [5, 12, 13, 14, 15, 16]}), ('message_id', '2017-02-07 18:09:07.039800'), ('message_type', 'command'), ('need_result', True), ('receiver', 'NodeMCU_1dsc000'), ('reply_to', 'Client_366'), ('sender', 'Client_366')])\n",
      "\n",
      "\n",
      "Data received: 249 bytes\n",
      "Message:\n",
      "OrderedDict([('correlation_id', '2017-02-07 18:09:07.039800'), ('message_id', '537839'), ('message_type', 'result'), ('receiver', 'Client_366'), ('reply_to', 'NodeMCU_1dsc000'), ('result', [[5, 1], [12, 1], [13, 1], [14, 1], [15, 0], [16, 0]]), ('sender', 'NodeMCU_1dsc000')])\n",
      "\n",
      "\n",
      "GPIO status for NodeMCU_1dsc000: [[5, 1], [12, 1], [13, 1], [14, 1], [15, 0], [16, 0]]\n",
      "\n",
      "\n",
      "Sending 288 bytes\n",
      "Message:\n",
      "OrderedDict([('command', 'read GPIOs'), ('correlation_id', '2017-02-07 18:09:07.497800'), ('kwargs', {'pins': [5, 12, 13, 14, 15, 16]}), ('message_id', '2017-02-07 18:09:07.497800'), ('message_type', 'command'), ('need_result', True), ('receiver', 'NodeMCU_8a00'), ('reply_to', 'Client_366'), ('sender', 'Client_366')])\n",
      "\n",
      "\n",
      "Data received: 243 bytes\n",
      "Message:\n",
      "OrderedDict([('correlation_id', '2017-02-07 18:09:07.497800'), ('message_id', '371617'), ('message_type', 'result'), ('receiver', 'Client_366'), ('reply_to', 'NodeMCU_8a00'), ('result', [[5, 1], [12, 1], [13, 1], [14, 1], [15, 0], [16, 1]]), ('sender', 'NodeMCU_8a00')])\n",
      "\n",
      "\n",
      "GPIO status for NodeMCU_8a00: [[5, 1], [12, 1], [13, 1], [14, 1], [15, 0], [16, 1]]\n",
      "\n",
      "\n",
      "Sending 292 bytes\n",
      "Message:\n",
      "OrderedDict([('command', 'read GPIOs'), ('correlation_id', '2017-02-07 18:09:08.487600'), ('kwargs', {'pins': [5, 12, 13, 14, 15, 16]}), ('message_id', '2017-02-07 18:09:08.487600'), ('message_type', 'command'), ('need_result', True), ('receiver', 'NodeMCU_a1a5c000'), ('reply_to', 'Client_366'), ('sender', 'Client_366')])\n",
      "\n",
      "\n",
      "GPIO status for NodeMCU_a1a5c000: [[5, 1], [12, 1], [13, 1], [14, 1], [15, 0], [16, 0]]\n",
      "\n",
      "Data received: 250 bytes\n",
      "Message:\n",
      "OrderedDict([('correlation_id', '2017-02-07 18:09:08.487600'), ('message_id', '13040'), ('message_type', 'result'), ('receiver', 'Client_366'), ('reply_to', 'NodeMCU_a1a5c000'), ('result', [[5, 1], [12, 1], [13, 1], [14, 1], [15, 0], [16, 0]]), ('sender', 'NodeMCU_a1a5c000')])\n",
      "\n",
      "\n",
      "\n",
      "Sending 292 bytes\n",
      "Message:\n",
      "OrderedDict([('command', 'read GPIOs'), ('correlation_id', '2017-02-07 18:09:09.137200'), ('kwargs', {'pins': [5, 12, 13, 14, 15, 16]}), ('message_id', '2017-02-07 18:09:09.137200'), ('message_type', 'command'), ('need_result', True), ('receiver', 'NodeMCU_d1e0a200'), ('reply_to', 'Client_366'), ('sender', 'Client_366')])\n",
      "\n",
      "\n",
      "Data received: 251 bytes\n",
      "Message:\n",
      "OrderedDict([('correlation_id', '2017-02-07 18:09:09.137200'), ('message_id', '412020'), ('message_type', 'result'), ('receiver', 'Client_366'), ('reply_to', 'NodeMCU_d1e0a200'), ('result', [[5, 0], [12, 1], [13, 1], [14, 1], [15, 0], [16, 1]]), ('sender', 'NodeMCU_d1e0a200')])\n",
      "\n",
      "\n",
      "GPIO status for NodeMCU_d1e0a200: [[5, 0], [12, 1], [13, 1], [14, 1], [15, 0], [16, 1]]\n",
      "\n",
      "\n",
      "Sending 290 bytes\n",
      "Message:\n",
      "OrderedDict([('command', 'read GPIOs'), ('correlation_id', '2017-02-07 18:09:09.577200'), ('kwargs', {'pins': [5, 12, 13, 14, 15, 16]}), ('message_id', '2017-02-07 18:09:09.577200'), ('message_type', 'command'), ('need_result', True), ('receiver', 'NodeMCU_edca00'), ('reply_to', 'Client_366'), ('sender', 'Client_366')])\n",
      "\n",
      "\n",
      "Data received: 246 bytes\n",
      "\n",
      "GPIO status for NodeMCU_edca00: [[5, 1], [12, 1], [13, 1], [14, 1], [15, 0], [16, 0]]\n",
      "Message:\n",
      "OrderedDict([('correlation_id', '2017-02-07 18:09:09.577200'), ('message_id', '14176'), ('message_type', 'result'), ('receiver', 'Client_366'), ('reply_to', 'NodeMCU_edca00'), ('result', [[5, 1], [12, 1], [13, 1], [14, 1], [15, 0], [16, 0]]), ('sender', 'NodeMCU_edca00')])\n",
      "\n",
      "\n",
      "\n",
      "Sending 292 bytes\n",
      "Message:\n",
      "OrderedDict([('command', 'read GPIOs'), ('correlation_id', '2017-02-07 18:09:10.339800'), ('kwargs', {'pins': [5, 12, 13, 14, 15, 16]}), ('message_id', '2017-02-07 18:09:10.339800'), ('message_type', 'command'), ('need_result', True), ('receiver', 'NodeMCU_f1d30800'), ('reply_to', 'Client_366'), ('sender', 'Client_366')])\n",
      "\n",
      "\n",
      "Data received: 251 bytes\n",
      "\n",
      "GPIO status for NodeMCU_f1d30800: [[5, 1], [12, 1], [13, 1], [14, 1], [15, 0], [16, 1]]\n",
      "Message:\n",
      "OrderedDict([('correlation_id', '2017-02-07 18:09:10.339800'), ('message_id', '533125'), ('message_type', 'result'), ('receiver', 'Client_366'), ('reply_to', 'NodeMCU_f1d30800'), ('result', [[5, 1], [12, 1], [13, 1], [14, 1], [15, 0], [16, 1]]), ('sender', 'NodeMCU_f1d30800')])\n",
      "\n",
      "\n"
     ]
    }
   ],
   "source": [
    "for remote_node in remote_nodes:\n",
    "    _, result = the_client.request(remote_node, messages['read_GPIOs']) \n",
    "    print('\\nGPIO status for {}: {}\\n'.format(remote_node, result.get()))"
   ]
  },
  {
   "cell_type": "markdown",
   "metadata": {},
   "source": [
    "### Send out messages and get asynchonous results"
   ]
  },
  {
   "cell_type": "code",
   "execution_count": 36,
   "metadata": {
    "collapsed": false
   },
   "outputs": [
    {
     "name": "stdout",
     "output_type": "stream",
     "text": [
      "\n",
      "[______________ Sending messages ______________]\n",
      "\n",
      "\n",
      "Sending 291 bytes\n",
      "Message:\n",
      "OrderedDict([('command', 'read GPIOs'), ('correlation_id', '2017-02-07 18:09:11.031200'), ('kwargs', {'pins': [5, 12, 13, 14, 15, 16]}), ('message_id', '2017-02-07 18:09:11.031200'), ('message_type', 'command'), ('need_result', True), ('receiver', 'NodeMCU_1dsc000'), ('reply_to', 'Client_366'), ('sender', 'Client_366')])\n",
      "\n",
      "\n",
      "Sending 288 bytes\n",
      "Data received: 249 bytes\n",
      "\n",
      "Message:\n",
      "OrderedDict([('correlation_id', '2017-02-07 18:09:11.031200'), ('message_id', '541780'), ('message_type', 'result'), ('receiver', 'Client_366'), ('reply_to', 'NodeMCU_1dsc000'), ('result', [[5, 1], [12, 1], [13, 1], [14, 1], [15, 0], [16, 0]]), ('sender', 'NodeMCU_1dsc000')])\n",
      "Message:\n",
      "OrderedDict([('command', 'read GPIOs'), ('correlation_id', '2017-02-07 18:09:11.358200'), ('kwargs', {'pins': [5, 12, 13, 14, 15, 16]}), ('message_id', '2017-02-07 18:09:11.358200'), ('message_type', 'command'), ('need_result', True), ('receiver', 'NodeMCU_8a00'), ('reply_to', 'Client_366'), ('sender', 'Client_366')])\n",
      "\n",
      "\n",
      "\n",
      "Sending 292 bytes\n",
      "Message:\n",
      "OrderedDict([('command', 'read GPIOs'), ('correlation_id', '2017-02-07 18:09:11.624200'), ('kwargs', {'pins': [5, 12, 13, 14, 15, 16]}), ('message_id', '2017-02-07 18:09:11.624200'), ('message_type', 'command'), ('need_result', True), ('receiver', 'NodeMCU_a1a5c000'), ('reply_to', 'Client_366'), ('sender', 'Client_366')])\n",
      "\n",
      "\n",
      "Data received: 243 bytes\n",
      "Message:\n",
      "OrderedDict([('correlation_id', '2017-02-07 18:09:11.358200'), ('message_id', '375546'), ('message_type', 'result'), ('receiver', 'Client_366'), ('reply_to', 'NodeMCU_8a00'), ('result', [[5, 1], [12, 1], [13, 1], [14, 1], [15, 0], [16, 1]]), ('sender', 'NodeMCU_8a00')])\n",
      "\n",
      "\n",
      "Sending 292 bytes\n",
      "Message:\n",
      "OrderedDict([('command', 'read GPIOs'), ('correlation_id', '2017-02-07 18:09:11.795800'), ('kwargs', {'pins': [5, 12, 13, 14, 15, 16]}), ('message_id', '2017-02-07 18:09:11.795800'), ('message_type', 'command'), ('need_result', True), ('receiver', 'NodeMCU_d1e0a200'), ('reply_to', 'Client_366'), ('sender', 'Client_366')])\n",
      "\n",
      "\n",
      "Sending 290 bytes\n",
      "Message:\n",
      "OrderedDict([('command', 'read GPIOs'), ('correlation_id', '2017-02-07 18:09:11.951400'), ('kwargs', {'pins': [5, 12, 13, 14, 15, 16]}), ('message_id', '2017-02-07 18:09:11.951400'), ('message_type', 'command'), ('need_result', True), ('receiver', 'NodeMCU_edca00'), ('reply_to', 'Client_366'), ('sender', 'Client_366')])\n",
      "\n",
      "\n",
      "Data received: 250 bytes\n",
      "Message:\n",
      "OrderedDict([('correlation_id', '2017-02-07 18:09:11.624200'), ('message_id', '16154'), ('message_type', 'result'), ('receiver', 'Client_366'), ('reply_to', 'NodeMCU_a1a5c000'), ('result', [[5, 1], [12, 1], [13, 1], [14, 1], [15, 0], [16, 0]]), ('sender', 'NodeMCU_a1a5c000')])\n",
      "\n",
      "\n",
      "Data received: 246 bytes\n",
      "Message:\n",
      "OrderedDict([('correlation_id', '2017-02-07 18:09:11.951400'), ('message_id', '16509'), ('message_type', 'result'), ('receiver', 'Client_366'), ('reply_to', 'NodeMCU_edca00'), ('result', [[5, 1], [12, 1], [13, 1], [14, 1], [15, 0], [16, 0]]), ('sender', 'NodeMCU_edca00')])\n",
      "\n",
      "\n",
      "Sending 292 bytes\n",
      "Message:\n",
      "OrderedDict([('command', 'read GPIOs'), ('correlation_id', '2017-02-07 18:09:12.354800'), ('kwargs', {'pins': [5, 12, 13, 14, 15, 16]}), ('message_id', '2017-02-07 18:09:12.354800'), ('message_type', 'command'), ('need_result', True), ('receiver', 'NodeMCU_f1d30800'), ('reply_to', 'Client_366'), ('sender', 'Client_366')])\n",
      "\n",
      "\n",
      "Data received: 251 bytes\n",
      "Message:\n",
      "OrderedDict([('correlation_id', '2017-02-07 18:09:11.795800'), ('message_id', '414670'), ('message_type', 'result'), ('receiver', 'Client_366'), ('reply_to', 'NodeMCU_d1e0a200'), ('result', [[5, 0], [12, 1], [13, 1], [14, 1], [15, 0], [16, 1]]), ('sender', 'NodeMCU_d1e0a200')])\n",
      "\n",
      "\n",
      "Sending 305 bytes\n",
      "Message:\n",
      "OrderedDict([('command', 'blink led'), ('correlation_id', '2017-02-07 18:09:12.777800'), ('kwargs', {'forever': False, 'off_seconds': 0.1, 'on_seconds': 0.1, 'times': 3}), ('message_id', '2017-02-07 18:09:12.777800'), ('message_type', 'command'), ('receiver', 'NodeMCU_1dsc000'), ('reply_to', 'Client_366'), ('sender', 'Client_366')])\n",
      "\n",
      "\n",
      "Data received: 251 bytes\n",
      "Message:\n",
      "OrderedDict([('correlation_id', '2017-02-07 18:09:12.354800'), ('message_id', '535289'), ('message_type', 'result'), ('receiver', 'Client_366'), ('reply_to', 'NodeMCU_f1d30800'), ('result', [[5, 1], [12, 1], [13, 1], [14, 1], [15, 0], [16, 1]]), ('sender', 'NodeMCU_f1d30800')])\n",
      "\n",
      "\n",
      "Sending 302 bytes\n",
      "Message:\n",
      "OrderedDict([('command', 'blink led'), ('correlation_id', '2017-02-07 18:09:13.020800'), ('kwargs', {'forever': False, 'off_seconds': 0.1, 'on_seconds': 0.1, 'times': 3}), ('message_id', '2017-02-07 18:09:13.020800'), ('message_type', 'command'), ('receiver', 'NodeMCU_8a00'), ('reply_to', 'Client_366'), ('sender', 'Client_366')])\n",
      "\n",
      "\n",
      "Sending 306 bytes\n",
      "Message:\n",
      "OrderedDict([('command', 'blink led'), ('correlation_id', '2017-02-07 18:09:13.343400'), ('kwargs', {'forever': False, 'off_seconds': 0.1, 'on_seconds': 0.1, 'times': 3}), ('message_id', '2017-02-07 18:09:13.343400'), ('message_type', 'command'), ('receiver', 'NodeMCU_a1a5c000'), ('reply_to', 'Client_366'), ('sender', 'Client_366')])\n",
      "\n",
      "\n",
      "Sending 306 bytes\n",
      "Message:\n",
      "OrderedDict([('command', 'blink led'), ('correlation_id', '2017-02-07 18:09:13.584000'), ('kwargs', {'forever': False, 'off_seconds': 0.1, 'on_seconds': 0.1, 'times': 3}), ('message_id', '2017-02-07 18:09:13.584000'), ('message_type', 'command'), ('receiver', 'NodeMCU_d1e0a200'), ('reply_to', 'Client_366'), ('sender', 'Client_366')])\n",
      "\n",
      "\n",
      "Sending 304 bytes\n",
      "Message:\n",
      "OrderedDict([('command', 'blink led'), ('correlation_id', '2017-02-07 18:09:13.840000'), ('kwargs', {'forever': False, 'off_seconds': 0.1, 'on_seconds': 0.1, 'times': 3}), ('message_id', '2017-02-07 18:09:13.840000'), ('message_type', 'command'), ('receiver', 'NodeMCU_edca00'), ('reply_to', 'Client_366'), ('sender', 'Client_366')])\n",
      "\n",
      "\n",
      "Sending 306 bytes\n",
      "Message:\n",
      "OrderedDict([('command', 'blink led'), ('correlation_id', '2017-02-07 18:09:13.987200'), ('kwargs', {'forever': False, 'off_seconds': 0.1, 'on_seconds': 0.1, 'times': 3}), ('message_id', '2017-02-07 18:09:13.987200'), ('message_type', 'command'), ('receiver', 'NodeMCU_f1d30800'), ('reply_to', 'Client_366'), ('sender', 'Client_366')])\n",
      "\n"
     ]
    }
   ],
   "source": [
    "print('\\n[______________ Sending messages ______________]\\n')\n",
    "\n",
    "results = []\n",
    "\n",
    "# send out the messages\n",
    "for message in messages.values():\n",
    "    for remote_node in remote_nodes:\n",
    "        if remote_node != the_client.node.worker.name:\n",
    "            time.sleep(0.1)  # PyCharm needs this delay.\n",
    "            formatted_message, asynch_result = the_client.request(remote_node, message)\n",
    "            results.append((formatted_message, asynch_result))"
   ]
  },
  {
   "cell_type": "markdown",
   "metadata": {},
   "source": [
    "### Actually get the results"
   ]
  },
  {
   "cell_type": "code",
   "execution_count": 37,
   "metadata": {
    "collapsed": false
   },
   "outputs": [
    {
     "name": "stdout",
     "output_type": "stream",
     "text": [
      "\n",
      "[_________ Wait few seconds for reply _________]\n",
      "\n",
      "\n",
      "[Result for request]:\n",
      "___Request___:\n",
      "{'correlation_id': '2017-02-07 18:09:11.031200', 'need_result': True, 'sender': 'Client_366', 'receiver': 'NodeMCU_1dsc000', 'command': 'read GPIOs', 'message_type': 'command', 'reply_to': 'Client_366', 'message_id': '2017-02-07 18:09:11.031200', 'kwargs': {'pins': [5, 12, 13, 14, 15, 16]}}\n",
      "___Result____:\n",
      "[[5, 1], [12, 1], [13, 1], [14, 1], [15, 0], [16, 0]]\n",
      "\n",
      "\n",
      "[Result for request]:\n",
      "___Request___:\n",
      "{'correlation_id': '2017-02-07 18:09:11.358200', 'need_result': True, 'sender': 'Client_366', 'receiver': 'NodeMCU_8a00', 'command': 'read GPIOs', 'message_type': 'command', 'reply_to': 'Client_366', 'message_id': '2017-02-07 18:09:11.358200', 'kwargs': {'pins': [5, 12, 13, 14, 15, 16]}}\n",
      "___Result____:\n",
      "[[5, 1], [12, 1], [13, 1], [14, 1], [15, 0], [16, 1]]\n",
      "\n",
      "\n",
      "[Result for request]:\n",
      "___Request___:\n",
      "{'correlation_id': '2017-02-07 18:09:11.624200', 'need_result': True, 'sender': 'Client_366', 'receiver': 'NodeMCU_a1a5c000', 'command': 'read GPIOs', 'message_type': 'command', 'reply_to': 'Client_366', 'message_id': '2017-02-07 18:09:11.624200', 'kwargs': {'pins': [5, 12, 13, 14, 15, 16]}}\n",
      "___Result____:\n",
      "[[5, 1], [12, 1], [13, 1], [14, 1], [15, 0], [16, 0]]\n",
      "\n",
      "\n",
      "[Result for request]:\n",
      "___Request___:\n",
      "{'correlation_id': '2017-02-07 18:09:11.795800', 'need_result': True, 'sender': 'Client_366', 'receiver': 'NodeMCU_d1e0a200', 'command': 'read GPIOs', 'message_type': 'command', 'reply_to': 'Client_366', 'message_id': '2017-02-07 18:09:11.795800', 'kwargs': {'pins': [5, 12, 13, 14, 15, 16]}}\n",
      "___Result____:\n",
      "[[5, 0], [12, 1], [13, 1], [14, 1], [15, 0], [16, 1]]\n",
      "\n",
      "\n",
      "[Result for request]:\n",
      "___Request___:\n",
      "{'correlation_id': '2017-02-07 18:09:11.951400', 'need_result': True, 'sender': 'Client_366', 'receiver': 'NodeMCU_edca00', 'command': 'read GPIOs', 'message_type': 'command', 'reply_to': 'Client_366', 'message_id': '2017-02-07 18:09:11.951400', 'kwargs': {'pins': [5, 12, 13, 14, 15, 16]}}\n",
      "___Result____:\n",
      "[[5, 1], [12, 1], [13, 1], [14, 1], [15, 0], [16, 0]]\n",
      "\n",
      "\n",
      "[Result for request]:\n",
      "___Request___:\n",
      "{'correlation_id': '2017-02-07 18:09:12.354800', 'need_result': True, 'sender': 'Client_366', 'receiver': 'NodeMCU_f1d30800', 'command': 'read GPIOs', 'message_type': 'command', 'reply_to': 'Client_366', 'message_id': '2017-02-07 18:09:12.354800', 'kwargs': {'pins': [5, 12, 13, 14, 15, 16]}}\n",
      "___Result____:\n",
      "[[5, 1], [12, 1], [13, 1], [14, 1], [15, 0], [16, 1]]\n",
      "\n"
     ]
    }
   ],
   "source": [
    "# collect and print results        \n",
    "print('\\n[_________ Wait few seconds for reply _________]\\n')\n",
    "for (message, result) in results:\n",
    "    try:\n",
    "        if message.get('need_result'):\n",
    "            print('\\n[Result for request]:\\n___Request___:\\n{0}\\n___Result____:\\n{1}\\n'.format(message,\n",
    "                                                                                               result.get() if result else None))\n",
    "    except Exception as e:\n",
    "        print('\\n[{}]\\nMessage:\\n{}'.format(e, message))\n",
    "        \n",
    "# Wait a while\n",
    "time.sleep(3)        "
   ]
  },
  {
   "cell_type": "markdown",
   "metadata": {},
   "source": [
    "### Stop the demo"
   ]
  },
  {
   "cell_type": "code",
   "execution_count": 38,
   "metadata": {
    "collapsed": false
   },
   "outputs": [
    {
     "name": "stdout",
     "output_type": "stream",
     "text": [
      "[Closed: ('192.168.0.114', 1883)]\n",
      "\n",
      "[________________ Demo stopped ________________]\n",
      "\n"
     ]
    }
   ],
   "source": [
    "# Stopping\n",
    "the_client.stop()\n",
    "the_client = None\n",
    "print('\\n[________________ Demo stopped ________________]\\n')"
   ]
  }
 ],
 "metadata": {
  "anaconda-cloud": {},
  "kernelspec": {
   "display_name": "Python 3",
   "language": "python",
   "name": "python3"
  },
  "language_info": {
   "codemirror_mode": {
    "name": "ipython",
    "version": 3
   },
   "file_extension": ".py",
   "mimetype": "text/x-python",
   "name": "python",
   "nbconvert_exporter": "python",
   "pygments_lexer": "ipython3",
   "version": "3.5.1"
  }
 },
 "nbformat": 4,
 "nbformat_minor": 0
}

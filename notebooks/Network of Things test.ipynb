{
 "cells": [
  {
   "cell_type": "markdown",
   "metadata": {},
   "source": [
    "# Network of Things test"
   ]
  },
  {
   "cell_type": "markdown",
   "metadata": {},
   "source": [
    "Start a Mosquitto container first. For example:\n",
    "- Use `codes\\_demo\\1_start_broker.sh` to start a Mosquitto container on Raspberry Pi.\n",
    "- Config files are in `mqtt_config\\mqtt`.\n",
    "- set `allow_anonymous true` in `mqtt_config\\mqtt\\config\\mosquitto.conf` to allow anonymous client."
   ]
  },
  {
   "cell_type": "markdown",
   "metadata": {},
   "source": [
    "## Getting Started\n",
    "What this notebook does:  \n",
    "- Using a client on PC\n",
    "- List connected nodes\n",
    "- Send messages to remote nodes:\n",
    " - Return results (read GPIOs)via RPC mechanism.\n",
    " - Write data to remote nodes (write GPIOs).\n",
    " - Execute arbitrary code on remote nodes."
   ]
  },
  {
   "cell_type": "code",
   "execution_count": 16,
   "metadata": {
    "collapsed": false
   },
   "outputs": [],
   "source": [
    "import os\n",
    "import sys\n",
    "import time\n",
    " \n",
    "sys.path.append(os.path.abspath(os.path.join(os.path.pardir, 'codes', 'client')))\n",
    "sys.path.append(os.path.abspath(os.path.join(os.path.pardir, 'codes', 'node')))\n",
    "sys.path.append(os.path.abspath(os.path.join(os.path.pardir, 'codes', 'shared')))\n",
    "sys.path.append(os.path.abspath(os.path.join(os.path.pardir, 'codes', 'micropython')))\n",
    " \n",
    "import client\n",
    "from collections import OrderedDict"
   ]
  },
  {
   "cell_type": "markdown",
   "metadata": {},
   "source": [
    "### Start client"
   ]
  },
  {
   "cell_type": "code",
   "execution_count": 18,
   "metadata": {
    "collapsed": false
   },
   "outputs": [
    {
     "name": "stdout",
     "output_type": "stream",
     "text": [
      "My name is Client_366\n",
      "\n",
      "Sending 277 bytes\n",
      "Message:\n",
      "OrderedDict([('command', 'set connection name'), ('correlation_id', '2017-02-07 15:02:17.079900'), ('kwargs', {'name': 'Client_366'}), ('message_id', '2017-02-07 15:02:17.079900'), ('message_type', 'command'), ('need_result', True), ('receiver', 'Hub'), ('reply_to', 'Client_366'), ('sender', 'Client_366')])\n",
      "\n",
      "\n",
      "[Connected: ('192.168.0.114', 1883)]\n",
      "[Listen to messages]\n",
      "Node not ready yet.\n"
     ]
    }
   ],
   "source": [
    "the_client = client.Client()\n",
    "the_client.start()\n",
    "\n",
    "while not the_client.status['Is connected']:            \n",
    "    time.sleep(1)\n",
    "    print('Node not ready yet.')"
   ]
  },
  {
   "cell_type": "markdown",
   "metadata": {},
   "source": [
    "### Prepare messages"
   ]
  },
  {
   "cell_type": "code",
   "execution_count": 19,
   "metadata": {
    "collapsed": false
   },
   "outputs": [],
   "source": [
    "# messages _____________________________________________\n",
    "messages = OrderedDict()\n",
    "\n",
    "messages['read_GPIOs'] = {'message_type': 'command',\n",
    "                          'command': 'read GPIOs',\n",
    "                          'kwargs': {'pins': [5, 12, 13, 14, 15, 16]},\n",
    "                          'need_result': True}\n",
    "\n",
    "messages['blink_led'] = {'message_type': 'command',\n",
    "                         'command': 'blink led',\n",
    "                         'kwargs': {'times': 3, 'forever': False, 'on_seconds': 0.1, 'off_seconds': 0.1}}"
   ]
  },
  {
   "cell_type": "code",
   "execution_count": 20,
   "metadata": {
    "collapsed": false
   },
   "outputs": [],
   "source": [
    "# messages['write_GPIOs'] = {'message_type': 'command',\n",
    "                           # 'command': 'write GPIOs',\n",
    "                           # 'kwargs': {'pins_and_values': [(2, 0), (2, 1), (2, 0),]}} \n",
    "\n",
    "# messages['test eval'] = {'message_type': 'eval',\n",
    "                         # 'to_evaluate': '2+3',\n",
    "                         # 'need_result': True}                                   \n",
    "\n",
    "# messages['test exec'] = {'message_type': 'exec',\n",
    "                         # 'to_exec': 'print(\"Testing exec !\")'}\n",
    "\n",
    "# with open('script_to_deploy.py') as f:\n",
    "    # script = f.read()        \n",
    "# messages['test upload script'] = {'message_type': 'script', \n",
    "                                  # 'script': script} "
   ]
  },
  {
   "cell_type": "markdown",
   "metadata": {},
   "source": [
    "### List connected nodes"
   ]
  },
  {
   "cell_type": "code",
   "execution_count": 21,
   "metadata": {
    "collapsed": false
   },
   "outputs": [
    {
     "name": "stdout",
     "output_type": "stream",
     "text": [
      "\n",
      "Sending 249 bytes\n",
      "Message:\n",
      "OrderedDict([('correlation_id', '2017-02-07 15:02:29.200900'), ('function', 'check_in'), ('kwargs', {'caller': 'Client_366'}), ('message_id', '2017-02-07 15:02:29.200900'), ('message_type', 'function'), ('receiver', 'Hub'), ('reply_to', 'Client_366'), ('sender', 'Client_366')])\n",
      "\n",
      "\n",
      "Data received: 249 bytes\n",
      "Message:\n",
      "OrderedDict([('correlation_id', '2017-02-07 15:02:29.200900'), ('function', 'check_in'), ('kwargs', {'caller': 'Client_366'}), ('message_id', '2017-02-07 15:02:29.200900'), ('message_type', 'function'), ('receiver', 'Hub'), ('reply_to', 'Client_366'), ('sender', 'Client_366')])\n",
      "\n",
      "\n",
      "Sending 172 bytes\n",
      "\n",
      "Data received: 190 bytes\n",
      "Message:\n",
      "OrderedDict([('function', 'register_contact'), ('kwargs', {'name': 'NodeMCU_f1d30800', 'contact_id': 'NodeMCU_f1d30800'}), ('message_type', 'function'), ('receiver', 'Client_366'), ('sender', 'NodeMCU_f1d30800')])\n",
      "\n",
      "\n",
      "Data received: 178 bytes\n",
      "Message:\n",
      "OrderedDict([('function', 'register_contact'), ('kwargs', {'name': 'NodeMCU_8a00', 'contact_id': 'NodeMCU_8a00'}), ('message_type', 'function'), ('receiver', 'Client_366'), ('sender', 'NodeMCU_8a00')])\n",
      "\n",
      "\n",
      "Data received: 190 bytes\n",
      "Message:\n",
      "OrderedDict([('function', 'register_contact'), ('kwargs', {'name': 'NodeMCU_d1e0a200', 'contact_id': 'NodeMCU_d1e0a200'}), ('message_type', 'function'), ('receiver', 'Client_366'), ('sender', 'NodeMCU_d1e0a200')])\n",
      "\n",
      "\n",
      "Data received: 187 bytes\n",
      "Message:\n",
      "OrderedDict([('function', 'register_contact'), ('kwargs', {'name': 'NodeMCU_1dsc000', 'contact_id': 'NodeMCU_1dsc000'}), ('message_type', 'function'), ('receiver', 'Client_366'), ('sender', 'NodeMCU_1dsc000')])\n",
      "\n",
      "\n",
      "Data received: 190 bytes\n",
      "Message:\n",
      "OrderedDict([('function', 'register_contact'), ('kwargs', {'name': 'NodeMCU_a1a5c000', 'contact_id': 'NodeMCU_a1a5c000'}), ('message_type', 'function'), ('receiver', 'Client_366'), ('sender', 'NodeMCU_a1a5c000')])\n",
      "\n",
      "\n",
      "Data received: 184 bytes\n",
      "Message:\n",
      "OrderedDict([('function', 'register_contact'), ('kwargs', {'name': 'NodeMCU_edca00', 'contact_id': 'NodeMCU_edca00'}), ('message_type', 'function'), ('receiver', 'Client_366'), ('sender', 'NodeMCU_edca00')])\n",
      "\n",
      "\n",
      "Data received: 172 bytes\n",
      "Message:\n",
      "OrderedDict([('function', 'register_contact'), ('kwargs', {'name': 'Client_366', 'contact_id': 'Client_366'}), ('message_type', 'function'), ('receiver', 'Client_366'), ('sender', 'Client_366')])\n",
      "\n",
      "\n",
      "[____________ Connected nodes ____________]\n",
      "\n",
      "\n",
      "Connected nodes:\n",
      "['Client_366', 'NodeMCU_1dsc000', 'NodeMCU_8a00', 'NodeMCU_a1a5c000', 'NodeMCU_d1e0a200', 'NodeMCU_edca00', 'NodeMCU_f1d30800']\n",
      "\n"
     ]
    }
   ],
   "source": [
    "the_client.node.worker.roll_call()\n",
    "time.sleep(2)\n",
    "remote_nodes = sorted(the_client.node.worker.contacts.keys())\n",
    "\n",
    "print('\\n[____________ Connected nodes ____________]\\n')\n",
    "print('\\nConnected nodes:\\n{}\\n'.format(remote_nodes))"
   ]
  },
  {
   "cell_type": "markdown",
   "metadata": {},
   "source": [
    "### Read one GPIO pin"
   ]
  },
  {
   "cell_type": "code",
   "execution_count": 22,
   "metadata": {
    "collapsed": false
   },
   "outputs": [
    {
     "name": "stdout",
     "output_type": "stream",
     "text": [
      "\n",
      "Sending 286 bytes\n",
      "Message:\n",
      "OrderedDict([('command', 'read GPIOs'), ('correlation_id', '2017-02-07 15:02:38.741900'), ('kwargs', {'pins': [5, 12, 13, 14, 15, 16]}), ('message_id', '2017-02-07 15:02:38.741900'), ('message_type', 'command'), ('need_result', True), ('receiver', 'Client_366'), ('reply_to', 'Client_366'), ('sender', 'Client_366')])\n",
      "\n",
      "\n",
      "Data received: 286 bytes\n",
      "Message:\n",
      "OrderedDict([('command', 'read GPIOs'), ('correlation_id', '2017-02-07 15:02:38.741900'), ('kwargs', {'pins': [5, 12, 13, 14, 15, 16]}), ('message_id', '2017-02-07 15:02:38.741900'), ('message_type', 'command'), ('need_result', True), ('receiver', 'Client_366'), ('reply_to', 'Client_366'), ('sender', 'Client_366')])\n",
      "\n",
      "\n",
      "Processed result:\n",
      "OrderedDict([('correlation_id', '2017-02-07 15:02:38.741900'), ('message_id', '2017-02-07 15:02:39.678900'), ('message_type', 'result'), ('receiver', 'Client_366'), ('reply_to', 'Client_366'), ('result', 'Not applicable.'), ('sender', 'Client_366')])\n",
      "\n",
      "\n",
      "Sending 223 bytes\n",
      "Message:\n",
      "OrderedDict([('correlation_id', '2017-02-07 15:02:38.741900'), ('message_id', '2017-02-07 15:02:39.678900'), ('message_type', 'result'), ('receiver', 'Client_366'), ('reply_to', 'Client_366'), ('result', 'Not applicable.'), ('sender', 'Client_366')])\n",
      "\n",
      "\n",
      "Data received: 223 bytes\n",
      "Message:\n",
      "OrderedDict([('correlation_id', '2017-02-07 15:02:38.741900'), ('message_id', '2017-02-07 15:02:39.678900'), ('message_type', 'result'), ('receiver', 'Client_366'), ('reply_to', 'Client_366'), ('result', 'Not applicable.'), ('sender', 'Client_366')])\n",
      "\n",
      "\n",
      "GPIO status for Client_366: Not applicable.\n",
      "\n",
      "\n",
      "Sending 291 bytes\n",
      "Message:\n",
      "OrderedDict([('command', 'read GPIOs'), ('correlation_id', '2017-02-07 15:02:40.711900'), ('kwargs', {'pins': [5, 12, 13, 14, 15, 16]}), ('message_id', '2017-02-07 15:02:40.711900'), ('message_type', 'command'), ('need_result', True), ('receiver', 'NodeMCU_1dsc000'), ('reply_to', 'Client_366'), ('sender', 'Client_366')])\n",
      "\n",
      "\n",
      "Data received: 248 bytes\n",
      "Message:\n",
      "OrderedDict([('correlation_id', '2017-02-07 15:02:40.711900'), ('message_id', '99527'), ('message_type', 'result'), ('receiver', 'Client_366'), ('reply_to', 'NodeMCU_1dsc000'), ('result', [[5, 0], [12, 1], [13, 1], [14, 1], [15, 0], [16, 0]]), ('sender', 'NodeMCU_1dsc000')])\n",
      "\n",
      "GPIO status for NodeMCU_1dsc000: [[5, 0], [12, 1], [13, 1], [14, 1], [15, 0], [16, 0]]\n",
      "\n",
      "\n",
      "Sending 288 bytes\n",
      "\n",
      "Message:\n",
      "OrderedDict([('command', 'read GPIOs'), ('correlation_id', '2017-02-07 15:02:41.966900'), ('kwargs', {'pins': [5, 12, 13, 14, 15, 16]}), ('message_id', '2017-02-07 15:02:41.966900'), ('message_type', 'command'), ('need_result', True), ('receiver', 'NodeMCU_8a00'), ('reply_to', 'Client_366'), ('sender', 'Client_366')])\n",
      "\n",
      "\n",
      "Data received: 242 bytes\n",
      "Message:\n",
      "OrderedDict([('correlation_id', '2017-02-07 15:02:41.966900'), ('message_id', '87412'), ('message_type', 'result'), ('receiver', 'Client_366'), ('reply_to', 'NodeMCU_8a00'), ('result', [[5, 1], [12, 1], [13, 1], [14, 1], [15, 0], [16, 1]]), ('sender', 'NodeMCU_8a00')])\n",
      "\n",
      "\n",
      "GPIO status for NodeMCU_8a00: [[5, 1], [12, 1], [13, 1], [14, 1], [15, 0], [16, 1]]\n",
      "\n",
      "\n",
      "Sending 292 bytes\n",
      "Message:\n",
      "OrderedDict([('command', 'read GPIOs'), ('correlation_id', '2017-02-07 15:02:42.734900'), ('kwargs', {'pins': [5, 12, 13, 14, 15, 16]}), ('message_id', '2017-02-07 15:02:42.734900'), ('message_type', 'command'), ('need_result', True), ('receiver', 'NodeMCU_a1a5c000'), ('reply_to', 'Client_366'), ('sender', 'Client_366')])\n",
      "\n",
      "\n",
      "Data received: 251 bytes\n",
      "GPIO status for NodeMCU_a1a5c000: [[5, 0], [12, 1], [13, 1], [14, 1], [15, 0], [16, 0]]\n",
      "\n",
      "\n",
      "Message:\n",
      "OrderedDict([('correlation_id', '2017-02-07 15:02:42.734900'), ('message_id', '101118'), ('message_type', 'result'), ('receiver', 'Client_366'), ('reply_to', 'NodeMCU_a1a5c000'), ('result', [[5, 0], [12, 1], [13, 1], [14, 1], [15, 0], [16, 0]]), ('sender', 'NodeMCU_a1a5c000')])\n",
      "\n",
      "\n",
      "Sending 292 bytes\n",
      "Message:\n",
      "OrderedDict([('command', 'read GPIOs'), ('correlation_id', '2017-02-07 15:02:43.664900'), ('kwargs', {'pins': [5, 12, 13, 14, 15, 16]}), ('message_id', '2017-02-07 15:02:43.664900'), ('message_type', 'command'), ('need_result', True), ('receiver', 'NodeMCU_d1e0a200'), ('reply_to', 'Client_366'), ('sender', 'Client_366')])\n",
      "\n",
      "\n",
      "Data received: 250 bytes\n",
      "\n",
      "GPIO status for NodeMCU_d1e0a200: [[5, 1], [12, 1], [13, 1], [14, 1], [15, 0], [16, 1]]\n",
      "Message:\n",
      "OrderedDict([('correlation_id', '2017-02-07 15:02:43.664900'), ('message_id', '89198'), ('message_type', 'result'), ('receiver', 'Client_366'), ('reply_to', 'NodeMCU_d1e0a200'), ('result', [[5, 1], [12, 1], [13, 1], [14, 1], [15, 0], [16, 1]]), ('sender', 'NodeMCU_d1e0a200')])\n",
      "\n",
      "\n",
      "\n",
      "Sending 290 bytes\n",
      "Message:\n",
      "OrderedDict([('command', 'read GPIOs'), ('correlation_id', '2017-02-07 15:02:44.696900'), ('kwargs', {'pins': [5, 12, 13, 14, 15, 16]}), ('message_id', '2017-02-07 15:02:44.696900'), ('message_type', 'command'), ('need_result', True), ('receiver', 'NodeMCU_edca00'), ('reply_to', 'Client_366'), ('sender', 'Client_366')])\n",
      "\n",
      "\n",
      "Data received: 246 bytes\n",
      "Message:\n",
      "OrderedDict([('correlation_id', '2017-02-07 15:02:44.696900'), ('message_id', '60224'), ('message_type', 'result'), ('receiver', 'Client_366'), ('reply_to', 'NodeMCU_edca00'), ('result', [[5, 0], [12, 1], [13, 1], [14, 1], [15, 0], [16, 0]]), ('sender', 'NodeMCU_edca00')])\n",
      "\n",
      "\n",
      "GPIO status for NodeMCU_edca00: [[5, 0], [12, 1], [13, 1], [14, 1], [15, 0], [16, 0]]\n",
      "\n",
      "\n",
      "Sending 292 bytes\n",
      "Message:\n",
      "OrderedDict([('command', 'read GPIOs'), ('correlation_id', '2017-02-07 15:02:45.704900'), ('kwargs', {'pins': [5, 12, 13, 14, 15, 16]}), ('message_id', '2017-02-07 15:02:45.704900'), ('message_type', 'command'), ('need_result', True), ('receiver', 'NodeMCU_f1d30800'), ('reply_to', 'Client_366'), ('sender', 'Client_366')])\n",
      "\n",
      "\n",
      "Data received: 251 bytes\n",
      "Message:\n",
      "OrderedDict([('correlation_id', '2017-02-07 15:02:45.704900'), ('message_id', '104128'), ('message_type', 'result'), ('receiver', 'Client_366'), ('reply_to', 'NodeMCU_f1d30800'), ('result', [[5, 1], [12, 1], [13, 1], [14, 1], [15, 0], [16, 1]]), ('sender', 'NodeMCU_f1d30800')])\n",
      "\n",
      "\n",
      "GPIO status for NodeMCU_f1d30800: [[5, 1], [12, 1], [13, 1], [14, 1], [15, 0], [16, 1]]\n",
      "\n"
     ]
    }
   ],
   "source": [
    "for remote_node in remote_nodes:\n",
    "    _, result = the_client.request(remote_node, messages['read_GPIOs']) \n",
    "    print('\\nGPIO status for {}: {}\\n'.format(remote_node, result.get()))"
   ]
  },
  {
   "cell_type": "markdown",
   "metadata": {},
   "source": [
    "### Blink each node\n",
    "[YouTube video clip](https://youtu.be/I_s-no_0L24)"
   ]
  },
  {
   "cell_type": "code",
   "execution_count": 14,
   "metadata": {
    "collapsed": false
   },
   "outputs": [
    {
     "name": "stdout",
     "output_type": "stream",
     "text": [
      "\n",
      "Sending 300 bytes\n",
      "Message:\n",
      "OrderedDict([('command', 'blink led'), ('correlation_id', '2017-02-07 14:56:44.975900'), ('kwargs', {'on_seconds': 0.1, 'off_seconds': 0.1, 'forever': False, 'times': 3}), ('message_id', '2017-02-07 14:56:44.975900'), ('message_type', 'command'), ('receiver', 'Client_366'), ('reply_to', 'Client_366'), ('sender', 'Client_366')])\n",
      "\n",
      "\n",
      "Sending 304 bytes\n",
      "Message:\n",
      "OrderedDict([('command', 'blink led'), ('correlation_id', '2017-02-07 14:56:45.133900'), ('kwargs', {'on_seconds': 0.1, 'off_seconds': 0.1, 'forever': False, 'times': 3}), ('message_id', '2017-02-07 14:56:45.133900'), ('message_type', 'command'), ('receiver', 'NodeMCU_edca00'), ('reply_to', 'Client_366'), ('sender', 'Client_366')])\n",
      "\n",
      "\n",
      "Data received: 300 bytes\n",
      "Message:\n",
      "OrderedDict([('command', 'blink led'), ('correlation_id', '2017-02-07 14:56:44.975900'), ('kwargs', {'on_seconds': 0.1, 'off_seconds': 0.1, 'forever': False, 'times': 3}), ('message_id', '2017-02-07 14:56:44.975900'), ('message_type', 'command'), ('receiver', 'Client_366'), ('reply_to', 'Client_366'), ('sender', 'Client_366')])\n",
      "\n",
      "\n",
      "Data received: 245 bytes\n",
      "Message:\n",
      "OrderedDict([('command', 'set connection name'), ('correlation_id', '7277'), ('kwargs', {'name': 'NodeMCU_edca00'}), ('message_id', '7277'), ('message_type', 'command'), ('need_result', True), ('receiver', 'Hub'), ('reply_to', 'NodeMCU_edca00'), ('sender', 'NodeMCU_edca00')])\n",
      "\n",
      "\n",
      "Data received: 251 bytes\n",
      "Message:\n",
      "OrderedDict([('command', 'set connection name'), ('correlation_id', '8969'), ('kwargs', {'name': 'NodeMCU_f1d30800'}), ('message_id', '8969'), ('message_type', 'command'), ('need_result', True), ('receiver', 'Hub'), ('reply_to', 'NodeMCU_f1d30800'), ('sender', 'NodeMCU_f1d30800')])\n",
      "\n",
      "\n",
      "Data received: 250 bytes\n",
      "Message:\n",
      "OrderedDict([('command', 'set connection name'), ('correlation_id', '11244'), ('kwargs', {'name': 'NodeMCU_1dsc000'}), ('message_id', '11244'), ('message_type', 'command'), ('need_result', True), ('receiver', 'Hub'), ('reply_to', 'NodeMCU_1dsc000'), ('sender', 'NodeMCU_1dsc000')])\n",
      "\n",
      "\n",
      "Data received: 251 bytes\n",
      "Message:\n",
      "OrderedDict([('command', 'set connection name'), ('correlation_id', '6970'), ('kwargs', {'name': 'NodeMCU_f1d30800'}), ('message_id', '6970'), ('message_type', 'command'), ('need_result', True), ('receiver', 'Hub'), ('reply_to', 'NodeMCU_f1d30800'), ('sender', 'NodeMCU_f1d30800')])\n",
      "\n",
      "\n",
      "Data received: 248 bytes\n",
      "Message:\n",
      "OrderedDict([('command', 'set connection name'), ('correlation_id', '8981'), ('kwargs', {'name': 'NodeMCU_1dsc000'}), ('message_id', '8981'), ('message_type', 'command'), ('need_result', True), ('receiver', 'Hub'), ('reply_to', 'NodeMCU_1dsc000'), ('sender', 'NodeMCU_1dsc000')])\n",
      "\n",
      "\n",
      "Data received: 245 bytes\n",
      "Message:\n",
      "OrderedDict([('command', 'set connection name'), ('correlation_id', '9251'), ('kwargs', {'name': 'NodeMCU_edca00'}), ('message_id', '9251'), ('message_type', 'command'), ('need_result', True), ('receiver', 'Hub'), ('reply_to', 'NodeMCU_edca00'), ('sender', 'NodeMCU_edca00')])\n",
      "\n",
      "\n",
      "Data received: 251 bytes\n",
      "Message:\n",
      "OrderedDict([('command', 'set connection name'), ('correlation_id', '9503'), ('kwargs', {'name': 'NodeMCU_a1a5c000'}), ('message_id', '9503'), ('message_type', 'command'), ('need_result', True), ('receiver', 'Hub'), ('reply_to', 'NodeMCU_a1a5c000'), ('sender', 'NodeMCU_a1a5c000')])\n",
      "\n",
      "\n",
      "Data received: 241 bytes\n",
      "Message:\n",
      "OrderedDict([('command', 'set connection name'), ('correlation_id', '19274'), ('kwargs', {'name': 'NodeMCU_8a00'}), ('message_id', '19274'), ('message_type', 'command'), ('need_result', True), ('receiver', 'Hub'), ('reply_to', 'NodeMCU_8a00'), ('sender', 'NodeMCU_8a00')])\n",
      "\n",
      "\n",
      "Data received: 253 bytes\n",
      "Message:\n",
      "OrderedDict([('command', 'set connection name'), ('correlation_id', '20240'), ('kwargs', {'name': 'NodeMCU_d1e0a200'}), ('message_id', '20240'), ('message_type', 'command'), ('need_result', True), ('receiver', 'Hub'), ('reply_to', 'NodeMCU_d1e0a200'), ('sender', 'NodeMCU_d1e0a200')])\n",
      "\n"
     ]
    }
   ],
   "source": [
    "for remote_node in remote_nodes:\n",
    "    the_client.request(remote_node, messages['blink_led']) "
   ]
  },
  {
   "cell_type": "markdown",
   "metadata": {},
   "source": [
    "### Send out messages and get asynchonous results"
   ]
  },
  {
   "cell_type": "code",
   "execution_count": 23,
   "metadata": {
    "collapsed": false
   },
   "outputs": [
    {
     "name": "stdout",
     "output_type": "stream",
     "text": [
      "\n",
      "[______________ Sending messages ______________]\n",
      "\n",
      "\n",
      "Sending 291 bytes\n",
      "Message:\n",
      "OrderedDict([('command', 'read GPIOs'), ('correlation_id', '2017-02-07 15:03:08.566900'), ('kwargs', {'pins': [5, 12, 13, 14, 15, 16]}), ('message_id', '2017-02-07 15:03:08.566900'), ('message_type', 'command'), ('need_result', True), ('receiver', 'NodeMCU_1dsc000'), ('reply_to', 'Client_366'), ('sender', 'Client_366')])\n",
      "\n",
      "\n",
      "Sending 288 bytes\n",
      "Message:\n",
      "OrderedDict([('command', 'read GPIOs'), ('correlation_id', '2017-02-07 15:03:08.890900'), ('kwargs', {'pins': [5, 12, 13, 14, 15, 16]}), ('message_id', '2017-02-07 15:03:08.890900'), ('message_type', 'command'), ('need_result', True), ('receiver', 'NodeMCU_8a00'), ('reply_to', 'Client_366'), ('sender', 'Client_366')])\n",
      "\n",
      "\n",
      "Data received: 249 bytes\n",
      "Message:\n",
      "OrderedDict([('correlation_id', '2017-02-07 15:03:08.566900'), ('message_id', '126958'), ('message_type', 'result'), ('receiver', 'Client_366'), ('reply_to', 'NodeMCU_1dsc000'), ('result', [[5, 0], [12, 1], [13, 1], [14, 1], [15, 0], [16, 0]]), ('sender', 'NodeMCU_1dsc000')])\n",
      "\n",
      "\n",
      "Sending 292 bytes\n",
      "Message:\n",
      "OrderedDict([('command', 'read GPIOs'), ('correlation_id', '2017-02-07 15:03:09.268900'), ('kwargs', {'pins': [5, 12, 13, 14, 15, 16]}), ('message_id', '2017-02-07 15:03:09.268900'), ('message_type', 'command'), ('need_result', True), ('receiver', 'NodeMCU_a1a5c000'), ('reply_to', 'Client_366'), ('sender', 'Client_366')])\n",
      "\n",
      "\n",
      "Data received: 243 bytes\n",
      "Message:\n",
      "OrderedDict([('correlation_id', '2017-02-07 15:03:08.890900'), ('message_id', '114344'), ('message_type', 'result'), ('receiver', 'Client_366'), ('reply_to', 'NodeMCU_8a00'), ('result', [[5, 1], [12, 1], [13, 1], [14, 1], [15, 0], [16, 1]]), ('sender', 'NodeMCU_8a00')])\n",
      "\n",
      "\n",
      "Sending 292 bytes\n",
      "Message:\n",
      "OrderedDict([('command', 'read GPIOs'), ('correlation_id', '2017-02-07 15:03:09.557900'), ('kwargs', {'pins': [5, 12, 13, 14, 15, 16]}), ('message_id', '2017-02-07 15:03:09.557900'), ('message_type', 'command'), ('need_result', True), ('receiver', 'NodeMCU_d1e0a200'), ('reply_to', 'Client_366'), ('sender', 'Client_366')])\n",
      "\n",
      "\n",
      "Sending 290 bytes\n",
      "Message:\n",
      "OrderedDict([('command', 'read GPIOs'), ('correlation_id', '2017-02-07 15:03:09.799900'), ('kwargs', {'pins': [5, 12, 13, 14, 15, 16]}), ('message_id', '2017-02-07 15:03:09.799900'), ('message_type', 'command'), ('need_result', True), ('receiver', 'NodeMCU_edca00'), ('reply_to', 'Client_366'), ('sender', 'Client_366')])\n",
      "\n",
      "\n",
      "Data received: 251 bytes\n",
      "Message:\n",
      "OrderedDict([('correlation_id', '2017-02-07 15:03:09.268900'), ('message_id', '127726'), ('message_type', 'result'), ('receiver', 'Client_366'), ('reply_to', 'NodeMCU_a1a5c000'), ('result', [[5, 0], [12, 1], [13, 1], [14, 1], [15, 0], [16, 0]]), ('sender', 'NodeMCU_a1a5c000')])\n",
      "\n",
      "\n",
      "Sending 292 bytes\n",
      "Message:\n",
      "OrderedDict([('command', 'read GPIOs'), ('correlation_id', '2017-02-07 15:03:10.158900'), ('kwargs', {'pins': [5, 12, 13, 14, 15, 16]}), ('message_id', '2017-02-07 15:03:10.158900'), ('message_type', 'command'), ('need_result', True), ('receiver', 'NodeMCU_f1d30800'), ('reply_to', 'Client_366'), ('sender', 'Client_366')])\n",
      "\n",
      "\n",
      "Data received: 251 bytes\n",
      "Message:\n",
      "OrderedDict([('correlation_id', '2017-02-07 15:03:09.557900'), ('message_id', '115046'), ('message_type', 'result'), ('receiver', 'Client_366'), ('reply_to', 'NodeMCU_d1e0a200'), ('result', [[5, 1], [12, 1], [13, 1], [14, 1], [15, 0], [16, 1]]), ('sender', 'NodeMCU_d1e0a200')])\n",
      "\n",
      "\n",
      "Sending 305 bytes\n",
      "Message:\n",
      "OrderedDict([('command', 'blink led'), ('correlation_id', '2017-02-07 15:03:10.424900'), ('kwargs', {'on_seconds': 0.1, 'off_seconds': 0.1, 'forever': False, 'times': 3}), ('message_id', '2017-02-07 15:03:10.424900'), ('message_type', 'command'), ('receiver', 'NodeMCU_1dsc000'), ('reply_to', 'Client_366'), ('sender', 'Client_366')])\n",
      "\n",
      "\n",
      "Data received: 246 bytes\n",
      "Message:\n",
      "OrderedDict([('correlation_id', '2017-02-07 15:03:09.799900'), ('message_id', '85339'), ('message_type', 'result'), ('receiver', 'Client_366'), ('reply_to', 'NodeMCU_edca00'), ('result', [[5, 0], [12, 1], [13, 1], [14, 1], [15, 0], [16, 0]]), ('sender', 'NodeMCU_edca00')])\n",
      "\n",
      "\n",
      "Sending 302 bytes\n",
      "Message:\n",
      "OrderedDict([('command', 'blink led'), ('correlation_id', '2017-02-07 15:03:10.821900'), ('kwargs', {'on_seconds': 0.1, 'off_seconds': 0.1, 'forever': False, 'times': 3}), ('message_id', '2017-02-07 15:03:10.821900'), ('message_type', 'command'), ('receiver', 'NodeMCU_8a00'), ('reply_to', 'Client_366'), ('sender', 'Client_366')])\n",
      "\n",
      "\n",
      "Data received: 251 bytes\n",
      "Message:\n",
      "OrderedDict([('correlation_id', '2017-02-07 15:03:10.158900'), ('message_id', '128531'), ('message_type', 'result'), ('receiver', 'Client_366'), ('reply_to', 'NodeMCU_f1d30800'), ('result', [[5, 1], [12, 1], [13, 1], [14, 1], [15, 0], [16, 1]]), ('sender', 'NodeMCU_f1d30800')])\n",
      "\n",
      "\n",
      "Sending 306 bytes\n",
      "Message:\n",
      "OrderedDict([('command', 'blink led'), ('correlation_id', '2017-02-07 15:03:11.123900'), ('kwargs', {'on_seconds': 0.1, 'off_seconds': 0.1, 'forever': False, 'times': 3}), ('message_id', '2017-02-07 15:03:11.123900'), ('message_type', 'command'), ('receiver', 'NodeMCU_a1a5c000'), ('reply_to', 'Client_366'), ('sender', 'Client_366')])\n",
      "\n",
      "\n",
      "Sending 306 bytes\n",
      "Message:\n",
      "OrderedDict([('command', 'blink led'), ('correlation_id', '2017-02-07 15:03:11.438900'), ('kwargs', {'on_seconds': 0.1, 'off_seconds': 0.1, 'forever': False, 'times': 3}), ('message_id', '2017-02-07 15:03:11.438900'), ('message_type', 'command'), ('receiver', 'NodeMCU_d1e0a200'), ('reply_to', 'Client_366'), ('sender', 'Client_366')])\n",
      "\n",
      "\n",
      "Sending 304 bytes\n",
      "Message:\n",
      "OrderedDict([('command', 'blink led'), ('correlation_id', '2017-02-07 15:03:11.762900'), ('kwargs', {'on_seconds': 0.1, 'off_seconds': 0.1, 'forever': False, 'times': 3}), ('message_id', '2017-02-07 15:03:11.762900'), ('message_type', 'command'), ('receiver', 'NodeMCU_edca00'), ('reply_to', 'Client_366'), ('sender', 'Client_366')])\n",
      "\n",
      "\n",
      "Sending 306 bytes\n",
      "Message:\n",
      "OrderedDict([('command', 'blink led'), ('correlation_id', '2017-02-07 15:03:12.056900'), ('kwargs', {'on_seconds': 0.1, 'off_seconds': 0.1, 'forever': False, 'times': 3}), ('message_id', '2017-02-07 15:03:12.056900'), ('message_type', 'command'), ('receiver', 'NodeMCU_f1d30800'), ('reply_to', 'Client_366'), ('sender', 'Client_366')])\n",
      "\n"
     ]
    }
   ],
   "source": [
    "print('\\n[______________ Sending messages ______________]\\n')\n",
    "\n",
    "results = []\n",
    "\n",
    "# send out the messages\n",
    "for message in messages.values():\n",
    "    for remote_node in remote_nodes:\n",
    "        if remote_node != the_client.node.worker.name:\n",
    "            time.sleep(0.1)  # PyCharm needs this delay.\n",
    "            formatted_message, asynch_result = the_client.request(remote_node, message)\n",
    "            results.append((formatted_message, asynch_result))"
   ]
  },
  {
   "cell_type": "markdown",
   "metadata": {},
   "source": [
    "### Actually get the results"
   ]
  },
  {
   "cell_type": "code",
   "execution_count": 24,
   "metadata": {
    "collapsed": false
   },
   "outputs": [
    {
     "name": "stdout",
     "output_type": "stream",
     "text": [
      "\n",
      "[_________ Wait few seconds for reply _________]\n",
      "\n",
      "\n",
      "[Result for request]:\n",
      "___Request___:\n",
      "{'message_id': '2017-02-07 15:03:08.566900', 'need_result': True, 'command': 'read GPIOs', 'kwargs': {'pins': [5, 12, 13, 14, 15, 16]}, 'receiver': 'NodeMCU_1dsc000', 'message_type': 'command', 'reply_to': 'Client_366', 'correlation_id': '2017-02-07 15:03:08.566900', 'sender': 'Client_366'}\n",
      "___Result____:\n",
      "[[5, 0], [12, 1], [13, 1], [14, 1], [15, 0], [16, 0]]\n",
      "\n",
      "\n",
      "[Result for request]:\n",
      "___Request___:\n",
      "{'message_id': '2017-02-07 15:03:08.890900', 'need_result': True, 'command': 'read GPIOs', 'kwargs': {'pins': [5, 12, 13, 14, 15, 16]}, 'receiver': 'NodeMCU_8a00', 'message_type': 'command', 'reply_to': 'Client_366', 'correlation_id': '2017-02-07 15:03:08.890900', 'sender': 'Client_366'}\n",
      "___Result____:\n",
      "[[5, 1], [12, 1], [13, 1], [14, 1], [15, 0], [16, 1]]\n",
      "\n",
      "\n",
      "[Result for request]:\n",
      "___Request___:\n",
      "{'message_id': '2017-02-07 15:03:09.268900', 'need_result': True, 'command': 'read GPIOs', 'kwargs': {'pins': [5, 12, 13, 14, 15, 16]}, 'receiver': 'NodeMCU_a1a5c000', 'message_type': 'command', 'reply_to': 'Client_366', 'correlation_id': '2017-02-07 15:03:09.268900', 'sender': 'Client_366'}\n",
      "___Result____:\n",
      "[[5, 0], [12, 1], [13, 1], [14, 1], [15, 0], [16, 0]]\n",
      "\n",
      "\n",
      "[Result for request]:\n",
      "___Request___:\n",
      "{'message_id': '2017-02-07 15:03:09.557900', 'need_result': True, 'command': 'read GPIOs', 'kwargs': {'pins': [5, 12, 13, 14, 15, 16]}, 'receiver': 'NodeMCU_d1e0a200', 'message_type': 'command', 'reply_to': 'Client_366', 'correlation_id': '2017-02-07 15:03:09.557900', 'sender': 'Client_366'}\n",
      "___Result____:\n",
      "[[5, 1], [12, 1], [13, 1], [14, 1], [15, 0], [16, 1]]\n",
      "\n",
      "\n",
      "[Result for request]:\n",
      "___Request___:\n",
      "{'message_id': '2017-02-07 15:03:09.799900', 'need_result': True, 'command': 'read GPIOs', 'kwargs': {'pins': [5, 12, 13, 14, 15, 16]}, 'receiver': 'NodeMCU_edca00', 'message_type': 'command', 'reply_to': 'Client_366', 'correlation_id': '2017-02-07 15:03:09.799900', 'sender': 'Client_366'}\n",
      "___Result____:\n",
      "[[5, 0], [12, 1], [13, 1], [14, 1], [15, 0], [16, 0]]\n",
      "\n",
      "\n",
      "[Result for request]:\n",
      "___Request___:\n",
      "{'message_id': '2017-02-07 15:03:10.158900', 'need_result': True, 'command': 'read GPIOs', 'kwargs': {'pins': [5, 12, 13, 14, 15, 16]}, 'receiver': 'NodeMCU_f1d30800', 'message_type': 'command', 'reply_to': 'Client_366', 'correlation_id': '2017-02-07 15:03:10.158900', 'sender': 'Client_366'}\n",
      "___Result____:\n",
      "[[5, 1], [12, 1], [13, 1], [14, 1], [15, 0], [16, 1]]\n",
      "\n"
     ]
    }
   ],
   "source": [
    "# collect and print results        \n",
    "print('\\n[_________ Wait few seconds for reply _________]\\n')\n",
    "for (message, result) in results:\n",
    "    try:\n",
    "        if message.get('need_result'):\n",
    "            print('\\n[Result for request]:\\n___Request___:\\n{0}\\n___Result____:\\n{1}\\n'.format(message,\n",
    "                                                                                               result.get() if result else None))\n",
    "    except Exception as e:\n",
    "        print('\\n[{}]\\nMessage:\\n{}'.format(e, message))\n",
    "        \n",
    "# Wait a while\n",
    "time.sleep(3)        "
   ]
  },
  {
   "cell_type": "markdown",
   "metadata": {},
   "source": [
    "### Stop the demo"
   ]
  },
  {
   "cell_type": "code",
   "execution_count": 25,
   "metadata": {
    "collapsed": false
   },
   "outputs": [
    {
     "name": "stdout",
     "output_type": "stream",
     "text": [
      "[Closed: ('192.168.0.114', 1883)]\n",
      "[________________ Demo stopped ________________]\n",
      "\n",
      "\n"
     ]
    }
   ],
   "source": [
    "# Stopping\n",
    "the_client.stop()\n",
    "the_client = None\n",
    "print('\\n[________________ Demo stopped ________________]\\n')"
   ]
  },
  {
   "cell_type": "code",
   "execution_count": null,
   "metadata": {
    "collapsed": true
   },
   "outputs": [],
   "source": []
  }
 ],
 "metadata": {
  "anaconda-cloud": {},
  "kernelspec": {
   "display_name": "Python 3",
   "language": "python",
   "name": "python3"
  },
  "language_info": {
   "codemirror_mode": {
    "name": "ipython",
    "version": 3
   },
   "file_extension": ".py",
   "mimetype": "text/x-python",
   "name": "python",
   "nbconvert_exporter": "python",
   "pygments_lexer": "ipython3",
   "version": "3.5.1"
  }
 },
 "nbformat": 4,
 "nbformat_minor": 0
}

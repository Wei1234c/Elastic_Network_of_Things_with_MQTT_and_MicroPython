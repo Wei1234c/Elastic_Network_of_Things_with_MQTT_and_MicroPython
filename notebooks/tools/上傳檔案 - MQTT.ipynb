{
 "cells": [
  {
   "cell_type": "markdown",
   "metadata": {},
   "source": [
    "# 上傳檔案 - MQTT"
   ]
  },
  {
   "cell_type": "markdown",
   "metadata": {},
   "source": [
    "### 需先安裝 ampy ( Adafruit MicroPython Tool )\n",
    "#### pip install adafruit-ampy\n",
    "https://github.com/adafruit/ampy  "
   ]
  },
  {
   "cell_type": "code",
   "execution_count": 1,
   "metadata": {},
   "outputs": [],
   "source": [
    "import os, sys\n",
    "sys.path.append(os.path.join('..', '..', '..', '..', '..', ))\n",
    "\n",
    "import ampy_utils\n",
    "# with open(os.path.join('..', '..', '..', '..', '..', 'ampy_utils.py'), 'r') as f:\n",
    "#     print(f.read())"
   ]
  },
  {
   "cell_type": "markdown",
   "metadata": {},
   "source": [
    "---\n",
    "<font color='blue'>\n",
    "### 設定COM port (set current COM port), baud rate"
   ]
  },
  {
   "cell_type": "code",
   "execution_count": 2,
   "metadata": {},
   "outputs": [],
   "source": [
    "ampy_utils.baud_rate = 115200\n",
    "ampy_utils.com_port = 'COM3'\n",
    "# ampy_utils.com_port = '/dev/ttyUSB0'"
   ]
  },
  {
   "cell_type": "markdown",
   "metadata": {},
   "source": [
    "### Load utility functions"
   ]
  },
  {
   "cell_type": "code",
   "execution_count": 3,
   "metadata": {},
   "outputs": [],
   "source": [
    "from ampy_utils import *"
   ]
  },
  {
   "cell_type": "markdown",
   "metadata": {},
   "source": [
    "<font color='blue'>\n",
    "### Copy files and folders to device"
   ]
  },
  {
   "cell_type": "code",
   "execution_count": 5,
   "metadata": {},
   "outputs": [
    {
     "name": "stdout",
     "output_type": "stream",
     "text": [
      "\n",
      "[Formatting file system on device COM3]\n",
      "\n",
      "[Clearing folder upload\\py]\n",
      "\n",
      "[Copying all files to upload folder upload\\py]\n",
      "\n",
      "[Copying all files to device COM3]\n",
      "Deleting ['main.py', 'main.mpy']\n",
      "Copying file: asynch_result.py\n",
      "Copying file: boot.py\n",
      "Copying file: commander.py\n",
      "Copying file: config_mqtt.py\n",
      "Copying file: config_mqtt_local.py\n",
      "Copying file: data_transceiver.py\n",
      "Copying file: hardware.py\n",
      "Copying file: led.py\n",
      "Copying file: mqtt_client_paho.py\n",
      "Copying file: mqtt_client_umqtt.py\n",
      "Copying file: node.py\n",
      "Copying file: phonebook.py\n",
      "Copying file: queue_manager.py\n",
      "Copying file: robust.py\n",
      "Copying file: simple.py\n",
      "Copying file: socket_client.py\n",
      "Copying file: u_python.py\n",
      "Copying file: u_python_profiler.py\n",
      "Copying file: watchdog.py\n",
      "Copying file: webrepl_cfg.py\n",
      "Copying file: worker.py\n",
      "Copying file: worker_config.py\n",
      "Copying file: worker_cpython.py\n",
      "Copying file: worker_neuron.py\n",
      "Copying file: worker_neuron_20170516.py\n",
      "Copying file: worker_upython.py\n",
      "Copying file: main.py\n",
      "\n",
      "[Copying all folders to device COM3]\n",
      "\n",
      "[All done!]\n"
     ]
    }
   ],
   "source": [
    "root_folders = [os.path.sep.join(['..', '..', 'codes', 'micropython']),\n",
    "                os.path.sep.join(['..', '..', 'codes', 'micropython_mqtt']),\n",
    "                os.path.sep.join(['..', '..', 'codes', 'node']),\n",
    "                os.path.sep.join(['..', '..', 'codes', 'shared']),]\n",
    "folders = []\n",
    "\n",
    "format_put_files_folders(root_folders = root_folders,\n",
    "                         folders = folders, \n",
    "                         format_first = True)"
   ]
  },
  {
   "cell_type": "markdown",
   "metadata": {},
   "source": [
    "### 單一檔案上傳 (single file upload, in case needed)"
   ]
  },
  {
   "cell_type": "code",
   "execution_count": 5,
   "metadata": {},
   "outputs": [],
   "source": [
    "# copy_one_file_to_device(os.path.sep.join(['..', '..', 'codes', 'micropython']), 'main.py')"
   ]
  },
  {
   "cell_type": "code",
   "execution_count": 6,
   "metadata": {},
   "outputs": [],
   "source": [
    "# copy_one_file_to_device(os.path.sep.join(['..', '..', 'codes', 'shared']), 'config_mqtt.py')"
   ]
  },
  {
   "cell_type": "code",
   "execution_count": 7,
   "metadata": {},
   "outputs": [],
   "source": [
    "# copy_one_file_to_device(os.path.sep.join(['..', '..', '..', 'dmz']), 'config_mqtt.py')"
   ]
  },
  {
   "cell_type": "code",
   "execution_count": 8,
   "metadata": {},
   "outputs": [],
   "source": [
    "# copy_one_file_to_device(os.path.sep.join(['..', '..', 'codes', 'node']), 'node.py')"
   ]
  },
  {
   "cell_type": "markdown",
   "metadata": {},
   "source": [
    "### 列出檔案 (list files)"
   ]
  },
  {
   "cell_type": "code",
   "execution_count": 9,
   "metadata": {},
   "outputs": [],
   "source": [
    "# list_files_in_device()"
   ]
  },
  {
   "cell_type": "markdown",
   "metadata": {},
   "source": [
    "### 檢查檔案內容 (check file content)"
   ]
  },
  {
   "cell_type": "code",
   "execution_count": 10,
   "metadata": {},
   "outputs": [],
   "source": [
    "# cat_file_from_device('main.py')"
   ]
  },
  {
   "cell_type": "markdown",
   "metadata": {},
   "source": [
    "### 連網測試 (network config and test)"
   ]
  },
  {
   "cell_type": "code",
   "execution_count": 11,
   "metadata": {},
   "outputs": [],
   "source": [
    "# 連上網路\n",
    "# import network; nic=network.WLAN(network.STA_IF); nic.active(False);  # disable network\n",
    "# import network; nic=network.WLAN(network.STA_IF); nic.active(True); nic.connect('SSID','password');nic.ifconfig()\n",
    "# import network; nic=network.WLAN(network.STA_IF); nic.ifconfig()\n",
    "# import network; nic=network.WLAN(network.STA_IF);nic.ifconfig();nic.config('mac');nic.ifconfig((['mac',])"
   ]
  },
  {
   "cell_type": "markdown",
   "metadata": {},
   "source": [
    "### Run Broker container on Raspberry Pi\n",
    "copy folder 'codes' to Raspberry Pi under folder '/data/elastic_network_of_things_with_micropython',  \n",
    "so Raspberry Pi has folder '/data/elastic_network_of_things_with_micropython/codes'  \n",
    "then run the command below on Raspberry Pi.\n",
    "\n",
    "```\n",
    "docker run -it -p 9662:9662 --name=Broker --hostname=Broker --volume=/data/elastic_network_of_things_with_micropython:/project wei1234c/python_armv7 /bin/sh -c \"cd /project/codes/broker && python3 broker.py\" \n",
    "```"
   ]
  }
 ],
 "metadata": {
  "anaconda-cloud": {},
  "kernelspec": {
   "display_name": "Python 3",
   "language": "python",
   "name": "python3"
  },
  "language_info": {
   "codemirror_mode": {
    "name": "ipython",
    "version": 3
   },
   "file_extension": ".py",
   "mimetype": "text/x-python",
   "name": "python",
   "nbconvert_exporter": "python",
   "pygments_lexer": "ipython3",
   "version": "3.6.5"
  }
 },
 "nbformat": 4,
 "nbformat_minor": 1
}

{
 "cells": [
  {
   "cell_type": "markdown",
   "metadata": {},
   "source": [
    "# 上傳檔案到 NodeMCU (Upload files to NodeMCU)"
   ]
  },
  {
   "cell_type": "markdown",
   "metadata": {},
   "source": [
    "### 需先安裝 ampy ( Adafruit MicroPython Tool )\n",
    "#### pip install adafruit-ampy\n",
    "https://github.com/adafruit/ampy"
   ]
  },
  {
   "cell_type": "code",
   "execution_count": null,
   "metadata": {
    "collapsed": true
   },
   "outputs": [],
   "source": [
    "import os\n",
    "import shutil"
   ]
  },
  {
   "cell_type": "markdown",
   "metadata": {},
   "source": [
    "### 設定COM port (set current COM port)"
   ]
  },
  {
   "cell_type": "code",
   "execution_count": null,
   "metadata": {
    "collapsed": true
   },
   "outputs": [],
   "source": [
    "com_port = 'COM12'\n",
    "com_port = 'COM13'\n",
    "# com_port = 'COM15'"
   ]
  },
  {
   "cell_type": "markdown",
   "metadata": {},
   "source": [
    "### Utility functions"
   ]
  },
  {
   "cell_type": "code",
   "execution_count": null,
   "metadata": {
    "collapsed": false
   },
   "outputs": [],
   "source": [
    "def clear_local_folder(folder):\n",
    "    print('\\n[Clearing folder {}]'.format(folder))\n",
    "    for file in os.listdir(folder):\n",
    "        os.remove(os.path.join(folder, file))\n",
    "        \n",
    "        \n",
    "def copy_one_file_to_local_folder(folder, file, destination_folder):\n",
    "    print('Copying {} to {}'.format(file, destination_folder))\n",
    "    shutil.copy(os.path.join(folder, file), destination_folder)\n",
    "    \n",
    "    \n",
    "def copy_all_files_to_local_folder(folders, destination_folder):\n",
    "    print('\\n[Copying all files to upload folder {}]'.format(destination_folder))\n",
    "    clear_local_folder(destination_folder)    \n",
    "    \n",
    "    for folder in folders: \n",
    "        for file in os.listdir(folder):\n",
    "            if (file.endswith('.py') or file.endswith('.mpy')) and not file.startswith('_'):\n",
    "                copy_one_file_to_local_folder(folder, file, destination_folder)"
   ]
  },
  {
   "cell_type": "code",
   "execution_count": null,
   "metadata": {
    "collapsed": false
   },
   "outputs": [],
   "source": [
    "def list_files_in_device(com_port):\n",
    "    files = !ampy --port {com_port} ls\n",
    "    return files\n",
    "\n",
    "\n",
    "def cat_file_from_device(com_port, file):\n",
    "    !ampy --port {com_port} get {file}\n",
    "    \n",
    "\n",
    "def delete_file_in_device(com_port, file):\n",
    "    print('Deleting {}'.format(file))\n",
    "    !ampy --port {com_port} rm {file}\n",
    "    \n",
    "\n",
    "def delete_files_in_device(com_port):\n",
    "    print('\\n[Deleting all files in device {}]'.format(com_port))\n",
    "    for file in list_files_in_device(com_port):\n",
    "        delete_file_in_device(com_port, file)\n",
    "        \n",
    "        \n",
    "def copy_one_file_to_device(com_port, folder, file, mpy_only = False):\n",
    "    if mpy_only:\n",
    "        if file.endswith('.mpy'):\n",
    "            print('Copying {}'.format(file))\n",
    "            !ampy --port {com_port} put {os.path.join(folder, file)}  \n",
    "    elif file.endswith('.py'):\n",
    "        print('Copying {}'.format(file))\n",
    "        !ampy --port {com_port} put {os.path.join(folder, file)}   \n",
    "        \n",
    "\n",
    "def delet_main_in_device(com_port, main_file_names):\n",
    "    print('Deleting {}'.format(main_file_names))\n",
    "    files = list_files_in_device(com_port)\n",
    "\n",
    "    for file in main_file_names:\n",
    "        if file in files:\n",
    "            delete_file_in_device(com_port, file)\n",
    "            \n",
    "            \n",
    "def delete_main_and_files_in_device(com_port, main_file_names = ['main.py', 'main.mpy'], delete_first = True, mpy_only = False):\n",
    "    print('\\n[Copying all files to device {}]'.format(com_port))\n",
    "    delet_main_in_device(com_port, main_file_names)\n",
    "    if mpy_only: delete_first = True\n",
    "    if delete_first: delete_files_in_device(com_port)\n",
    "        \n",
    "\n",
    "def copy_all_files_to_device(com_port, folder, main_file_names = ['main.py', 'main.mpy'], delete_first = True, mpy_only = False):    \n",
    "    for file in os.listdir(folder):\n",
    "        if (file.endswith('.py') or file.endswith('.mpy')) and not file.startswith('_') and not file in main_file_names:\n",
    "            copy_one_file_to_device(com_port, folder, file, mpy_only)                    \n",
    "    \n",
    "    for file in main_file_names:\n",
    "        if os.path.isfile(os.path.join(folder, file)):\n",
    "            copy_one_file_to_device(com_port, folder, file, mpy_only)  \n",
    "            \n",
    "            \n",
    "def do_all_to_device(com_port, folder, main_file_names = ['main.py', 'main.mpy'], delete_first = True, mpy_only = False):\n",
    "    delete_main_and_files_in_device(com_port, main_file_names, delete_first, mpy_only)\n",
    "    copy_all_files_to_device(com_port, folder, main_file_names, delete_first, mpy_only)"
   ]
  },
  {
   "cell_type": "markdown",
   "metadata": {},
   "source": [
    "### Copy *.py to device (all needed fils will be put in the same folder)"
   ]
  },
  {
   "cell_type": "code",
   "execution_count": null,
   "metadata": {
    "collapsed": false,
    "scrolled": true
   },
   "outputs": [],
   "source": [
    "folders = ['..\\\\..\\\\codes\\\\micropython', '..\\\\..\\\\codes\\\\micropython_mqtt', '..\\\\..\\\\codes\\\\node', '..\\\\..\\\\codes\\\\shared']\n",
    "upload_folder = 'upload\\\\py'\n",
    "\n",
    "copy_all_files_to_local_folder(folders, upload_folder)\n",
    "do_all_to_device(com_port, upload_folder)\n",
    "\n",
    "print('\\n[All done!]')"
   ]
  },
  {
   "cell_type": "code",
   "execution_count": null,
   "metadata": {
    "collapsed": false,
    "scrolled": false
   },
   "outputs": [],
   "source": [
    "upload_folder_py = 'upload\\\\py'\n",
    "\n",
    "do_all_to_device(com_port, upload_folder, delete_first = True)\n",
    "\n",
    "print('\\n[All done!]')"
   ]
  },
  {
   "cell_type": "markdown",
   "metadata": {},
   "source": [
    "### Copy *.mpy to device"
   ]
  },
  {
   "cell_type": "code",
   "execution_count": null,
   "metadata": {
    "collapsed": false,
    "scrolled": false
   },
   "outputs": [],
   "source": [
    "upload_folder_py = 'upload\\\\py'\n",
    "upload_folder_mpy = 'upload\\\\mpy'\n",
    "\n",
    "do_all_to_device(com_port, upload_folder_mpy, mpy_only = True)\n",
    "\n",
    "copy_one_file_to_device(com_port, upload_folder_py, 'boot.py')\n",
    "copy_one_file_to_device(com_port, upload_folder_py, 'main.py')\n",
    "\n",
    "print('\\n[All done!]')"
   ]
  },
  {
   "cell_type": "markdown",
   "metadata": {},
   "source": [
    "### 單一檔案上傳 (single file upload, in case needed)"
   ]
  },
  {
   "cell_type": "code",
   "execution_count": null,
   "metadata": {
    "collapsed": false
   },
   "outputs": [],
   "source": [
    "copy_one_file_to_device(com_port, '..\\\\..\\\\..\\\\dmz', 'config.py') "
   ]
  },
  {
   "cell_type": "code",
   "execution_count": null,
   "metadata": {
    "collapsed": false
   },
   "outputs": [],
   "source": [
    "copy_one_file_to_device(com_port, '..\\\\..\\\\codes\\\\node', 'node.py') "
   ]
  },
  {
   "cell_type": "code",
   "execution_count": null,
   "metadata": {
    "collapsed": false
   },
   "outputs": [],
   "source": [
    "copy_one_file_to_device(com_port, 'upload\\\\py', 'node.py') "
   ]
  },
  {
   "cell_type": "code",
   "execution_count": null,
   "metadata": {
    "collapsed": false
   },
   "outputs": [],
   "source": [
    "copy_one_file_to_device(com_port, '..\\\\..\\\\codes\\\\shared', 'config.py') "
   ]
  },
  {
   "cell_type": "code",
   "execution_count": null,
   "metadata": {
    "collapsed": false
   },
   "outputs": [],
   "source": [
    "copy_one_file_to_device(com_port, '..\\\\..\\\\codes\\\\shared', 'commander.py') "
   ]
  },
  {
   "cell_type": "code",
   "execution_count": null,
   "metadata": {
    "collapsed": false
   },
   "outputs": [],
   "source": [
    "copy_one_file_to_device(com_port, '..\\\\..\\\\codes\\\\micropython', 'main.py') "
   ]
  },
  {
   "cell_type": "markdown",
   "metadata": {},
   "source": [
    "### 列出檔案 (list files)"
   ]
  },
  {
   "cell_type": "code",
   "execution_count": null,
   "metadata": {
    "collapsed": false
   },
   "outputs": [],
   "source": [
    "list_files_in_device(com_port)"
   ]
  },
  {
   "cell_type": "markdown",
   "metadata": {},
   "source": [
    "### 檢查檔案內容 (check file content)"
   ]
  },
  {
   "cell_type": "code",
   "execution_count": null,
   "metadata": {
    "collapsed": false
   },
   "outputs": [],
   "source": [
    "# cat_file_from_device(com_port, 'config.py')"
   ]
  },
  {
   "cell_type": "code",
   "execution_count": null,
   "metadata": {
    "collapsed": false
   },
   "outputs": [],
   "source": [
    "# cat_file_from_device(com_port, 'main.py')"
   ]
  },
  {
   "cell_type": "markdown",
   "metadata": {},
   "source": [
    "### 連網測試 (network config and test)"
   ]
  },
  {
   "cell_type": "code",
   "execution_count": null,
   "metadata": {
    "collapsed": true
   },
   "outputs": [],
   "source": [
    "# 連上網路\n",
    "# import network; nic=network.WLAN(network.STA_IF); nic.active(True); nic.connect('SSID','password');nic.ifconfig()\n",
    "# import network; nic=network.WLAN(network.STA_IF); nic.active(True); nic.connect('Kingnet-70M-$370', '');nic.ifconfig()\n",
    "# import network; nic=network.WLAN(network.STA_IF); nic.ifconfig()\n",
    "# import network; nic=network.WLAN(network.STA_IF);nic.ifconfig();nic.config('mac');nic.ifconfig((['mac',])"
   ]
  },
  {
   "cell_type": "code",
   "execution_count": null,
   "metadata": {
    "collapsed": true
   },
   "outputs": [],
   "source": [
    "# 發出 http request\n",
    "# import socket;addr=socket.getaddrinfo('micropython.org',80)[0][-1]\n",
    "# s = socket.socket();s.connect(addr);s.send(b'GET / HTTP/1.1\\r\\nHost: micropython.org\\r\\n\\r\\n');data = s.recv(1000);s.close()"
   ]
  },
  {
   "cell_type": "code",
   "execution_count": null,
   "metadata": {
    "collapsed": true
   },
   "outputs": [],
   "source": [
    "# Delete all files\n",
    "# import u_python;u_python.del_all_files();import os;os.listdir()\n"
   ]
  },
  {
   "cell_type": "markdown",
   "metadata": {},
   "source": [
    "### Run Broker container on Raspberry Pi\n",
    "copy folder 'codes' to Raspberry Pi under folder '/data/elastic_network_of_things_with_micropython',  \n",
    "so Raspberry Pi has folder '/data/elastic_network_of_things_with_micropython/codes'  \n",
    "then run the command below on Raspberry Pi.\n",
    "\n",
    "```\n",
    "docker run -it -p 9662:9662 --name=Broker --hostname=Broker --volume=/data/elastic_network_of_things_with_micropython:/project wei1234c/python_armv7 /bin/sh -c \"cd /project/codes/broker && python3 broker.py\" \n",
    "```"
   ]
  }
 ],
 "metadata": {
  "anaconda-cloud": {},
  "kernelspec": {
   "display_name": "Python 3",
   "language": "python",
   "name": "python3"
  },
  "language_info": {
   "codemirror_mode": {
    "name": "ipython",
    "version": 3
   },
   "file_extension": ".py",
   "mimetype": "text/x-python",
   "name": "python",
   "nbconvert_exporter": "python",
   "pygments_lexer": "ipython3",
   "version": "3.5.1"
  }
 },
 "nbformat": 4,
 "nbformat_minor": 0
}

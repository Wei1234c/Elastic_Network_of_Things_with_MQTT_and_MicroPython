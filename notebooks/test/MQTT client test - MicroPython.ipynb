{
 "cells": [
  {
   "cell_type": "markdown",
   "metadata": {},
   "source": [
    "# MQTT client test - MicroPython\n",
    "https://github.com/micropython/micropython-lib/tree/master/umqtt.simple  \n",
    "https://github.com/micropython/micropython-lib/tree/master/umqtt.robust  \n",
    "https://github.com/cclai999/micropython-lab/blob/master/remote_contorl_via_mqtt.py  \n",
    "http://www.hivemq.com/blog/mqtt-essentials-part2-publish-subscribe  \n",
    "http://www.hivemq.com/blog/mqtt-essentials-part-6-mqtt-quality-of-service-levels  \n",
    "http://www.hivemq.com/blog/mqtt-essentials-part-5-mqtt-topics-best-practices  \n",
    "http://docs.oasis-open.org/mqtt/mqtt/v3.1.1/os/mqtt-v3.1.1-os.html#_Toc398718072  \n",
    "https://github.com/cclai999/micropython-lab/blob/master/remote_contorl_via_mqtt.py  "
   ]
  },
  {
   "cell_type": "markdown",
   "metadata": {},
   "source": [
    "Start a Mosquitto container first. For example:\n",
    "- Use `codes\\_demo\\1_start_broker.sh` to start a Mosquitto container on Raspberry Pi.\n",
    "- Config files are in `mqtt_config\\mqtt`.\n",
    "- set `allow_anonymous true` in `mqtt_config\\mqtt\\config\\mosquitto.conf` to allow anonymous client."
   ]
  },
  {
   "cell_type": "markdown",
   "metadata": {},
   "source": [
    "## Getting Started\n",
    "This script only work with MicroPython.  \n",
    "Using [MQTT client module for MicroPython](https://github.com/micropython/micropython-lib/tree/master/umqtt.simple)."
   ]
  },
  {
   "cell_type": "code",
   "execution_count": null,
   "metadata": {
    "collapsed": false
   },
   "outputs": [],
   "source": [
    "import time\n",
    "import config\n",
    "import worker_config\n",
    "\n",
    "host = config.BROKER_HOST\n",
    "port = config.HUB_PORT\n",
    "topic_root = \"test\"\n",
    "client_id = worker_config.WORKER_NAME\n",
    "auth = {'username': config.USERNAME,\n",
    "        'password': config.PASSWORD}\n",
    "qos_level = config.QOS_LEVEL\n",
    "\n",
    "\n",
    "import simple as mqtt\n",
    "# import robust as mqtt\n",
    "\n",
    "client = mqtt.MQTTClient(client_id = client_id, \n",
    "                         server = host, \n",
    "                         port = port, \n",
    "                         user = config.USERNAME, \n",
    "                         password = config.PASSWORD, \n",
    "                         keepalive = 60,\n",
    "                         ssl = False, ssl_params = {})\n",
    "\n",
    "\n",
    "topic = topic_root\n",
    "msg = 'last will'\n",
    "client.set_last_will(topic, msg, retain = False, qos = 1)\n",
    "\n",
    "client.connect(clean_session = True)\n",
    "client.ping()\n",
    "\n",
    "\n",
    "# _________________________________________\n",
    "def on_message(topic, msg):\n",
    "    print('Message topic: {}, payload: {}'.format(topic, str(msg)))\n",
    "#     print('Message:\\n{}\\n'.format(msg.__dict__))\n",
    "\n",
    "client.set_callback(on_message)    \n",
    "client.subscribe(topic_root, qos = 1) \n",
    "# client.subscribe(\"$SYS/broker/messages/#\", qos = 1) \n",
    "# client.subscribe(\"$SYS/broker/clients/connected\", qos = 1) \n",
    "client.subscribe('$SYS/broker/log/#', qos = 1)\n",
    "\n",
    "topic = topic_root\n",
    "msg = 'Hello world'\n",
    "client.publish(topic, msg, retain = False, qos = 1)\n",
    "\n",
    "while True:\n",
    "    time.sleep(1)\n",
    "    client.wait_msg()\n",
    "    client.check_msg()\n"
   ]
  },
  {
   "cell_type": "code",
   "execution_count": null,
   "metadata": {
    "collapsed": true
   },
   "outputs": [],
   "source": [
    "client.disconnect()\n",
    "client = None\n"
   ]
  }
 ],
 "metadata": {
  "anaconda-cloud": {},
  "kernelspec": {
   "display_name": "Python 3",
   "language": "python",
   "name": "python3"
  },
  "language_info": {
   "codemirror_mode": {
    "name": "ipython",
    "version": 3
   },
   "file_extension": ".py",
   "mimetype": "text/x-python",
   "name": "python",
   "nbconvert_exporter": "python",
   "pygments_lexer": "ipython3",
   "version": "3.5.1"
  }
 },
 "nbformat": 4,
 "nbformat_minor": 0
}
